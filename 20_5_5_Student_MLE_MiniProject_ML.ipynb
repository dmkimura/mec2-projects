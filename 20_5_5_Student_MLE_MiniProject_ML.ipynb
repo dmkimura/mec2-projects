{
  "cells": [
    {
      "cell_type": "markdown",
      "metadata": {
        "id": "Yzr5Eo_qxHQi"
      },
      "source": [
        "# Mini Project: Build a Machine Learning Model"
      ]
    },
    {
      "cell_type": "markdown",
      "metadata": {
        "id": "_NvUsqw8xg26"
      },
      "source": [
        "## Predict Total Fare on the NYC Taxi Dataset\n",
        "\n",
        "Welcome to the NYC Taxi Fare Prediction project! In this Colab, we will continue using the NYC Taxi Dataset to predict the fare amount for taxi rides using a subset of available features. We will go through three main stages: building a baseline model, creating a full model, and performing hyperparameter tuning to enhance our predictions.\n",
        "\n",
        "The previous EDA work on the NYC Taxi Dataset can be found in the [16.3.3. Student MLE MiniProject EDA](https://github.com/dmkimura/mec2-projects/blob/main/16.3.3_Student_MLE_MiniProject_EDA.ipynb) Jupyter notebook.\n",
        "\n",
        "Now that you've completed exploratory data analysis on this dataset you should have a good understanding of the feature space.\n",
        "\n",
        "## Project Objectives\n",
        "\n",
        "The primary objectives of this project are as follows:\n",
        "\n",
        "Baseline Model: We will start by building a simple baseline model to establish a benchmark for our predictions. This model will serve as a starting point to compare the performance of our subsequent models.\n",
        "\n",
        "Full Model: Next, we will develop a more comprehensive model that leverages machine learning techniques to improve prediction accuracy. We will use Scikit-Learn's model pipeline to build a framework that enables rapid experimentation.\n",
        "\n",
        "Hyperparameter Tuning: Lastly, we will optimize our full model by fine-tuning its hyperparameters. By systematically adjusting the parameters that control model behavior, we aim to achieve the best possible performance for our prediction task."
      ]
    },
    {
      "cell_type": "code",
      "execution_count": 65,
      "metadata": {
        "id": "lbJFWLELlI6N"
      },
      "outputs": [],
      "source": [
        "import pandas as pd\n",
        "import numpy as np\n",
        "import matplotlib.pyplot as plt\n",
        "from sklearn.model_selection import train_test_split, GridSearchCV\n",
        "from sklearn.metrics import mean_absolute_error\n",
        "\n",
        "from sklearn.pipeline import Pipeline\n",
        "from sklearn.preprocessing import StandardScaler, OneHotEncoder, FunctionTransformer\n",
        "from sklearn.compose import ColumnTransformer\n",
        "from sklearn.linear_model import LinearRegression\n",
        "from sklearn.ensemble import RandomForestRegressor"
      ]
    },
    {
      "cell_type": "markdown",
      "metadata": {
        "id": "gJtGZwwG2WTW"
      },
      "source": [
        "Load the NYC taxi dataset into a Pandas DataFrame and do a few basic checks to ensure the data is loaded properly. Note, there are several months of data that can be used. For simplicity, use the Yellow Taxi 2022-01 parquet file [here](https://d37ci6vzurychx.cloudfront.net/trip-data/yellow_tripdata_2022-01.parquet). Here are your tasks:\n",
        "\n",
        "  1. Load the `yellow_tripdata_2022-01.parquet` file into Pandas.\n",
        "  2. Print the first 5 rows of data.\n",
        "  3. Drop any rows of data that contain NULL values.\n",
        "  4. Create a new feature, 'trip_duration' that captures the duration of the trip in minutes.\n",
        "  5. Create a varible named 'target_variable' to store the name of the thing we're trying to predict, 'total_amount'.\n",
        "  6. Create a list called 'feature_cols' containing the feature names that we'll be using to predict our target variable. The list should contain 'VendorID', 'trip_distance', 'payment_type', 'PULocationID', 'DOLocationID', and 'trip_duration'."
      ]
    },
    {
      "cell_type": "code",
      "execution_count": 66,
      "metadata": {
        "id": "db--eb8zlNNg"
      },
      "outputs": [],
      "source": [
        "# Load the dataset into a pandas DataFrame (from https://www.nyc.gov/site/tlc/about/tlc-trip-record-data.page)\n",
        "df = pd.read_parquet(\n",
        "    'https://d37ci6vzurychx.cloudfront.net/trip-data/yellow_tripdata_2022-01.parquet')"
      ]
    },
    {
      "cell_type": "code",
      "execution_count": 67,
      "metadata": {
        "id": "TslBuHoXl_o1",
        "outputId": "c531d1c4-400c-4d3c-a995-0138d06e8030",
        "colab": {
          "base_uri": "https://localhost:8080/",
          "height": 226
        }
      },
      "outputs": [
        {
          "output_type": "execute_result",
          "data": {
            "text/plain": [
              "   VendorID tpep_pickup_datetime tpep_dropoff_datetime  passenger_count  \\\n",
              "0         1  2022-01-01 00:35:40   2022-01-01 00:53:29              2.0   \n",
              "1         1  2022-01-01 00:33:43   2022-01-01 00:42:07              1.0   \n",
              "2         2  2022-01-01 00:53:21   2022-01-01 01:02:19              1.0   \n",
              "3         2  2022-01-01 00:25:21   2022-01-01 00:35:23              1.0   \n",
              "4         2  2022-01-01 00:36:48   2022-01-01 01:14:20              1.0   \n",
              "\n",
              "   trip_distance  RatecodeID store_and_fwd_flag  PULocationID  DOLocationID  \\\n",
              "0           3.80         1.0                  N           142           236   \n",
              "1           2.10         1.0                  N           236            42   \n",
              "2           0.97         1.0                  N           166           166   \n",
              "3           1.09         1.0                  N           114            68   \n",
              "4           4.30         1.0                  N            68           163   \n",
              "\n",
              "   payment_type  fare_amount  extra  mta_tax  tip_amount  tolls_amount  \\\n",
              "0             1         14.5    3.0      0.5        3.65           0.0   \n",
              "1             1          8.0    0.5      0.5        4.00           0.0   \n",
              "2             1          7.5    0.5      0.5        1.76           0.0   \n",
              "3             2          8.0    0.5      0.5        0.00           0.0   \n",
              "4             1         23.5    0.5      0.5        3.00           0.0   \n",
              "\n",
              "   improvement_surcharge  total_amount  congestion_surcharge  airport_fee  \n",
              "0                    0.3         21.95                   2.5          0.0  \n",
              "1                    0.3         13.30                   0.0          0.0  \n",
              "2                    0.3         10.56                   0.0          0.0  \n",
              "3                    0.3         11.80                   2.5          0.0  \n",
              "4                    0.3         30.30                   2.5          0.0  "
            ],
            "text/html": [
              "\n",
              "  <div id=\"df-07313f53-0dc4-47dd-bda0-aeec01a188e7\" class=\"colab-df-container\">\n",
              "    <div>\n",
              "<style scoped>\n",
              "    .dataframe tbody tr th:only-of-type {\n",
              "        vertical-align: middle;\n",
              "    }\n",
              "\n",
              "    .dataframe tbody tr th {\n",
              "        vertical-align: top;\n",
              "    }\n",
              "\n",
              "    .dataframe thead th {\n",
              "        text-align: right;\n",
              "    }\n",
              "</style>\n",
              "<table border=\"1\" class=\"dataframe\">\n",
              "  <thead>\n",
              "    <tr style=\"text-align: right;\">\n",
              "      <th></th>\n",
              "      <th>VendorID</th>\n",
              "      <th>tpep_pickup_datetime</th>\n",
              "      <th>tpep_dropoff_datetime</th>\n",
              "      <th>passenger_count</th>\n",
              "      <th>trip_distance</th>\n",
              "      <th>RatecodeID</th>\n",
              "      <th>store_and_fwd_flag</th>\n",
              "      <th>PULocationID</th>\n",
              "      <th>DOLocationID</th>\n",
              "      <th>payment_type</th>\n",
              "      <th>fare_amount</th>\n",
              "      <th>extra</th>\n",
              "      <th>mta_tax</th>\n",
              "      <th>tip_amount</th>\n",
              "      <th>tolls_amount</th>\n",
              "      <th>improvement_surcharge</th>\n",
              "      <th>total_amount</th>\n",
              "      <th>congestion_surcharge</th>\n",
              "      <th>airport_fee</th>\n",
              "    </tr>\n",
              "  </thead>\n",
              "  <tbody>\n",
              "    <tr>\n",
              "      <th>0</th>\n",
              "      <td>1</td>\n",
              "      <td>2022-01-01 00:35:40</td>\n",
              "      <td>2022-01-01 00:53:29</td>\n",
              "      <td>2.0</td>\n",
              "      <td>3.80</td>\n",
              "      <td>1.0</td>\n",
              "      <td>N</td>\n",
              "      <td>142</td>\n",
              "      <td>236</td>\n",
              "      <td>1</td>\n",
              "      <td>14.5</td>\n",
              "      <td>3.0</td>\n",
              "      <td>0.5</td>\n",
              "      <td>3.65</td>\n",
              "      <td>0.0</td>\n",
              "      <td>0.3</td>\n",
              "      <td>21.95</td>\n",
              "      <td>2.5</td>\n",
              "      <td>0.0</td>\n",
              "    </tr>\n",
              "    <tr>\n",
              "      <th>1</th>\n",
              "      <td>1</td>\n",
              "      <td>2022-01-01 00:33:43</td>\n",
              "      <td>2022-01-01 00:42:07</td>\n",
              "      <td>1.0</td>\n",
              "      <td>2.10</td>\n",
              "      <td>1.0</td>\n",
              "      <td>N</td>\n",
              "      <td>236</td>\n",
              "      <td>42</td>\n",
              "      <td>1</td>\n",
              "      <td>8.0</td>\n",
              "      <td>0.5</td>\n",
              "      <td>0.5</td>\n",
              "      <td>4.00</td>\n",
              "      <td>0.0</td>\n",
              "      <td>0.3</td>\n",
              "      <td>13.30</td>\n",
              "      <td>0.0</td>\n",
              "      <td>0.0</td>\n",
              "    </tr>\n",
              "    <tr>\n",
              "      <th>2</th>\n",
              "      <td>2</td>\n",
              "      <td>2022-01-01 00:53:21</td>\n",
              "      <td>2022-01-01 01:02:19</td>\n",
              "      <td>1.0</td>\n",
              "      <td>0.97</td>\n",
              "      <td>1.0</td>\n",
              "      <td>N</td>\n",
              "      <td>166</td>\n",
              "      <td>166</td>\n",
              "      <td>1</td>\n",
              "      <td>7.5</td>\n",
              "      <td>0.5</td>\n",
              "      <td>0.5</td>\n",
              "      <td>1.76</td>\n",
              "      <td>0.0</td>\n",
              "      <td>0.3</td>\n",
              "      <td>10.56</td>\n",
              "      <td>0.0</td>\n",
              "      <td>0.0</td>\n",
              "    </tr>\n",
              "    <tr>\n",
              "      <th>3</th>\n",
              "      <td>2</td>\n",
              "      <td>2022-01-01 00:25:21</td>\n",
              "      <td>2022-01-01 00:35:23</td>\n",
              "      <td>1.0</td>\n",
              "      <td>1.09</td>\n",
              "      <td>1.0</td>\n",
              "      <td>N</td>\n",
              "      <td>114</td>\n",
              "      <td>68</td>\n",
              "      <td>2</td>\n",
              "      <td>8.0</td>\n",
              "      <td>0.5</td>\n",
              "      <td>0.5</td>\n",
              "      <td>0.00</td>\n",
              "      <td>0.0</td>\n",
              "      <td>0.3</td>\n",
              "      <td>11.80</td>\n",
              "      <td>2.5</td>\n",
              "      <td>0.0</td>\n",
              "    </tr>\n",
              "    <tr>\n",
              "      <th>4</th>\n",
              "      <td>2</td>\n",
              "      <td>2022-01-01 00:36:48</td>\n",
              "      <td>2022-01-01 01:14:20</td>\n",
              "      <td>1.0</td>\n",
              "      <td>4.30</td>\n",
              "      <td>1.0</td>\n",
              "      <td>N</td>\n",
              "      <td>68</td>\n",
              "      <td>163</td>\n",
              "      <td>1</td>\n",
              "      <td>23.5</td>\n",
              "      <td>0.5</td>\n",
              "      <td>0.5</td>\n",
              "      <td>3.00</td>\n",
              "      <td>0.0</td>\n",
              "      <td>0.3</td>\n",
              "      <td>30.30</td>\n",
              "      <td>2.5</td>\n",
              "      <td>0.0</td>\n",
              "    </tr>\n",
              "  </tbody>\n",
              "</table>\n",
              "</div>\n",
              "    <div class=\"colab-df-buttons\">\n",
              "\n",
              "  <div class=\"colab-df-container\">\n",
              "    <button class=\"colab-df-convert\" onclick=\"convertToInteractive('df-07313f53-0dc4-47dd-bda0-aeec01a188e7')\"\n",
              "            title=\"Convert this dataframe to an interactive table.\"\n",
              "            style=\"display:none;\">\n",
              "\n",
              "  <svg xmlns=\"http://www.w3.org/2000/svg\" height=\"24px\" viewBox=\"0 -960 960 960\">\n",
              "    <path d=\"M120-120v-720h720v720H120Zm60-500h600v-160H180v160Zm220 220h160v-160H400v160Zm0 220h160v-160H400v160ZM180-400h160v-160H180v160Zm440 0h160v-160H620v160ZM180-180h160v-160H180v160Zm440 0h160v-160H620v160Z\"/>\n",
              "  </svg>\n",
              "    </button>\n",
              "\n",
              "  <style>\n",
              "    .colab-df-container {\n",
              "      display:flex;\n",
              "      gap: 12px;\n",
              "    }\n",
              "\n",
              "    .colab-df-convert {\n",
              "      background-color: #E8F0FE;\n",
              "      border: none;\n",
              "      border-radius: 50%;\n",
              "      cursor: pointer;\n",
              "      display: none;\n",
              "      fill: #1967D2;\n",
              "      height: 32px;\n",
              "      padding: 0 0 0 0;\n",
              "      width: 32px;\n",
              "    }\n",
              "\n",
              "    .colab-df-convert:hover {\n",
              "      background-color: #E2EBFA;\n",
              "      box-shadow: 0px 1px 2px rgba(60, 64, 67, 0.3), 0px 1px 3px 1px rgba(60, 64, 67, 0.15);\n",
              "      fill: #174EA6;\n",
              "    }\n",
              "\n",
              "    .colab-df-buttons div {\n",
              "      margin-bottom: 4px;\n",
              "    }\n",
              "\n",
              "    [theme=dark] .colab-df-convert {\n",
              "      background-color: #3B4455;\n",
              "      fill: #D2E3FC;\n",
              "    }\n",
              "\n",
              "    [theme=dark] .colab-df-convert:hover {\n",
              "      background-color: #434B5C;\n",
              "      box-shadow: 0px 1px 3px 1px rgba(0, 0, 0, 0.15);\n",
              "      filter: drop-shadow(0px 1px 2px rgba(0, 0, 0, 0.3));\n",
              "      fill: #FFFFFF;\n",
              "    }\n",
              "  </style>\n",
              "\n",
              "    <script>\n",
              "      const buttonEl =\n",
              "        document.querySelector('#df-07313f53-0dc4-47dd-bda0-aeec01a188e7 button.colab-df-convert');\n",
              "      buttonEl.style.display =\n",
              "        google.colab.kernel.accessAllowed ? 'block' : 'none';\n",
              "\n",
              "      async function convertToInteractive(key) {\n",
              "        const element = document.querySelector('#df-07313f53-0dc4-47dd-bda0-aeec01a188e7');\n",
              "        const dataTable =\n",
              "          await google.colab.kernel.invokeFunction('convertToInteractive',\n",
              "                                                    [key], {});\n",
              "        if (!dataTable) return;\n",
              "\n",
              "        const docLinkHtml = 'Like what you see? Visit the ' +\n",
              "          '<a target=\"_blank\" href=https://colab.research.google.com/notebooks/data_table.ipynb>data table notebook</a>'\n",
              "          + ' to learn more about interactive tables.';\n",
              "        element.innerHTML = '';\n",
              "        dataTable['output_type'] = 'display_data';\n",
              "        await google.colab.output.renderOutput(dataTable, element);\n",
              "        const docLink = document.createElement('div');\n",
              "        docLink.innerHTML = docLinkHtml;\n",
              "        element.appendChild(docLink);\n",
              "      }\n",
              "    </script>\n",
              "  </div>\n",
              "\n",
              "\n",
              "<div id=\"df-21d71f3f-c3a4-4168-a97b-daee04ad3996\">\n",
              "  <button class=\"colab-df-quickchart\" onclick=\"quickchart('df-21d71f3f-c3a4-4168-a97b-daee04ad3996')\"\n",
              "            title=\"Suggest charts\"\n",
              "            style=\"display:none;\">\n",
              "\n",
              "<svg xmlns=\"http://www.w3.org/2000/svg\" height=\"24px\"viewBox=\"0 0 24 24\"\n",
              "     width=\"24px\">\n",
              "    <g>\n",
              "        <path d=\"M19 3H5c-1.1 0-2 .9-2 2v14c0 1.1.9 2 2 2h14c1.1 0 2-.9 2-2V5c0-1.1-.9-2-2-2zM9 17H7v-7h2v7zm4 0h-2V7h2v10zm4 0h-2v-4h2v4z\"/>\n",
              "    </g>\n",
              "</svg>\n",
              "  </button>\n",
              "\n",
              "<style>\n",
              "  .colab-df-quickchart {\n",
              "      --bg-color: #E8F0FE;\n",
              "      --fill-color: #1967D2;\n",
              "      --hover-bg-color: #E2EBFA;\n",
              "      --hover-fill-color: #174EA6;\n",
              "      --disabled-fill-color: #AAA;\n",
              "      --disabled-bg-color: #DDD;\n",
              "  }\n",
              "\n",
              "  [theme=dark] .colab-df-quickchart {\n",
              "      --bg-color: #3B4455;\n",
              "      --fill-color: #D2E3FC;\n",
              "      --hover-bg-color: #434B5C;\n",
              "      --hover-fill-color: #FFFFFF;\n",
              "      --disabled-bg-color: #3B4455;\n",
              "      --disabled-fill-color: #666;\n",
              "  }\n",
              "\n",
              "  .colab-df-quickchart {\n",
              "    background-color: var(--bg-color);\n",
              "    border: none;\n",
              "    border-radius: 50%;\n",
              "    cursor: pointer;\n",
              "    display: none;\n",
              "    fill: var(--fill-color);\n",
              "    height: 32px;\n",
              "    padding: 0;\n",
              "    width: 32px;\n",
              "  }\n",
              "\n",
              "  .colab-df-quickchart:hover {\n",
              "    background-color: var(--hover-bg-color);\n",
              "    box-shadow: 0 1px 2px rgba(60, 64, 67, 0.3), 0 1px 3px 1px rgba(60, 64, 67, 0.15);\n",
              "    fill: var(--button-hover-fill-color);\n",
              "  }\n",
              "\n",
              "  .colab-df-quickchart-complete:disabled,\n",
              "  .colab-df-quickchart-complete:disabled:hover {\n",
              "    background-color: var(--disabled-bg-color);\n",
              "    fill: var(--disabled-fill-color);\n",
              "    box-shadow: none;\n",
              "  }\n",
              "\n",
              "  .colab-df-spinner {\n",
              "    border: 2px solid var(--fill-color);\n",
              "    border-color: transparent;\n",
              "    border-bottom-color: var(--fill-color);\n",
              "    animation:\n",
              "      spin 1s steps(1) infinite;\n",
              "  }\n",
              "\n",
              "  @keyframes spin {\n",
              "    0% {\n",
              "      border-color: transparent;\n",
              "      border-bottom-color: var(--fill-color);\n",
              "      border-left-color: var(--fill-color);\n",
              "    }\n",
              "    20% {\n",
              "      border-color: transparent;\n",
              "      border-left-color: var(--fill-color);\n",
              "      border-top-color: var(--fill-color);\n",
              "    }\n",
              "    30% {\n",
              "      border-color: transparent;\n",
              "      border-left-color: var(--fill-color);\n",
              "      border-top-color: var(--fill-color);\n",
              "      border-right-color: var(--fill-color);\n",
              "    }\n",
              "    40% {\n",
              "      border-color: transparent;\n",
              "      border-right-color: var(--fill-color);\n",
              "      border-top-color: var(--fill-color);\n",
              "    }\n",
              "    60% {\n",
              "      border-color: transparent;\n",
              "      border-right-color: var(--fill-color);\n",
              "    }\n",
              "    80% {\n",
              "      border-color: transparent;\n",
              "      border-right-color: var(--fill-color);\n",
              "      border-bottom-color: var(--fill-color);\n",
              "    }\n",
              "    90% {\n",
              "      border-color: transparent;\n",
              "      border-bottom-color: var(--fill-color);\n",
              "    }\n",
              "  }\n",
              "</style>\n",
              "\n",
              "  <script>\n",
              "    async function quickchart(key) {\n",
              "      const quickchartButtonEl =\n",
              "        document.querySelector('#' + key + ' button');\n",
              "      quickchartButtonEl.disabled = true;  // To prevent multiple clicks.\n",
              "      quickchartButtonEl.classList.add('colab-df-spinner');\n",
              "      try {\n",
              "        const charts = await google.colab.kernel.invokeFunction(\n",
              "            'suggestCharts', [key], {});\n",
              "      } catch (error) {\n",
              "        console.error('Error during call to suggestCharts:', error);\n",
              "      }\n",
              "      quickchartButtonEl.classList.remove('colab-df-spinner');\n",
              "      quickchartButtonEl.classList.add('colab-df-quickchart-complete');\n",
              "    }\n",
              "    (() => {\n",
              "      let quickchartButtonEl =\n",
              "        document.querySelector('#df-21d71f3f-c3a4-4168-a97b-daee04ad3996 button');\n",
              "      quickchartButtonEl.style.display =\n",
              "        google.colab.kernel.accessAllowed ? 'block' : 'none';\n",
              "    })();\n",
              "  </script>\n",
              "</div>\n",
              "\n",
              "    </div>\n",
              "  </div>\n"
            ],
            "application/vnd.google.colaboratory.intrinsic+json": {
              "type": "dataframe",
              "variable_name": "df"
            }
          },
          "metadata": {},
          "execution_count": 67
        }
      ],
      "source": [
        "# Display the first few rows of the dataset\n",
        "df.head()"
      ]
    },
    {
      "cell_type": "markdown",
      "source": [
        "### Data Cleaning\n",
        "\n",
        "Remove missing values."
      ],
      "metadata": {
        "id": "34SpSjL2loJY"
      }
    },
    {
      "cell_type": "code",
      "execution_count": 68,
      "metadata": {
        "id": "4ybS7HV6HHQL",
        "outputId": "2b367e25-9eb1-45ba-a007-0668a5999fad",
        "colab": {
          "base_uri": "https://localhost:8080/"
        }
      },
      "outputs": [
        {
          "output_type": "stream",
          "name": "stdout",
          "text": [
            "Current missing values:\n",
            "VendorID                     0\n",
            "tpep_pickup_datetime         0\n",
            "tpep_dropoff_datetime        0\n",
            "passenger_count          71503\n",
            "trip_distance                0\n",
            "RatecodeID               71503\n",
            "store_and_fwd_flag       71503\n",
            "PULocationID                 0\n",
            "DOLocationID                 0\n",
            "payment_type                 0\n",
            "fare_amount                  0\n",
            "extra                        0\n",
            "mta_tax                      0\n",
            "tip_amount                   0\n",
            "tolls_amount                 0\n",
            "improvement_surcharge        0\n",
            "total_amount                 0\n",
            "congestion_surcharge     71503\n",
            "airport_fee              71503\n",
            "dtype: int64\n",
            "\n",
            "After removing missing values:\n",
            "VendorID                 0\n",
            "tpep_pickup_datetime     0\n",
            "tpep_dropoff_datetime    0\n",
            "passenger_count          0\n",
            "trip_distance            0\n",
            "RatecodeID               0\n",
            "store_and_fwd_flag       0\n",
            "PULocationID             0\n",
            "DOLocationID             0\n",
            "payment_type             0\n",
            "fare_amount              0\n",
            "extra                    0\n",
            "mta_tax                  0\n",
            "tip_amount               0\n",
            "tolls_amount             0\n",
            "improvement_surcharge    0\n",
            "total_amount             0\n",
            "congestion_surcharge     0\n",
            "airport_fee              0\n",
            "dtype: int64\n"
          ]
        }
      ],
      "source": [
        "# Drop rows with missing values.\n",
        "print(f'Current missing values:\\n{df.isna().sum()}')\n",
        "\n",
        "df.dropna(inplace=True)\n",
        "\n",
        "print(f'\\nAfter removing missing values:\\n{df.isna().sum()}')\n",
        "#df.head()"
      ]
    },
    {
      "cell_type": "markdown",
      "source": [
        "### Feature engineering.\n",
        "* create new feature called 'trip_duration'\n",
        "* remove datetime features"
      ],
      "metadata": {
        "id": "O35EQd1tl9uH"
      }
    },
    {
      "cell_type": "markdown",
      "source": [
        "**Create new feature**\n",
        "\n",
        "The new feature will calculate the duration of each taxi ride in minutes based on the tpep_dropoff_datetime and tpep_pickup_datetime features."
      ],
      "metadata": {
        "id": "QLNQhohompwE"
      }
    },
    {
      "cell_type": "code",
      "execution_count": 69,
      "metadata": {
        "id": "ZC4p9PEjnSm8",
        "outputId": "95b20448-8de7-4136-e3c0-dde8194a27f7",
        "colab": {
          "base_uri": "https://localhost:8080/"
        }
      },
      "outputs": [
        {
          "output_type": "stream",
          "name": "stdout",
          "text": [
            "   VendorID      tpep_pickup_datetime     tpep_dropoff_datetime  \\\n",
            "0         1 2022-01-01 00:35:40-05:00 2022-01-01 00:53:29-05:00   \n",
            "1         1 2022-01-01 00:33:43-05:00 2022-01-01 00:42:07-05:00   \n",
            "2         2 2022-01-01 00:53:21-05:00 2022-01-01 01:02:19-05:00   \n",
            "\n",
            "   passenger_count  trip_distance  RatecodeID store_and_fwd_flag  \\\n",
            "0              2.0           3.80         1.0                  N   \n",
            "1              1.0           2.10         1.0                  N   \n",
            "2              1.0           0.97         1.0                  N   \n",
            "\n",
            "   PULocationID  DOLocationID  payment_type  fare_amount  extra  mta_tax  \\\n",
            "0           142           236             1         14.5    3.0      0.5   \n",
            "1           236            42             1          8.0    0.5      0.5   \n",
            "2           166           166             1          7.5    0.5      0.5   \n",
            "\n",
            "   tip_amount  tolls_amount  improvement_surcharge  total_amount  \\\n",
            "0        3.65           0.0                    0.3         21.95   \n",
            "1        4.00           0.0                    0.3         13.30   \n",
            "2        1.76           0.0                    0.3         10.56   \n",
            "\n",
            "   congestion_surcharge  airport_fee  trip_duration  \n",
            "0                   2.5          0.0      17.816667  \n",
            "1                   0.0          0.0       8.400000  \n",
            "2                   0.0          0.0       8.966667  \n"
          ]
        }
      ],
      "source": [
        "# Create new feature, 'trip_duration'.\n",
        "\n",
        "# from previous EDA, columns with datetime values are in UTC time\n",
        "# will convert datetime values from UTC to New York time zone\n",
        "df['tpep_pickup_datetime'] = df[\n",
        "    'tpep_pickup_datetime'].dt.tz_localize('America/New_York', ambiguous='NaT')\n",
        "\n",
        "df['tpep_dropoff_datetime'] = df[\n",
        "    'tpep_dropoff_datetime'].dt.tz_localize('America/New_York', ambiguous='NaT')\n",
        "\n",
        "# create variable with trip duration based on drop off and pickup times\n",
        "trip_duration = df['tpep_dropoff_datetime'] - df['tpep_pickup_datetime']\n",
        "\n",
        "# create new df column for trip duration expressed in minutes\n",
        "df['trip_duration'] = trip_duration.dt.total_seconds() / 60\n",
        "\n",
        "print(df.head(3))"
      ]
    },
    {
      "cell_type": "markdown",
      "source": [
        "**Remove datetime features**\n",
        "\n",
        "Datetime datatypes are not useable datatypes for machine learning models. Since the two datetime features in the dataset were used to create a new feature, these features can be excluded from the X data used for training and testing models.\n",
        "\n",
        "Let's create a list containing all of the features that will be used as the X dataset for model training and testing."
      ],
      "metadata": {
        "id": "v-fjr7SGNN_s"
      }
    },
    {
      "cell_type": "code",
      "execution_count": 70,
      "metadata": {
        "id": "R5d84tINrG9d",
        "outputId": "05fc91e9-e337-4cb4-f68e-f95d80cb6d61",
        "colab": {
          "base_uri": "https://localhost:8080/"
        }
      },
      "outputs": [
        {
          "output_type": "execute_result",
          "data": {
            "text/plain": [
              "['VendorID',\n",
              " 'passenger_count',\n",
              " 'trip_distance',\n",
              " 'RatecodeID',\n",
              " 'store_and_fwd_flag',\n",
              " 'PULocationID',\n",
              " 'DOLocationID',\n",
              " 'payment_type',\n",
              " 'fare_amount',\n",
              " 'extra',\n",
              " 'mta_tax',\n",
              " 'tip_amount',\n",
              " 'tolls_amount',\n",
              " 'improvement_surcharge',\n",
              " 'congestion_surcharge',\n",
              " 'airport_fee',\n",
              " 'trip_duration']"
            ]
          },
          "metadata": {},
          "execution_count": 70
        }
      ],
      "source": [
        "# Create a list called feature_col to store column names\n",
        "target = 'total_amount'\n",
        "remove_col = [target, 'tpep_dropoff_datetime', 'tpep_pickup_datetime']\n",
        "feat_col = [col for col in df.columns if col not in remove_col]\n",
        "feat_col"
      ]
    },
    {
      "cell_type": "markdown",
      "source": [
        "### Train, Test, Split"
      ],
      "metadata": {
        "id": "limkK2BDl7Qt"
      }
    },
    {
      "cell_type": "markdown",
      "metadata": {
        "id": "eq2kgevn51LY"
      },
      "source": [
        "Splitting a dataset into training and test sets is a crucial step in machine learning model development. It allows us to evaluate the performance and generalization ability of our models accurately. The training set is used to train the model, while the test set serves as an independent sample for evaluating its performance.\n",
        "\n",
        "1. **Model Training**: The training set is used to fit the model, allowing it to learn the underlying patterns and relationships between the features and the target variable. By exposing the model to a diverse range of examples in the training set, it can capture the underlying structure of the data.\n",
        "\n",
        "2. **Model Evaluation**: The test set, which is independent of the training set, is crucial for evaluating how well the trained model generalizes to unseen data. It provides an unbiased assessment of the model's performance on new instances. By measuring the model's accuracy, precision, recall, or other evaluation metrics on the test set, we can estimate how well the model will perform on unseen data.\n",
        "\n",
        "3. **Preventing Overfitting**: Overfitting occurs when a model learns the training data's noise and idiosyncrasies instead of the underlying patterns. By evaluating the model on the test set, we can identify if the model is overfitting. If the model performs significantly worse on the test set compared to the training set, it indicates overfitting. In such cases, we might need to adjust the model, feature selection, or regularization techniques to improve generalization.\n",
        "\n",
        "4. **Hyperparameter Tuning**: Splitting the dataset allows us to perform hyperparameter tuning on the model. Hyperparameters are configuration settings that control the learning process, such as learning rate, regularization strength, or the number of hidden layers in a neural network. By using a validation set (often created from a portion of the training set), we can iteratively adjust the hyperparameters and select the best combination that maximizes the model's performance on the validation set. The final evaluation on the test set provides an unbiased estimate of the model's performance.\n",
        "\n",
        "By splitting the dataset into training and test sets, we can ensure that our models are both well-trained and accurately evaluated. This separation helps us understand how the model will perform on new, unseen data, which is critical for assessing its effectiveness and making informed decisions about its deployment.\n",
        "\n",
        "Here is your task:\n",
        "\n",
        "  1. Use Scikit-Learn's [train_test_split](https://scikit-learn.org/stable/modules/generated/sklearn.model_selection.train_test_split.html) to split the data into training and test sets. Don't forget to set the random state."
      ]
    },
    {
      "cell_type": "code",
      "source": [
        "# see current shape of the dataframe\n",
        "df.shape"
      ],
      "metadata": {
        "id": "zSztfBfrh1Nx",
        "outputId": "666fd53f-3e15-4543-cc7b-0512e4812163",
        "colab": {
          "base_uri": "https://localhost:8080/"
        }
      },
      "execution_count": 71,
      "outputs": [
        {
          "output_type": "execute_result",
          "data": {
            "text/plain": [
              "(2392428, 20)"
            ]
          },
          "metadata": {},
          "execution_count": 71
        }
      ]
    },
    {
      "cell_type": "code",
      "source": [
        "# Split dataset into 70% training and 30% test sets\n",
        "\n",
        "X = df[feat_col]\n",
        "y = df[target]\n",
        "\n",
        "X_test, X_train, y_test, y_train = train_test_split(X, y, test_size=0.3, random_state=1337)"
      ],
      "metadata": {
        "id": "ejBD-7DjIz4D"
      },
      "execution_count": 72,
      "outputs": []
    },
    {
      "cell_type": "markdown",
      "source": [
        "### Baseline Model"
      ],
      "metadata": {
        "id": "y0YUKiVNmC59"
      }
    },
    {
      "cell_type": "markdown",
      "metadata": {
        "id": "VIAhf_oA7PGx"
      },
      "source": [
        "The importance of a baseline model, even if it uses a simple strategy like always predicting the mean, cannot be understated. Here's why a baseline model is valuable:\n",
        "\n",
        "1. **Performance Comparison**: A baseline model serves as a reference point for evaluating the performance of more sophisticated models. By establishing a simple yet reasonable baseline, we can determine whether our advanced models offer any significant improvement over this basic approach. It helps us set realistic expectations and gauge the effectiveness of our efforts.\n",
        "\n",
        "2. **Model Complexity**: A baseline model provides insight into the complexity required to solve the prediction task. If a simple strategy like predicting the median performs reasonably well, it suggests that the problem might not necessitate complex modeling techniques. Conversely, if the baseline model performs poorly, it indicates the presence of more intricate patterns that need to be captured by more sophisticated models.\n",
        "\n",
        "3. **Minimum Performance Requirement**: A baseline model can establish a minimum performance requirement for a predictive task. If we cannot outperform the baseline, it suggests that our models have failed to capture even the most fundamental relationships within the data. In such cases, we may need to revisit our data preprocessing steps, feature engineering techniques, or consider other external factors affecting the task.\n",
        "\n",
        "4. **Identifying Data Issues**: A baseline model can help identify potential issues within the dataset. If the baseline model performs poorly, it may indicate problems like missing values, outliers, or data inconsistencies. These issues can be further investigated and resolved to improve the overall model performance.\n",
        "\n",
        "While a baseline model like always predicting the median may not offer the highest prediction accuracy, its importance lies in its role as a starting point for model development and evaluation. It provides a solid foundation for comparing and assessing the performance of more complex models, ensuring that any improvements made are meaningful and significant.\n",
        "\n",
        "Here is your task:\n",
        "\n",
        "  1. Create a model that always predicts the mean total fare of the training dataset. Use Scikit-Learn's [mean_absolute_error](https://scikit-learn.org/stable/modules/generated/sklearn.metrics.mean_absolute_error.html) to evaluate this model. Is it any good?"
      ]
    },
    {
      "cell_type": "code",
      "execution_count": 73,
      "metadata": {
        "id": "6vV1UsNTFX22",
        "outputId": "76ee1410-01b4-44ac-e0f4-094017d70c85",
        "colab": {
          "base_uri": "https://localhost:8080/"
        }
      },
      "outputs": [
        {
          "output_type": "stream",
          "name": "stdout",
          "text": [
            "The mean value of the y_train set:\n",
            "18.834789398226917\n",
            "\n",
            "The target values predicted by the baseline model:\n",
            "[18.8347894 18.8347894 18.8347894 ... 18.8347894 18.8347894 18.8347894]\n"
          ]
        }
      ],
      "source": [
        "# Create a baseline model that predicts the mean of the training set\n",
        "from sklearn.dummy import DummyRegressor\n",
        "\n",
        "dum_reg = DummyRegressor(strategy='mean')\n",
        "\n",
        "dum_reg.fit(X_train, y_train)\n",
        "\n",
        "y_pred = dum_reg.predict(X_test)\n",
        "\n",
        "# show that the model is predicting the mean of the\n",
        "# target values in the training set\n",
        "print(f'The mean value of the y_train set:\\n{y_train.mean()}')\n",
        "print(f'\\nThe target values predicted by the baseline model:\\n{y_pred}')"
      ]
    },
    {
      "cell_type": "code",
      "source": [
        "# calculate the mean absolute error for the baseline model\n",
        "base_mae = mean_absolute_error(y_test, y_pred)\n",
        "base_mae"
      ],
      "metadata": {
        "id": "a1aV_3MSPS3_",
        "outputId": "92eab1ba-3300-412a-bd16-987bf69ce969",
        "colab": {
          "base_uri": "https://localhost:8080/"
        }
      },
      "execution_count": 74,
      "outputs": [
        {
          "output_type": "execute_result",
          "data": {
            "text/plain": [
              "9.332187766854899"
            ]
          },
          "metadata": {},
          "execution_count": 74
        }
      ]
    },
    {
      "cell_type": "markdown",
      "source": [
        "### Linear Regression Model"
      ],
      "metadata": {
        "id": "su6ANMCeCVOb"
      }
    },
    {
      "cell_type": "markdown",
      "metadata": {
        "id": "sCKDGKpg8MVb"
      },
      "source": [
        "With a baseline metric in place, we can try to build a machine learning model. Obviously, if the model can't beat the baseline then there are some major issues to be resolved.\n",
        "\n",
        "It's always a good idea to start with a simple machine learning model, like linear regression, and build upon it if necessary.\n",
        "\n",
        "Here are your tasks:\n",
        "\n",
        "  1. Use Scikit-Learn's [ColumnTransformer](https://scikit-learn.org/stable/modules/generated/sklearn.compose.ColumnTransformer.html) to preprocess the categorical and continuous features independently. Apply the [StandardScaler](https://scikit-learn.org/stable/modules/generated/sklearn.preprocessing.StandardScaler.html) to the continuous columns and [OneHotEncoder](https://scikit-learn.org/stable/modules/generated/sklearn.preprocessing.OneHotEncoder.html) to the categorical columns.\n",
        "\n",
        "  One-hot encoding is a popular technique used to represent categorical variables numerically in machine learning models. It transforms categorical features into a binary vector representation, where each category is represented by a binary column. Here's an explanation of one-hot encoding:\n",
        "\n",
        "  When working with categorical variables, such as colors (e.g., red, blue, green) or vehicle types (e.g., car, truck, motorcycle), machine learning algorithms often require numerical inputs. However, directly assigning numerical values to categories can introduce unintended relationships or orderings between them. For example, assigning the values 0, 1, and 2 to the categories red, blue, and green may imply a sequential relationship, which is not desired.\n",
        "\n",
        "  One-hot encoding solves this problem by creating new binary columns, equal to the number of unique categories in the original feature. Each binary column represents a specific category and takes a value of 1 if the data point belongs to that category, and 0 otherwise. This encoding ensures that no implicit ordering or relationship exists between the categories.\n",
        "\n",
        "  2. Integrate the preprocessor in the previous step with Scikit-Learn's [LinearRegression](https://scikit-learn.org/stable/modules/generated/sklearn.linear_model.LinearRegression.html) model using a [Pipeline](https://scikit-learn.org/stable/modules/generated/sklearn.pipeline.Pipeline.html).\n",
        "\n",
        "  3. Train the pipeline on the training data.\n",
        "\n",
        "  4. Evaluate the model using mean absolute error as a metric on the test data. Does the model beat the baseline?\n"
      ]
    },
    {
      "cell_type": "markdown",
      "source": [
        "**Use ColumnTransformer to Preprocess Data**"
      ],
      "metadata": {
        "id": "MQBVARb3mTs6"
      }
    },
    {
      "cell_type": "code",
      "source": [
        "# create list of feature names with categorial values\n",
        "cat_col = list(X.select_dtypes(include=['object']).columns)\n",
        "cat_col"
      ],
      "metadata": {
        "colab": {
          "base_uri": "https://localhost:8080/"
        },
        "id": "wI27Mei64dh6",
        "outputId": "84cc1d1b-1266-4f50-cb05-4b4c3f6632f2"
      },
      "execution_count": 75,
      "outputs": [
        {
          "output_type": "execute_result",
          "data": {
            "text/plain": [
              "['store_and_fwd_flag']"
            ]
          },
          "metadata": {},
          "execution_count": 75
        }
      ]
    },
    {
      "cell_type": "code",
      "source": [
        "# create list of feature names with continuous values\n",
        "cont_col = list(X.select_dtypes(exclude=['object']).columns)\n",
        "cont_col"
      ],
      "metadata": {
        "id": "IG_9vpQw2Ir8",
        "outputId": "11895868-18d8-44c2-fc68-19adaa091b95",
        "colab": {
          "base_uri": "https://localhost:8080/"
        }
      },
      "execution_count": 76,
      "outputs": [
        {
          "output_type": "execute_result",
          "data": {
            "text/plain": [
              "['VendorID',\n",
              " 'passenger_count',\n",
              " 'trip_distance',\n",
              " 'RatecodeID',\n",
              " 'PULocationID',\n",
              " 'DOLocationID',\n",
              " 'payment_type',\n",
              " 'fare_amount',\n",
              " 'extra',\n",
              " 'mta_tax',\n",
              " 'tip_amount',\n",
              " 'tolls_amount',\n",
              " 'improvement_surcharge',\n",
              " 'congestion_surcharge',\n",
              " 'airport_fee',\n",
              " 'trip_duration']"
            ]
          },
          "metadata": {},
          "execution_count": 76
        }
      ]
    },
    {
      "cell_type": "code",
      "source": [
        "# Use Scikit-Learn's ColumnTransformer to preprocess the categorical and\n",
        "# continuous features independently.\n",
        "ct = ColumnTransformer(\n",
        "    [(\"categorical\", OneHotEncoder(), cat_col),\n",
        "     (\"continuous\", StandardScaler(), cont_col)\n",
        "     ]\n",
        "    )"
      ],
      "metadata": {
        "id": "ojDeGPpBu0O4"
      },
      "execution_count": 77,
      "outputs": []
    },
    {
      "cell_type": "markdown",
      "source": [
        "**Create pipeline to perform preprocessing and model training**"
      ],
      "metadata": {
        "id": "yuNtb7989-92"
      }
    },
    {
      "cell_type": "code",
      "source": [
        "# Create a pipeline object containing the column transformations and regression\n",
        "# model.\n",
        "linr_pipe = Pipeline([('preprocessor', ct),\n",
        "                    ('regressor', LinearRegression())]\n",
        "            )"
      ],
      "metadata": {
        "id": "iGOtUC-LyHVM"
      },
      "execution_count": 78,
      "outputs": []
    },
    {
      "cell_type": "markdown",
      "source": [
        "**Use pipeline to train the data**"
      ],
      "metadata": {
        "id": "KDiLoXlfBC8i"
      }
    },
    {
      "cell_type": "code",
      "source": [
        "# Fit the pipeline on the training data.\n",
        "linr_pipe.fit(X_train, y_train)"
      ],
      "metadata": {
        "colab": {
          "base_uri": "https://localhost:8080/",
          "height": 189
        },
        "id": "G9wAOU__BUKO",
        "outputId": "4052ffa9-22ee-42ef-b3e9-17cdf223dd30"
      },
      "execution_count": 79,
      "outputs": [
        {
          "output_type": "execute_result",
          "data": {
            "text/plain": [
              "Pipeline(steps=[('preprocessor',\n",
              "                 ColumnTransformer(transformers=[('categorical',\n",
              "                                                  OneHotEncoder(),\n",
              "                                                  ['store_and_fwd_flag']),\n",
              "                                                 ('continuous',\n",
              "                                                  StandardScaler(),\n",
              "                                                  ['VendorID',\n",
              "                                                   'passenger_count',\n",
              "                                                   'trip_distance',\n",
              "                                                   'RatecodeID', 'PULocationID',\n",
              "                                                   'DOLocationID',\n",
              "                                                   'payment_type',\n",
              "                                                   'fare_amount', 'extra',\n",
              "                                                   'mta_tax', 'tip_amount',\n",
              "                                                   'tolls_amount',\n",
              "                                                   'improvement_surcharge',\n",
              "                                                   'congestion_surcharge',\n",
              "                                                   'airport_fee',\n",
              "                                                   'trip_duration'])])),\n",
              "                ('regressor', LinearRegression())])"
            ],
            "text/html": [
              "<style>#sk-container-id-9 {color: black;}#sk-container-id-9 pre{padding: 0;}#sk-container-id-9 div.sk-toggleable {background-color: white;}#sk-container-id-9 label.sk-toggleable__label {cursor: pointer;display: block;width: 100%;margin-bottom: 0;padding: 0.3em;box-sizing: border-box;text-align: center;}#sk-container-id-9 label.sk-toggleable__label-arrow:before {content: \"▸\";float: left;margin-right: 0.25em;color: #696969;}#sk-container-id-9 label.sk-toggleable__label-arrow:hover:before {color: black;}#sk-container-id-9 div.sk-estimator:hover label.sk-toggleable__label-arrow:before {color: black;}#sk-container-id-9 div.sk-toggleable__content {max-height: 0;max-width: 0;overflow: hidden;text-align: left;background-color: #f0f8ff;}#sk-container-id-9 div.sk-toggleable__content pre {margin: 0.2em;color: black;border-radius: 0.25em;background-color: #f0f8ff;}#sk-container-id-9 input.sk-toggleable__control:checked~div.sk-toggleable__content {max-height: 200px;max-width: 100%;overflow: auto;}#sk-container-id-9 input.sk-toggleable__control:checked~label.sk-toggleable__label-arrow:before {content: \"▾\";}#sk-container-id-9 div.sk-estimator input.sk-toggleable__control:checked~label.sk-toggleable__label {background-color: #d4ebff;}#sk-container-id-9 div.sk-label input.sk-toggleable__control:checked~label.sk-toggleable__label {background-color: #d4ebff;}#sk-container-id-9 input.sk-hidden--visually {border: 0;clip: rect(1px 1px 1px 1px);clip: rect(1px, 1px, 1px, 1px);height: 1px;margin: -1px;overflow: hidden;padding: 0;position: absolute;width: 1px;}#sk-container-id-9 div.sk-estimator {font-family: monospace;background-color: #f0f8ff;border: 1px dotted black;border-radius: 0.25em;box-sizing: border-box;margin-bottom: 0.5em;}#sk-container-id-9 div.sk-estimator:hover {background-color: #d4ebff;}#sk-container-id-9 div.sk-parallel-item::after {content: \"\";width: 100%;border-bottom: 1px solid gray;flex-grow: 1;}#sk-container-id-9 div.sk-label:hover label.sk-toggleable__label {background-color: #d4ebff;}#sk-container-id-9 div.sk-serial::before {content: \"\";position: absolute;border-left: 1px solid gray;box-sizing: border-box;top: 0;bottom: 0;left: 50%;z-index: 0;}#sk-container-id-9 div.sk-serial {display: flex;flex-direction: column;align-items: center;background-color: white;padding-right: 0.2em;padding-left: 0.2em;position: relative;}#sk-container-id-9 div.sk-item {position: relative;z-index: 1;}#sk-container-id-9 div.sk-parallel {display: flex;align-items: stretch;justify-content: center;background-color: white;position: relative;}#sk-container-id-9 div.sk-item::before, #sk-container-id-9 div.sk-parallel-item::before {content: \"\";position: absolute;border-left: 1px solid gray;box-sizing: border-box;top: 0;bottom: 0;left: 50%;z-index: -1;}#sk-container-id-9 div.sk-parallel-item {display: flex;flex-direction: column;z-index: 1;position: relative;background-color: white;}#sk-container-id-9 div.sk-parallel-item:first-child::after {align-self: flex-end;width: 50%;}#sk-container-id-9 div.sk-parallel-item:last-child::after {align-self: flex-start;width: 50%;}#sk-container-id-9 div.sk-parallel-item:only-child::after {width: 0;}#sk-container-id-9 div.sk-dashed-wrapped {border: 1px dashed gray;margin: 0 0.4em 0.5em 0.4em;box-sizing: border-box;padding-bottom: 0.4em;background-color: white;}#sk-container-id-9 div.sk-label label {font-family: monospace;font-weight: bold;display: inline-block;line-height: 1.2em;}#sk-container-id-9 div.sk-label-container {text-align: center;}#sk-container-id-9 div.sk-container {/* jupyter's `normalize.less` sets `[hidden] { display: none; }` but bootstrap.min.css set `[hidden] { display: none !important; }` so we also need the `!important` here to be able to override the default hidden behavior on the sphinx rendered scikit-learn.org. See: https://github.com/scikit-learn/scikit-learn/issues/21755 */display: inline-block !important;position: relative;}#sk-container-id-9 div.sk-text-repr-fallback {display: none;}</style><div id=\"sk-container-id-9\" class=\"sk-top-container\"><div class=\"sk-text-repr-fallback\"><pre>Pipeline(steps=[(&#x27;preprocessor&#x27;,\n",
              "                 ColumnTransformer(transformers=[(&#x27;categorical&#x27;,\n",
              "                                                  OneHotEncoder(),\n",
              "                                                  [&#x27;store_and_fwd_flag&#x27;]),\n",
              "                                                 (&#x27;continuous&#x27;,\n",
              "                                                  StandardScaler(),\n",
              "                                                  [&#x27;VendorID&#x27;,\n",
              "                                                   &#x27;passenger_count&#x27;,\n",
              "                                                   &#x27;trip_distance&#x27;,\n",
              "                                                   &#x27;RatecodeID&#x27;, &#x27;PULocationID&#x27;,\n",
              "                                                   &#x27;DOLocationID&#x27;,\n",
              "                                                   &#x27;payment_type&#x27;,\n",
              "                                                   &#x27;fare_amount&#x27;, &#x27;extra&#x27;,\n",
              "                                                   &#x27;mta_tax&#x27;, &#x27;tip_amount&#x27;,\n",
              "                                                   &#x27;tolls_amount&#x27;,\n",
              "                                                   &#x27;improvement_surcharge&#x27;,\n",
              "                                                   &#x27;congestion_surcharge&#x27;,\n",
              "                                                   &#x27;airport_fee&#x27;,\n",
              "                                                   &#x27;trip_duration&#x27;])])),\n",
              "                (&#x27;regressor&#x27;, LinearRegression())])</pre><b>In a Jupyter environment, please rerun this cell to show the HTML representation or trust the notebook. <br />On GitHub, the HTML representation is unable to render, please try loading this page with nbviewer.org.</b></div><div class=\"sk-container\" hidden><div class=\"sk-item sk-dashed-wrapped\"><div class=\"sk-label-container\"><div class=\"sk-label sk-toggleable\"><input class=\"sk-toggleable__control sk-hidden--visually\" id=\"sk-estimator-id-15\" type=\"checkbox\" ><label for=\"sk-estimator-id-15\" class=\"sk-toggleable__label sk-toggleable__label-arrow\">Pipeline</label><div class=\"sk-toggleable__content\"><pre>Pipeline(steps=[(&#x27;preprocessor&#x27;,\n",
              "                 ColumnTransformer(transformers=[(&#x27;categorical&#x27;,\n",
              "                                                  OneHotEncoder(),\n",
              "                                                  [&#x27;store_and_fwd_flag&#x27;]),\n",
              "                                                 (&#x27;continuous&#x27;,\n",
              "                                                  StandardScaler(),\n",
              "                                                  [&#x27;VendorID&#x27;,\n",
              "                                                   &#x27;passenger_count&#x27;,\n",
              "                                                   &#x27;trip_distance&#x27;,\n",
              "                                                   &#x27;RatecodeID&#x27;, &#x27;PULocationID&#x27;,\n",
              "                                                   &#x27;DOLocationID&#x27;,\n",
              "                                                   &#x27;payment_type&#x27;,\n",
              "                                                   &#x27;fare_amount&#x27;, &#x27;extra&#x27;,\n",
              "                                                   &#x27;mta_tax&#x27;, &#x27;tip_amount&#x27;,\n",
              "                                                   &#x27;tolls_amount&#x27;,\n",
              "                                                   &#x27;improvement_surcharge&#x27;,\n",
              "                                                   &#x27;congestion_surcharge&#x27;,\n",
              "                                                   &#x27;airport_fee&#x27;,\n",
              "                                                   &#x27;trip_duration&#x27;])])),\n",
              "                (&#x27;regressor&#x27;, LinearRegression())])</pre></div></div></div><div class=\"sk-serial\"><div class=\"sk-item sk-dashed-wrapped\"><div class=\"sk-label-container\"><div class=\"sk-label sk-toggleable\"><input class=\"sk-toggleable__control sk-hidden--visually\" id=\"sk-estimator-id-16\" type=\"checkbox\" ><label for=\"sk-estimator-id-16\" class=\"sk-toggleable__label sk-toggleable__label-arrow\">preprocessor: ColumnTransformer</label><div class=\"sk-toggleable__content\"><pre>ColumnTransformer(transformers=[(&#x27;categorical&#x27;, OneHotEncoder(),\n",
              "                                 [&#x27;store_and_fwd_flag&#x27;]),\n",
              "                                (&#x27;continuous&#x27;, StandardScaler(),\n",
              "                                 [&#x27;VendorID&#x27;, &#x27;passenger_count&#x27;,\n",
              "                                  &#x27;trip_distance&#x27;, &#x27;RatecodeID&#x27;, &#x27;PULocationID&#x27;,\n",
              "                                  &#x27;DOLocationID&#x27;, &#x27;payment_type&#x27;, &#x27;fare_amount&#x27;,\n",
              "                                  &#x27;extra&#x27;, &#x27;mta_tax&#x27;, &#x27;tip_amount&#x27;,\n",
              "                                  &#x27;tolls_amount&#x27;, &#x27;improvement_surcharge&#x27;,\n",
              "                                  &#x27;congestion_surcharge&#x27;, &#x27;airport_fee&#x27;,\n",
              "                                  &#x27;trip_duration&#x27;])])</pre></div></div></div><div class=\"sk-parallel\"><div class=\"sk-parallel-item\"><div class=\"sk-item\"><div class=\"sk-label-container\"><div class=\"sk-label sk-toggleable\"><input class=\"sk-toggleable__control sk-hidden--visually\" id=\"sk-estimator-id-17\" type=\"checkbox\" ><label for=\"sk-estimator-id-17\" class=\"sk-toggleable__label sk-toggleable__label-arrow\">categorical</label><div class=\"sk-toggleable__content\"><pre>[&#x27;store_and_fwd_flag&#x27;]</pre></div></div></div><div class=\"sk-serial\"><div class=\"sk-item\"><div class=\"sk-estimator sk-toggleable\"><input class=\"sk-toggleable__control sk-hidden--visually\" id=\"sk-estimator-id-18\" type=\"checkbox\" ><label for=\"sk-estimator-id-18\" class=\"sk-toggleable__label sk-toggleable__label-arrow\">OneHotEncoder</label><div class=\"sk-toggleable__content\"><pre>OneHotEncoder()</pre></div></div></div></div></div></div><div class=\"sk-parallel-item\"><div class=\"sk-item\"><div class=\"sk-label-container\"><div class=\"sk-label sk-toggleable\"><input class=\"sk-toggleable__control sk-hidden--visually\" id=\"sk-estimator-id-19\" type=\"checkbox\" ><label for=\"sk-estimator-id-19\" class=\"sk-toggleable__label sk-toggleable__label-arrow\">continuous</label><div class=\"sk-toggleable__content\"><pre>[&#x27;VendorID&#x27;, &#x27;passenger_count&#x27;, &#x27;trip_distance&#x27;, &#x27;RatecodeID&#x27;, &#x27;PULocationID&#x27;, &#x27;DOLocationID&#x27;, &#x27;payment_type&#x27;, &#x27;fare_amount&#x27;, &#x27;extra&#x27;, &#x27;mta_tax&#x27;, &#x27;tip_amount&#x27;, &#x27;tolls_amount&#x27;, &#x27;improvement_surcharge&#x27;, &#x27;congestion_surcharge&#x27;, &#x27;airport_fee&#x27;, &#x27;trip_duration&#x27;]</pre></div></div></div><div class=\"sk-serial\"><div class=\"sk-item\"><div class=\"sk-estimator sk-toggleable\"><input class=\"sk-toggleable__control sk-hidden--visually\" id=\"sk-estimator-id-20\" type=\"checkbox\" ><label for=\"sk-estimator-id-20\" class=\"sk-toggleable__label sk-toggleable__label-arrow\">StandardScaler</label><div class=\"sk-toggleable__content\"><pre>StandardScaler()</pre></div></div></div></div></div></div></div></div><div class=\"sk-item\"><div class=\"sk-estimator sk-toggleable\"><input class=\"sk-toggleable__control sk-hidden--visually\" id=\"sk-estimator-id-21\" type=\"checkbox\" ><label for=\"sk-estimator-id-21\" class=\"sk-toggleable__label sk-toggleable__label-arrow\">LinearRegression</label><div class=\"sk-toggleable__content\"><pre>LinearRegression()</pre></div></div></div></div></div></div></div>"
            ]
          },
          "metadata": {},
          "execution_count": 79
        }
      ]
    },
    {
      "cell_type": "markdown",
      "source": [
        "**Evaluate the model using mean absolute error**"
      ],
      "metadata": {
        "id": "qc8hTIHABgZO"
      }
    },
    {
      "cell_type": "code",
      "source": [
        "# Make predictions on the test data.\n",
        "y_linr_pred = linr_pipe.predict(X_test)\n",
        "\n",
        "# calculate mean absolute error on the predictions\n",
        "linr_mae = mean_absolute_error(y_test, y_linr_pred)"
      ],
      "metadata": {
        "id": "a8bbC0AE3G8a"
      },
      "execution_count": 80,
      "outputs": []
    },
    {
      "cell_type": "code",
      "source": [
        "# display results\n",
        "print(f\"Baseline model's mae:\\t\\t{base_mae:.5f}\")\n",
        "print(f\"Linear Regression's mae:\\t{linr_mae:.5f}\")"
      ],
      "metadata": {
        "colab": {
          "base_uri": "https://localhost:8080/"
        },
        "id": "WPqJL9_eSGvA",
        "outputId": "5b0a6b42-48f5-4f85-d102-746bfe6fbb43"
      },
      "execution_count": 81,
      "outputs": [
        {
          "output_type": "stream",
          "name": "stdout",
          "text": [
            "Baseline model's mae:\t\t9.33219\n",
            "Linear Regression's mae:\t0.13886\n"
          ]
        }
      ]
    },
    {
      "cell_type": "markdown",
      "source": [
        "The above linear regression model clearly performs better than the baseline line model. The closer the mae is to zero, the better the model performs."
      ],
      "metadata": {
        "id": "7EoGVyy9RNc5"
      }
    },
    {
      "cell_type": "markdown",
      "source": [
        "### Random Forest Regression"
      ],
      "metadata": {
        "id": "IF1DYO3ACaI6"
      }
    },
    {
      "cell_type": "markdown",
      "metadata": {
        "id": "d1669p0UBHrx"
      },
      "source": [
        "Random Forest Regression and Linear Regression are two commonly used regression algorithms, each with its own advantages and suitability for different scenarios. Random Forest Regression offers several advantages over Linear Regression, including:\n",
        "\n",
        "1. **Non-linearity**: Random Forest Regressor is capable of capturing non-linear relationships between features and the target variable. In contrast, Linear Regression assumes a linear relationship between the features and the target. When faced with non-linear relationships or complex feature interactions, Random Forest Regressor can provide more accurate predictions.\n",
        "\n",
        "2. **Robustness to Outliers**: Random Forest Regressor is generally more robust to outliers compared to Linear Regression. Outliers can disproportionately impact the coefficients and predictions of Linear Regression models. However, as an ensemble of decision trees, Random Forest Regressor can mitigate the effect of outliers by averaging predictions from multiple trees.\n",
        "\n",
        "3. **Feature Importance**: Random Forest Regressor provides a measure of feature importance, which helps identify the most influential features for making predictions. This information is useful for feature selection, understanding the underlying relationships in the data, and gaining insights into the problem domain. Unlike Linear Regression, which provides coefficient values indicating the direction and magnitude of relationships, Random Forest Regressor explicitly highlights feature importance.\n",
        "\n",
        "4. **Handling of Categorical Variables**: Random Forest Regressor can effectively handle categorical variables without requiring pre-processing steps like one-hot encoding. It can directly incorporate categorical variables into the model, making it more convenient when working with mixed data types. In contrast, Linear Regression often requires categorical variables to be encoded or transformed before use.\n",
        "\n",
        "5. **Handling of High-Dimensional Data**: Random Forest Regressor can handle datasets with a large number of features (high dimensionality) by automatically selecting subsets of features during the construction of individual decision trees. This reduces the risk of overfitting, which is a concern with Linear Regression when dealing with high-dimensional data.\n",
        "\n",
        "6. **Resistance to Multicollinearity**: Random Forest Regressor is less affected by multicollinearity, which occurs when predictor variables are highly correlated. In Linear Regression, highly correlated features can lead to unstable coefficient estimates, making it challenging to interpret the individual effects of each feature. Random Forest Regressor, as an ensemble approach, is less impacted by multicollinearity because each tree is built independently.\n",
        "\n",
        "Here are your tasks:\n",
        "\n",
        "  1. Build a Random Forest Regressor model using Scikit-Learn's [RandomForestRegressor](https://scikit-learn.org/stable/modules/generated/sklearn.ensemble.RandomForestRegressor.html) and train it on the train data.\n",
        "\n",
        "  2. Evaluate the performance of the model on the test data using mean absolute error as a metric. Mess around with various input parameter configurations to see how they affect the model. Can you beat the performance of the linear regression model?"
      ]
    },
    {
      "cell_type": "markdown",
      "source": [
        "**NOTE**\n",
        "\n",
        "The above list of advantages for using Random Forest Regressor over Linear Regression incorrectly states that the Random Forest Regressor can take in categorical and numerical datatypes. However, the regressor simply attempts to convert all datatypes into a float. If it cannot make the conversion, such as when it tries to convert a string into a float, the regressor will fail.\n",
        "\n",
        "However, decision trees do not require data to be standardized.\n",
        "\n",
        "Therefore, the Random Forest Regressor model below does require that the categorial feature be converted into a numerical feature (like the Linear Regression model), but it does not require that the numerical values be standardized before training the model."
      ],
      "metadata": {
        "id": "8L2gNuSvVUEe"
      }
    },
    {
      "cell_type": "markdown",
      "source": [
        "**Build and Train a Random Forest Regressor Model**\n",
        "\n",
        "Since the data set is large, the regressor model will only create 10 trees for initial testing purposes."
      ],
      "metadata": {
        "id": "FxBCpewEkksP"
      }
    },
    {
      "cell_type": "code",
      "execution_count": 82,
      "metadata": {
        "id": "QU4tTQKl4q_n"
      },
      "outputs": [],
      "source": [
        "# Build random forest regressor model\n",
        "rfg1 = RandomForestRegressor(n_estimators=10)"
      ]
    },
    {
      "cell_type": "code",
      "source": [
        "# Use get.dummies() to one-hot-encode the categorical column\n",
        "new_X = pd.get_dummies(X)"
      ],
      "metadata": {
        "id": "r1cyFP9Sdhxz"
      },
      "execution_count": 83,
      "outputs": []
    },
    {
      "cell_type": "code",
      "source": [
        "# perform train, test, split on new_X data\n",
        "X1_train, X1_test, y1_train, y1_test = train_test_split(new_X, y, test_size = 0.3, random_state=1337)"
      ],
      "metadata": {
        "id": "BQFmXi2Ke9ro"
      },
      "execution_count": 84,
      "outputs": []
    },
    {
      "cell_type": "code",
      "source": [
        "# fit model to training data\n",
        "rfg1.fit(X1_train, y1_train)"
      ],
      "metadata": {
        "colab": {
          "base_uri": "https://localhost:8080/",
          "height": 74
        },
        "id": "7wD0KeEYMvZM",
        "outputId": "347efbd6-6f30-4671-d64c-d0388b6a1d25"
      },
      "execution_count": 85,
      "outputs": [
        {
          "output_type": "execute_result",
          "data": {
            "text/plain": [
              "RandomForestRegressor(n_estimators=10)"
            ],
            "text/html": [
              "<style>#sk-container-id-10 {color: black;}#sk-container-id-10 pre{padding: 0;}#sk-container-id-10 div.sk-toggleable {background-color: white;}#sk-container-id-10 label.sk-toggleable__label {cursor: pointer;display: block;width: 100%;margin-bottom: 0;padding: 0.3em;box-sizing: border-box;text-align: center;}#sk-container-id-10 label.sk-toggleable__label-arrow:before {content: \"▸\";float: left;margin-right: 0.25em;color: #696969;}#sk-container-id-10 label.sk-toggleable__label-arrow:hover:before {color: black;}#sk-container-id-10 div.sk-estimator:hover label.sk-toggleable__label-arrow:before {color: black;}#sk-container-id-10 div.sk-toggleable__content {max-height: 0;max-width: 0;overflow: hidden;text-align: left;background-color: #f0f8ff;}#sk-container-id-10 div.sk-toggleable__content pre {margin: 0.2em;color: black;border-radius: 0.25em;background-color: #f0f8ff;}#sk-container-id-10 input.sk-toggleable__control:checked~div.sk-toggleable__content {max-height: 200px;max-width: 100%;overflow: auto;}#sk-container-id-10 input.sk-toggleable__control:checked~label.sk-toggleable__label-arrow:before {content: \"▾\";}#sk-container-id-10 div.sk-estimator input.sk-toggleable__control:checked~label.sk-toggleable__label {background-color: #d4ebff;}#sk-container-id-10 div.sk-label input.sk-toggleable__control:checked~label.sk-toggleable__label {background-color: #d4ebff;}#sk-container-id-10 input.sk-hidden--visually {border: 0;clip: rect(1px 1px 1px 1px);clip: rect(1px, 1px, 1px, 1px);height: 1px;margin: -1px;overflow: hidden;padding: 0;position: absolute;width: 1px;}#sk-container-id-10 div.sk-estimator {font-family: monospace;background-color: #f0f8ff;border: 1px dotted black;border-radius: 0.25em;box-sizing: border-box;margin-bottom: 0.5em;}#sk-container-id-10 div.sk-estimator:hover {background-color: #d4ebff;}#sk-container-id-10 div.sk-parallel-item::after {content: \"\";width: 100%;border-bottom: 1px solid gray;flex-grow: 1;}#sk-container-id-10 div.sk-label:hover label.sk-toggleable__label {background-color: #d4ebff;}#sk-container-id-10 div.sk-serial::before {content: \"\";position: absolute;border-left: 1px solid gray;box-sizing: border-box;top: 0;bottom: 0;left: 50%;z-index: 0;}#sk-container-id-10 div.sk-serial {display: flex;flex-direction: column;align-items: center;background-color: white;padding-right: 0.2em;padding-left: 0.2em;position: relative;}#sk-container-id-10 div.sk-item {position: relative;z-index: 1;}#sk-container-id-10 div.sk-parallel {display: flex;align-items: stretch;justify-content: center;background-color: white;position: relative;}#sk-container-id-10 div.sk-item::before, #sk-container-id-10 div.sk-parallel-item::before {content: \"\";position: absolute;border-left: 1px solid gray;box-sizing: border-box;top: 0;bottom: 0;left: 50%;z-index: -1;}#sk-container-id-10 div.sk-parallel-item {display: flex;flex-direction: column;z-index: 1;position: relative;background-color: white;}#sk-container-id-10 div.sk-parallel-item:first-child::after {align-self: flex-end;width: 50%;}#sk-container-id-10 div.sk-parallel-item:last-child::after {align-self: flex-start;width: 50%;}#sk-container-id-10 div.sk-parallel-item:only-child::after {width: 0;}#sk-container-id-10 div.sk-dashed-wrapped {border: 1px dashed gray;margin: 0 0.4em 0.5em 0.4em;box-sizing: border-box;padding-bottom: 0.4em;background-color: white;}#sk-container-id-10 div.sk-label label {font-family: monospace;font-weight: bold;display: inline-block;line-height: 1.2em;}#sk-container-id-10 div.sk-label-container {text-align: center;}#sk-container-id-10 div.sk-container {/* jupyter's `normalize.less` sets `[hidden] { display: none; }` but bootstrap.min.css set `[hidden] { display: none !important; }` so we also need the `!important` here to be able to override the default hidden behavior on the sphinx rendered scikit-learn.org. See: https://github.com/scikit-learn/scikit-learn/issues/21755 */display: inline-block !important;position: relative;}#sk-container-id-10 div.sk-text-repr-fallback {display: none;}</style><div id=\"sk-container-id-10\" class=\"sk-top-container\"><div class=\"sk-text-repr-fallback\"><pre>RandomForestRegressor(n_estimators=10)</pre><b>In a Jupyter environment, please rerun this cell to show the HTML representation or trust the notebook. <br />On GitHub, the HTML representation is unable to render, please try loading this page with nbviewer.org.</b></div><div class=\"sk-container\" hidden><div class=\"sk-item\"><div class=\"sk-estimator sk-toggleable\"><input class=\"sk-toggleable__control sk-hidden--visually\" id=\"sk-estimator-id-22\" type=\"checkbox\" checked><label for=\"sk-estimator-id-22\" class=\"sk-toggleable__label sk-toggleable__label-arrow\">RandomForestRegressor</label><div class=\"sk-toggleable__content\"><pre>RandomForestRegressor(n_estimators=10)</pre></div></div></div></div></div>"
            ]
          },
          "metadata": {},
          "execution_count": 85
        }
      ]
    },
    {
      "cell_type": "markdown",
      "source": [
        "**Evaluate the model using mean absolute error**"
      ],
      "metadata": {
        "id": "2XPiKKsglEmr"
      }
    },
    {
      "cell_type": "code",
      "execution_count": 86,
      "metadata": {
        "id": "P6SIX9EK5RYi"
      },
      "outputs": [],
      "source": [
        "# Make predictions on the test data\n",
        "y_rfg_pred = rfg1.predict(X1_test)\n",
        "\n",
        "rfg1_mae = mean_absolute_error(y1_test, y_rfg_pred)"
      ]
    },
    {
      "cell_type": "code",
      "source": [
        "# display results\n",
        "print(f\"Baseline model's mae:\\t\\t\\t{base_mae:.5f}\")\n",
        "print(f\"Linear Regression's mae:\\t\\t{linr_mae:.5f}\")\n",
        "print(f\"First Random Forest Regressor's mae:\\t{rfg1_mae:.5f}\")"
      ],
      "metadata": {
        "colab": {
          "base_uri": "https://localhost:8080/"
        },
        "id": "WQjmaHM_lyuD",
        "outputId": "01b533b3-c555-4ee2-f178-05c8658f550c"
      },
      "execution_count": 87,
      "outputs": [
        {
          "output_type": "stream",
          "name": "stdout",
          "text": [
            "Baseline model's mae:\t\t\t9.33219\n",
            "Linear Regression's mae:\t\t0.13886\n",
            "First Random Forest Regressor's mae:\t0.02261\n"
          ]
        }
      ]
    },
    {
      "cell_type": "markdown",
      "source": [
        "**Adjust Hyperparameters to See Effects on Model Performance**"
      ],
      "metadata": {
        "id": "aA3dHBgqn2Lo"
      }
    },
    {
      "cell_type": "markdown",
      "source": [
        "*n_estimators*"
      ],
      "metadata": {
        "id": "fVuvL-9IoPbQ"
      }
    },
    {
      "cell_type": "code",
      "source": [
        "# Build model with 20 estimators\n",
        "rfg2 = RandomForestRegressor(n_estimators=20)"
      ],
      "metadata": {
        "id": "06Xj3qjdoSoi"
      },
      "execution_count": 88,
      "outputs": []
    },
    {
      "cell_type": "code",
      "source": [
        "# train model\n",
        "rfg2.fit(X1_train, y1_train)"
      ],
      "metadata": {
        "colab": {
          "base_uri": "https://localhost:8080/",
          "height": 74
        },
        "id": "VNWeBxqBxTET",
        "outputId": "738ca55d-762d-4469-a7cb-43d208f5c390"
      },
      "execution_count": 89,
      "outputs": [
        {
          "output_type": "execute_result",
          "data": {
            "text/plain": [
              "RandomForestRegressor(n_estimators=20)"
            ],
            "text/html": [
              "<style>#sk-container-id-11 {color: black;}#sk-container-id-11 pre{padding: 0;}#sk-container-id-11 div.sk-toggleable {background-color: white;}#sk-container-id-11 label.sk-toggleable__label {cursor: pointer;display: block;width: 100%;margin-bottom: 0;padding: 0.3em;box-sizing: border-box;text-align: center;}#sk-container-id-11 label.sk-toggleable__label-arrow:before {content: \"▸\";float: left;margin-right: 0.25em;color: #696969;}#sk-container-id-11 label.sk-toggleable__label-arrow:hover:before {color: black;}#sk-container-id-11 div.sk-estimator:hover label.sk-toggleable__label-arrow:before {color: black;}#sk-container-id-11 div.sk-toggleable__content {max-height: 0;max-width: 0;overflow: hidden;text-align: left;background-color: #f0f8ff;}#sk-container-id-11 div.sk-toggleable__content pre {margin: 0.2em;color: black;border-radius: 0.25em;background-color: #f0f8ff;}#sk-container-id-11 input.sk-toggleable__control:checked~div.sk-toggleable__content {max-height: 200px;max-width: 100%;overflow: auto;}#sk-container-id-11 input.sk-toggleable__control:checked~label.sk-toggleable__label-arrow:before {content: \"▾\";}#sk-container-id-11 div.sk-estimator input.sk-toggleable__control:checked~label.sk-toggleable__label {background-color: #d4ebff;}#sk-container-id-11 div.sk-label input.sk-toggleable__control:checked~label.sk-toggleable__label {background-color: #d4ebff;}#sk-container-id-11 input.sk-hidden--visually {border: 0;clip: rect(1px 1px 1px 1px);clip: rect(1px, 1px, 1px, 1px);height: 1px;margin: -1px;overflow: hidden;padding: 0;position: absolute;width: 1px;}#sk-container-id-11 div.sk-estimator {font-family: monospace;background-color: #f0f8ff;border: 1px dotted black;border-radius: 0.25em;box-sizing: border-box;margin-bottom: 0.5em;}#sk-container-id-11 div.sk-estimator:hover {background-color: #d4ebff;}#sk-container-id-11 div.sk-parallel-item::after {content: \"\";width: 100%;border-bottom: 1px solid gray;flex-grow: 1;}#sk-container-id-11 div.sk-label:hover label.sk-toggleable__label {background-color: #d4ebff;}#sk-container-id-11 div.sk-serial::before {content: \"\";position: absolute;border-left: 1px solid gray;box-sizing: border-box;top: 0;bottom: 0;left: 50%;z-index: 0;}#sk-container-id-11 div.sk-serial {display: flex;flex-direction: column;align-items: center;background-color: white;padding-right: 0.2em;padding-left: 0.2em;position: relative;}#sk-container-id-11 div.sk-item {position: relative;z-index: 1;}#sk-container-id-11 div.sk-parallel {display: flex;align-items: stretch;justify-content: center;background-color: white;position: relative;}#sk-container-id-11 div.sk-item::before, #sk-container-id-11 div.sk-parallel-item::before {content: \"\";position: absolute;border-left: 1px solid gray;box-sizing: border-box;top: 0;bottom: 0;left: 50%;z-index: -1;}#sk-container-id-11 div.sk-parallel-item {display: flex;flex-direction: column;z-index: 1;position: relative;background-color: white;}#sk-container-id-11 div.sk-parallel-item:first-child::after {align-self: flex-end;width: 50%;}#sk-container-id-11 div.sk-parallel-item:last-child::after {align-self: flex-start;width: 50%;}#sk-container-id-11 div.sk-parallel-item:only-child::after {width: 0;}#sk-container-id-11 div.sk-dashed-wrapped {border: 1px dashed gray;margin: 0 0.4em 0.5em 0.4em;box-sizing: border-box;padding-bottom: 0.4em;background-color: white;}#sk-container-id-11 div.sk-label label {font-family: monospace;font-weight: bold;display: inline-block;line-height: 1.2em;}#sk-container-id-11 div.sk-label-container {text-align: center;}#sk-container-id-11 div.sk-container {/* jupyter's `normalize.less` sets `[hidden] { display: none; }` but bootstrap.min.css set `[hidden] { display: none !important; }` so we also need the `!important` here to be able to override the default hidden behavior on the sphinx rendered scikit-learn.org. See: https://github.com/scikit-learn/scikit-learn/issues/21755 */display: inline-block !important;position: relative;}#sk-container-id-11 div.sk-text-repr-fallback {display: none;}</style><div id=\"sk-container-id-11\" class=\"sk-top-container\"><div class=\"sk-text-repr-fallback\"><pre>RandomForestRegressor(n_estimators=20)</pre><b>In a Jupyter environment, please rerun this cell to show the HTML representation or trust the notebook. <br />On GitHub, the HTML representation is unable to render, please try loading this page with nbviewer.org.</b></div><div class=\"sk-container\" hidden><div class=\"sk-item\"><div class=\"sk-estimator sk-toggleable\"><input class=\"sk-toggleable__control sk-hidden--visually\" id=\"sk-estimator-id-23\" type=\"checkbox\" checked><label for=\"sk-estimator-id-23\" class=\"sk-toggleable__label sk-toggleable__label-arrow\">RandomForestRegressor</label><div class=\"sk-toggleable__content\"><pre>RandomForestRegressor(n_estimators=20)</pre></div></div></div></div></div>"
            ]
          },
          "metadata": {},
          "execution_count": 89
        }
      ]
    },
    {
      "cell_type": "code",
      "source": [
        "y_rfg_pred = rfg2.predict(X1_test)\n",
        "\n",
        "rfg2_mae = mean_absolute_error(y1_test, y_rfg_pred)"
      ],
      "metadata": {
        "id": "kYPieG7exWIp"
      },
      "execution_count": 90,
      "outputs": []
    },
    {
      "cell_type": "markdown",
      "source": [
        "*max_features*"
      ],
      "metadata": {
        "id": "9O7skPx5o6hO"
      }
    },
    {
      "cell_type": "code",
      "source": [
        "# build model with 20 estimators, max_features of 10\n",
        "rfg3 = RandomForestRegressor(n_estimators=20, max_features=10)"
      ],
      "metadata": {
        "id": "CNkx_yo5xfh1"
      },
      "execution_count": 91,
      "outputs": []
    },
    {
      "cell_type": "code",
      "source": [
        "rfg3.fit(X1_train, y1_train)"
      ],
      "metadata": {
        "colab": {
          "base_uri": "https://localhost:8080/",
          "height": 74
        },
        "id": "jIYONL5mxtST",
        "outputId": "b3064ff8-8606-4ffd-e5eb-d077e07a24ad"
      },
      "execution_count": 92,
      "outputs": [
        {
          "output_type": "execute_result",
          "data": {
            "text/plain": [
              "RandomForestRegressor(max_features=10, n_estimators=20)"
            ],
            "text/html": [
              "<style>#sk-container-id-12 {color: black;}#sk-container-id-12 pre{padding: 0;}#sk-container-id-12 div.sk-toggleable {background-color: white;}#sk-container-id-12 label.sk-toggleable__label {cursor: pointer;display: block;width: 100%;margin-bottom: 0;padding: 0.3em;box-sizing: border-box;text-align: center;}#sk-container-id-12 label.sk-toggleable__label-arrow:before {content: \"▸\";float: left;margin-right: 0.25em;color: #696969;}#sk-container-id-12 label.sk-toggleable__label-arrow:hover:before {color: black;}#sk-container-id-12 div.sk-estimator:hover label.sk-toggleable__label-arrow:before {color: black;}#sk-container-id-12 div.sk-toggleable__content {max-height: 0;max-width: 0;overflow: hidden;text-align: left;background-color: #f0f8ff;}#sk-container-id-12 div.sk-toggleable__content pre {margin: 0.2em;color: black;border-radius: 0.25em;background-color: #f0f8ff;}#sk-container-id-12 input.sk-toggleable__control:checked~div.sk-toggleable__content {max-height: 200px;max-width: 100%;overflow: auto;}#sk-container-id-12 input.sk-toggleable__control:checked~label.sk-toggleable__label-arrow:before {content: \"▾\";}#sk-container-id-12 div.sk-estimator input.sk-toggleable__control:checked~label.sk-toggleable__label {background-color: #d4ebff;}#sk-container-id-12 div.sk-label input.sk-toggleable__control:checked~label.sk-toggleable__label {background-color: #d4ebff;}#sk-container-id-12 input.sk-hidden--visually {border: 0;clip: rect(1px 1px 1px 1px);clip: rect(1px, 1px, 1px, 1px);height: 1px;margin: -1px;overflow: hidden;padding: 0;position: absolute;width: 1px;}#sk-container-id-12 div.sk-estimator {font-family: monospace;background-color: #f0f8ff;border: 1px dotted black;border-radius: 0.25em;box-sizing: border-box;margin-bottom: 0.5em;}#sk-container-id-12 div.sk-estimator:hover {background-color: #d4ebff;}#sk-container-id-12 div.sk-parallel-item::after {content: \"\";width: 100%;border-bottom: 1px solid gray;flex-grow: 1;}#sk-container-id-12 div.sk-label:hover label.sk-toggleable__label {background-color: #d4ebff;}#sk-container-id-12 div.sk-serial::before {content: \"\";position: absolute;border-left: 1px solid gray;box-sizing: border-box;top: 0;bottom: 0;left: 50%;z-index: 0;}#sk-container-id-12 div.sk-serial {display: flex;flex-direction: column;align-items: center;background-color: white;padding-right: 0.2em;padding-left: 0.2em;position: relative;}#sk-container-id-12 div.sk-item {position: relative;z-index: 1;}#sk-container-id-12 div.sk-parallel {display: flex;align-items: stretch;justify-content: center;background-color: white;position: relative;}#sk-container-id-12 div.sk-item::before, #sk-container-id-12 div.sk-parallel-item::before {content: \"\";position: absolute;border-left: 1px solid gray;box-sizing: border-box;top: 0;bottom: 0;left: 50%;z-index: -1;}#sk-container-id-12 div.sk-parallel-item {display: flex;flex-direction: column;z-index: 1;position: relative;background-color: white;}#sk-container-id-12 div.sk-parallel-item:first-child::after {align-self: flex-end;width: 50%;}#sk-container-id-12 div.sk-parallel-item:last-child::after {align-self: flex-start;width: 50%;}#sk-container-id-12 div.sk-parallel-item:only-child::after {width: 0;}#sk-container-id-12 div.sk-dashed-wrapped {border: 1px dashed gray;margin: 0 0.4em 0.5em 0.4em;box-sizing: border-box;padding-bottom: 0.4em;background-color: white;}#sk-container-id-12 div.sk-label label {font-family: monospace;font-weight: bold;display: inline-block;line-height: 1.2em;}#sk-container-id-12 div.sk-label-container {text-align: center;}#sk-container-id-12 div.sk-container {/* jupyter's `normalize.less` sets `[hidden] { display: none; }` but bootstrap.min.css set `[hidden] { display: none !important; }` so we also need the `!important` here to be able to override the default hidden behavior on the sphinx rendered scikit-learn.org. See: https://github.com/scikit-learn/scikit-learn/issues/21755 */display: inline-block !important;position: relative;}#sk-container-id-12 div.sk-text-repr-fallback {display: none;}</style><div id=\"sk-container-id-12\" class=\"sk-top-container\"><div class=\"sk-text-repr-fallback\"><pre>RandomForestRegressor(max_features=10, n_estimators=20)</pre><b>In a Jupyter environment, please rerun this cell to show the HTML representation or trust the notebook. <br />On GitHub, the HTML representation is unable to render, please try loading this page with nbviewer.org.</b></div><div class=\"sk-container\" hidden><div class=\"sk-item\"><div class=\"sk-estimator sk-toggleable\"><input class=\"sk-toggleable__control sk-hidden--visually\" id=\"sk-estimator-id-24\" type=\"checkbox\" checked><label for=\"sk-estimator-id-24\" class=\"sk-toggleable__label sk-toggleable__label-arrow\">RandomForestRegressor</label><div class=\"sk-toggleable__content\"><pre>RandomForestRegressor(max_features=10, n_estimators=20)</pre></div></div></div></div></div>"
            ]
          },
          "metadata": {},
          "execution_count": 92
        }
      ]
    },
    {
      "cell_type": "code",
      "source": [
        "y_rfg_pred = rfg3.predict(X1_test)\n",
        "\n",
        "rfg3_mae = mean_absolute_error(y1_test, y_rfg_pred)"
      ],
      "metadata": {
        "id": "o6kBywDuxvrp"
      },
      "execution_count": 93,
      "outputs": []
    },
    {
      "cell_type": "markdown",
      "source": [
        "*max_samples*"
      ],
      "metadata": {
        "id": "Ov5CbL8ko8h3"
      }
    },
    {
      "cell_type": "code",
      "source": [
        "# build model with 20 estimators, max_samples size of 70%\n",
        "rfg4 = RandomForestRegressor(n_estimators=20, max_samples=0.7)\n"
      ],
      "metadata": {
        "id": "UNJaipKMx3os"
      },
      "execution_count": 94,
      "outputs": []
    },
    {
      "cell_type": "code",
      "source": [
        "rfg4.fit(X1_train, y1_train)"
      ],
      "metadata": {
        "id": "Mc68k7zDyFZR"
      },
      "execution_count": null,
      "outputs": []
    },
    {
      "cell_type": "code",
      "source": [
        "y_rfg_pred = rfg4.predict(X1_test)\n",
        "\n",
        "rfg4_mae = mean_absolute_error(y1_test, y_rfg_pred)"
      ],
      "metadata": {
        "id": "wwNPYzrjyJEE"
      },
      "execution_count": null,
      "outputs": []
    },
    {
      "cell_type": "markdown",
      "source": [
        "*Performance of all tested models*"
      ],
      "metadata": {
        "id": "Vop02FncyQ9y"
      }
    },
    {
      "cell_type": "code",
      "source": [
        "# display results\n",
        "print(f\"MAE SCORES\\nBaseline model:\\t\\t\\t\\t{base_mae:.5f}\")\n",
        "print(f\"Linear Regression:\\t\\t\\t{linr_mae:.5f}\")\n",
        "print(f\"\\nRandom Forest Regressors with:\\n  10 estimators:\\t\\t\\t{rfg1_mae:.5f}\")\n",
        "print(f\"  20 estimators:\\t\\t\\t{rfg2_mae:.5f}\")\n",
        "print(f\"  20 estimators, 10 max_features:\\t{rfg3_mae:.5f}\")\n",
        "print(f\"  20 estimators, 70% max_samples:\\t{rfg4_mae:.5f}\")"
      ],
      "metadata": {
        "id": "pVBn6bv-yWAs"
      },
      "execution_count": null,
      "outputs": []
    },
    {
      "cell_type": "markdown",
      "source": [
        "When comparing mae scores, the Random Forest Regressor model performs the best. Simply adjusting the number of estimators from 10 to 20 provides about a 1% increase in the mae score between Random Forest models, but adjusting other features makes the model perform worse."
      ],
      "metadata": {
        "id": "DAGmmWzn319c"
      }
    },
    {
      "cell_type": "markdown",
      "source": [
        "### Hyperparameter Tuning"
      ],
      "metadata": {
        "id": "ToSYApO34OwN"
      }
    },
    {
      "cell_type": "markdown",
      "metadata": {
        "id": "5CuYk9WBFF2X"
      },
      "source": [
        "Hyperparameter tuning plays a critical role in machine learning model development. It involves selecting the optimal values for the hyperparameters, which are configuration settings that control the behavior of the learning algorithm. Here's why hyperparameter tuning is so important in ML:\n",
        "\n",
        "1. **Optimizing Model Performance**: The choice of hyperparameters can significantly impact the model's performance. By fine-tuning the hyperparameters, we can improve the model's accuracy, precision, recall, or other performance metrics. It helps to extract the maximum predictive power from the chosen algorithm and ensures that the model is well-suited to the specific problem at hand.\n",
        "\n",
        "2. **Avoiding Overfitting and Underfitting**: Hyperparameter tuning helps strike a balance between overfitting and underfitting.\n",
        "\n",
        "3. **Exploring Model Complexity**: Hyperparameter tuning enables us to explore the complexity of the model. For instance, in algorithms like decision trees or neural networks, we can adjust the number of layers, the number of neurons, or the maximum depth of the tree. By systematically modifying these hyperparameters, we can understand how different levels of complexity impact the model's performance and find the right balance between simplicity and complexity.\n",
        "\n",
        "Note, there are multiple approaches to hyperparemeter tuning.  \n",
        "\n",
        "While grid search is the easiest to understand and implement there are many advantages of Bayesian search over grid search for hyperparameter tuning:\n",
        "\n",
        "1. **Efficiency**: Bayesian search is generally more efficient than grid search. Grid search explores all possible combinations of hyperparameter values, which can be computationally expensive and time-consuming, especially when dealing with a large number of hyperparameters or a wide range of values. Bayesian search, on the other hand, intelligently selects the next hyperparameter configuration to evaluate based on the results of previous evaluations. It focuses on areas of the hyperparameter space that are more likely to yield better performance, reducing the number of evaluations needed.\n",
        "\n",
        "2. **Flexibility**: Bayesian search is flexible in handling continuous and discrete hyperparameters. It can handle both types of hyperparameters naturally and effectively. In contrast, grid search is more suitable for discrete hyperparameters but may struggle with continuous ones, as it requires discretization or defining a finite set of values to search over.\n",
        "\n",
        "3. **Adaptive Search**: Bayesian search adapts its search strategy based on the results of previous evaluations. It maintains a probability distribution over the hyperparameter space, updating it with each evaluation. This allows it to dynamically allocate more evaluations to promising regions and explore unexplored areas. In contrast, grid search follows a fixed and predefined search grid, regardless of the results of previous evaluations.\n",
        "\n",
        "4. **Better Convergence**: Bayesian search has the potential to converge to the optimal hyperparameter configuration more quickly.\n",
        "\n",
        "Here are your tasks:\n",
        "\n",
        "  1. Perform a grid-search on a Random Forest Regressor model. Only search the space for the parameters 'n_estimators', 'max_depth', and 'min_samples_split'. Note, this can take some time to run. Make sure you set reasonable boundaries for the search space. Use Scikit-Learn's [GridSearchCV](https://scikit-learn.org/stable/modules/generated/sklearn.model_selection.GridSearchCV.html) method.\n",
        "\n",
        "  2. After you've identified the best parameters, train a random forest regression model using these parameters on the full training data.\n",
        "\n",
        "  3. Evaluate the model from the previous step using the test data. How does your model perform?"
      ]
    },
    {
      "cell_type": "code",
      "source": [
        "# Define the hyperparameters to tune.\n",
        "param_grid = {\n",
        "    'n_estimators': [5, 10, 20, 25, 50],\n",
        "    'max_depth': [None, 4, 8, 12, 16],\n",
        "    'min_samples_split': [2, 5, 10]\n",
        "}"
      ],
      "metadata": {
        "id": "HlmZeNDOa1zs"
      },
      "execution_count": null,
      "outputs": []
    },
    {
      "cell_type": "code",
      "execution_count": null,
      "metadata": {
        "colab": {
          "background_save": true
        },
        "id": "NWaMWOH6Kdho"
      },
      "outputs": [],
      "source": [
        "# Perform grid search to find the best hyperparameters. This could take a while.\n",
        "grid_search = GridSearchCV(RandomForestRegressor(), param_grid, cv=3, n_jobs=-1)\n",
        "grid_search.fit(X_train, y_train)"
      ]
    },
    {
      "cell_type": "code",
      "source": [
        "# Get the best model and its parameters.\n",
        "best_rfg_model = grid_search.best_estimator_\n",
        "print(best_rfg_model)\n",
        "\n",
        "#best_rfg_params = grid_search.best_params_"
      ],
      "metadata": {
        "id": "_JO-wsm7a58f"
      },
      "execution_count": null,
      "outputs": []
    },
    {
      "cell_type": "code",
      "execution_count": null,
      "metadata": {
        "colab": {
          "background_save": true
        },
        "id": "W7ier_bt23RS"
      },
      "outputs": [],
      "source": [
        "# Fit the best classifier on the training data.\n",
        "best_rfg_model.fit(X_train, y_train)"
      ]
    },
    {
      "cell_type": "code",
      "execution_count": null,
      "metadata": {
        "colab": {
          "background_save": true
        },
        "id": "ZHPrwD41tq13"
      },
      "outputs": [],
      "source": [
        "# Make predictions on the test data\n",
        "y_rfg_pred = best_rfg_model.predict(X_test)\n",
        "\n",
        "# calculate mean absolute error on the predictions\n",
        "best_rfg_mae = mean_absolute_error(y_test, y_rfg_pred)\n"
      ]
    },
    {
      "cell_type": "code",
      "source": [
        "# print results of all models\n",
        "# display results\n",
        "print(f\"MAE SCORES\\nBaseline model:\\t\\t\\t\\t{base_mae:.5f}\")\n",
        "print(f\"Linear Regression:\\t\\t\\t{linr_mae:.5f}\")\n",
        "print(f\"\\nRandom Forest Regressors with:\\n  10 estimators:\\t\\t\\t{rfg1_mae:.5f}\")\n",
        "print(f\"  20 estimators:\\t\\t\\t{rfg2_mae:.5f}\")\n",
        "print(f\"  best model:\\t{best_rfg_mae:.5f}\")"
      ],
      "metadata": {
        "id": "y6gi-xr8Hn3J"
      },
      "execution_count": null,
      "outputs": []
    }
  ],
  "metadata": {
    "colab": {
      "provenance": []
    },
    "kernelspec": {
      "display_name": "Python 3",
      "name": "python3"
    },
    "language_info": {
      "name": "python"
    }
  },
  "nbformat": 4,
  "nbformat_minor": 0
}