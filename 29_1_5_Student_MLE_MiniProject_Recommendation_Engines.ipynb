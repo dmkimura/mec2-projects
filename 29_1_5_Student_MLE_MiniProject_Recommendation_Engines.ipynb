{
  "nbformat": 4,
  "nbformat_minor": 0,
  "metadata": {
    "colab": {
      "provenance": []
    },
    "kernelspec": {
      "name": "python3",
      "display_name": "Python 3"
    },
    "language_info": {
      "name": "python"
    }
  },
  "cells": [
    {
      "cell_type": "markdown",
      "source": [
        "# Mini Project: Recommendation Engines\n",
        "\n",
        "Recommendation engines are algorithms designed to provide personalized suggestions or recommendations to users. These systems analyze user behavior, preferences, and interactions with items (products, movies, music, articles, etc.) to predict and offer items that users are likely to be interested in. Recommendation engines play a crucial role in enhancing user experience, driving engagement, and increasing conversion rates in various applications, including e-commerce, entertainment, content platforms, and more.\n",
        "\n",
        "There are generally two approaches taken in collaborative filtering and content-based recommendation engines:\n",
        "\n",
        "**1. Collaborative Filtering:**\n",
        "Collaborative Filtering is a popular approach to building recommendation systems that leverages the collective behavior of users to make personalized recommendations. It is based on the idea that users who have agreed in the past will likely agree in the future. There are two main types of collaborative filtering:\n",
        "\n",
        "- **User-based Collaborative Filtering:** This method finds users similar to the target user based on their past interactions (e.g., ratings or purchases). It then recommends items that similar users have liked but the target user has not interacted with yet.\n",
        "\n",
        "- **Item-based Collaborative Filtering:** In this approach, the system identifies similar items based on user interactions. It recommends items that are similar to the ones the target user has already liked or interacted with.\n",
        "\n",
        "Collaborative filtering does not require any explicit information about items but relies on the similarity between users or items. It is effective in capturing complex patterns and can provide serendipitous recommendations. However, it suffers from the cold-start problem (i.e., difficulty in recommending to new users or items with no interactions) and scalability challenges in large datasets.\n",
        "\n",
        "**2. Content-Based Recommendation:**\n",
        "Content-based recommendation is an alternative approach to building recommendation systems that focuses on the attributes or features of items and users. It leverages the characteristics of items to make recommendations. The key steps involved in content-based recommendation are:\n",
        "\n",
        "- **Feature Extraction:** For each item, relevant features are extracted. For movies, these features could be genre, director, actors, and plot summary.\n",
        "\n",
        "- **User Profile:** A user profile is created based on the items they have interacted with in the past. The user profile contains the weighted importance of features based on their interactions.\n",
        "\n",
        "- **Similarity Calculation:** The similarity between items or between items and the user profile is calculated using similarity metrics like cosine similarity or Euclidean distance.\n",
        "\n",
        "- **Recommendation:** Items that are most similar to the user profile are recommended to the user.\n",
        "\n",
        "Content-based recommendation systems are less affected by the cold-start problem as they can still recommend items based on their features. They are also more interpretable as they rely on item attributes. However, they may miss out on providing serendipitous recommendations and can be limited by the quality of feature extraction and user profiles.\n",
        "\n",
        "**Choosing Between Collaborative Filtering and Content-Based:**\n",
        "Both collaborative filtering and content-based approaches have their strengths and weaknesses. The choice between them depends on the specific requirements of the recommendation system, the type of data available, and the user base. Hybrid approaches that combine collaborative filtering and content-based techniques are also common, aiming to leverage the strengths of both methods and mitigate their weaknesses."
      ],
      "metadata": {
        "id": "fyXucUekO19i"
      }
    },
    {
      "cell_type": "markdown",
      "source": [
        "In this mini-project, you'll be building both content based and collaborative filtering engines for the [MovieLens 25M dataset](https://grouplens.org/datasets/movielens/25m/). The MovieLens 25M dataset is one of the most widely used and popular datasets for building and evaluating recommendation systems. It is provided by the GroupLens Research project, which collects and studies datasets related to movie ratings and recommendations. The MovieLens 25M dataset contains movie ratings and other related information contributed by users of the MovieLens website.\n",
        "\n",
        "**Dataset Details:**\n",
        "- **Size:** The dataset contains approximately 25 million movie ratings.\n",
        "- **Users:** It includes ratings from over 162,000 users.\n",
        "- **Movies:** The dataset consists of ratings for more than 62,000 movies.\n",
        "- **Ratings:** The ratings are provided on a scale of 1 to 5, where 1 is the lowest rating and 5 is the highest.\n",
        "- **Timestamps:** Each rating is associated with a timestamp, indicating when the rating was given.\n",
        "\n",
        "**Data Files:**\n",
        "The dataset is usually split into three CSV files:\n",
        "\n",
        "1. **movies.csv:** Contains information about movies, including the movie ID, title, genres, and release year.\n",
        "   - Columns: movieId, title, genres\n",
        "\n",
        "2. **ratings.csv:** Contains movie ratings provided by users, including the user ID, movie ID, rating, and timestamp.\n",
        "   - Columns: userId, movieId, rating, timestamp\n",
        "\n",
        "3. **tags.csv:** Contains user-generated tags for movies, including the user ID, movie ID, tag, and timestamp.\n",
        "   - Columns: userId, movieId, tag, timestamp"
      ],
      "metadata": {
        "id": "TYuE9O6I2uRY"
      }
    },
    {
      "cell_type": "markdown",
      "source": [
        "First, import all the libraries you'll need."
      ],
      "metadata": {
        "id": "DN0qzP-cRlMo"
      }
    },
    {
      "cell_type": "code",
      "execution_count": 1,
      "metadata": {
        "id": "kLWR1DfQPakn"
      },
      "outputs": [],
      "source": [
        "import zipfile\n",
        "import numpy as np\n",
        "import pandas as pd\n",
        "from urllib.request import urlretrieve\n",
        "from sklearn.metrics.pairwise import cosine_similarity"
      ]
    },
    {
      "cell_type": "markdown",
      "source": [
        "Next, download the relevant components of the MoveLens dataset. Note, these instructions are roughly based on the colab [here](https://colab.research.google.com/github/google/eng-edu/blob/main/ml/recommendation-systems/recommendation-systems.ipynb?utm_source=ss-recommendation-systems&utm_campaign=colab-external&utm_medium=referral&utm_content=recommendation-systems#scrollTo=O3bcgduFo4s6)."
      ],
      "metadata": {
        "id": "iaG6vAKyREej"
      }
    },
    {
      "cell_type": "code",
      "source": [
        "print(\"Downloading movielens data...\")\n",
        "\n",
        "urlretrieve('http://files.grouplens.org/datasets/movielens/ml-100k.zip', 'movielens.zip')\n",
        "zip_ref = zipfile.ZipFile('movielens.zip', 'r')\n",
        "zip_ref.extractall()\n",
        "print(\"Done. Dataset contains:\")\n",
        "print(zip_ref.read('ml-100k/u.info'))\n",
        "\n",
        "ratings_cols = ['user_id', 'movie_id', 'rating', 'unix_timestamp']\n",
        "ratings = pd.read_csv(\n",
        "    'ml-100k/u.data', sep='\\t', names=ratings_cols, encoding='latin-1')\n",
        "\n",
        "# The movies file contains a binary feature for each genre.\n",
        "genre_cols = [\n",
        "    \"genre_unknown\", \"Action\", \"Adventure\", \"Animation\", \"Children\", \"Comedy\",\n",
        "    \"Crime\", \"Documentary\", \"Drama\", \"Fantasy\", \"Film-Noir\", \"Horror\",\n",
        "    \"Musical\", \"Mystery\", \"Romance\", \"Sci-Fi\", \"Thriller\", \"War\", \"Western\"\n",
        "]\n",
        "movies_cols = [\n",
        "    'movie_id', 'title', 'release_date', \"video_release_date\", \"imdb_url\"\n",
        "] + genre_cols\n",
        "movies = pd.read_csv(\n",
        "    'ml-100k/u.item', sep='|', names=movies_cols, encoding='latin-1')"
      ],
      "metadata": {
        "id": "-wCvx2ukPm-3",
        "colab": {
          "base_uri": "https://localhost:8080/"
        },
        "outputId": "fe2e66eb-150a-4d20-fe7a-78a138d72a7e"
      },
      "execution_count": 2,
      "outputs": [
        {
          "output_type": "stream",
          "name": "stdout",
          "text": [
            "Downloading movielens data...\n",
            "Done. Dataset contains:\n",
            "b'943 users\\n1682 items\\n100000 ratings\\n'\n"
          ]
        }
      ]
    },
    {
      "cell_type": "markdown",
      "source": [
        "Before doing any kind of machine learning, it's always good to familiarize yourself with the datasets you'lll be working with.\n",
        "\n",
        "Here are your tasks:\n",
        "\n",
        "1. Spend some time familiarizing yourself with both the `movies` and `ratings` dataframes. How many unique user ids are present? How many unique movies are there?\n",
        "  * `ANSWERS:`\n",
        "    * 943 unique user ID's\n",
        "    * 1,682 unique movie_id's\n",
        "    * But only 1,664 unique movie titles\n",
        "2. Create a new dataframe that merges the `movies` and `ratings` tables on 'movie_id'. Only keep the 'user_id', 'title', 'rating' fields in this new dataframe."
      ],
      "metadata": {
        "id": "pLAMVhnbR-Cy"
      }
    },
    {
      "cell_type": "markdown",
      "source": [
        "## EDA"
      ],
      "metadata": {
        "id": "5sM_Ni6xAKl2"
      }
    },
    {
      "cell_type": "code",
      "source": [
        "# Spend some time familiarizing yourself with both the movies and ratings\n",
        "# dataframes. How many unique user ids are present? (943) How many unique movies\n",
        "# are there? (1,682 unique movie_ids, but only 1,664 unique movie titles)"
      ],
      "metadata": {
        "id": "vp7Tx7H_P5f2"
      },
      "execution_count": null,
      "outputs": []
    },
    {
      "cell_type": "markdown",
      "source": [
        "**Ratings EDA**\n",
        "\n",
        "The `ratings` DataFrame has 4 columns and 100,000 records. There are no missing values in this dataset.\n",
        "\n",
        "Here is an explanation of the columns in the `ratings` dataset that will be included in the combined dataset:\n",
        "* *user_id* - 943 unique user_id numberes, ranging from 1 to 943\n",
        "* *movie_id* - 1,682 unique movie_id numbers, ranging from 1 to 1,682\n",
        "* *rating* - 5 unique rating numbers, ranging from 1 to 5"
      ],
      "metadata": {
        "id": "RB1bxkHWekMe"
      }
    },
    {
      "cell_type": "code",
      "source": [
        "ratings.head()"
      ],
      "metadata": {
        "colab": {
          "base_uri": "https://localhost:8080/",
          "height": 206
        },
        "id": "Ig2Cqzl8fbm6",
        "outputId": "99bb5ab4-7359-4b2a-a5ae-22ff696198af"
      },
      "execution_count": 3,
      "outputs": [
        {
          "output_type": "execute_result",
          "data": {
            "text/plain": [
              "   user_id  movie_id  rating  unix_timestamp\n",
              "0      196       242       3       881250949\n",
              "1      186       302       3       891717742\n",
              "2       22       377       1       878887116\n",
              "3      244        51       2       880606923\n",
              "4      166       346       1       886397596"
            ],
            "text/html": [
              "\n",
              "  <div id=\"df-c999c603-bdc9-41f6-8716-64451d93cadd\" class=\"colab-df-container\">\n",
              "    <div>\n",
              "<style scoped>\n",
              "    .dataframe tbody tr th:only-of-type {\n",
              "        vertical-align: middle;\n",
              "    }\n",
              "\n",
              "    .dataframe tbody tr th {\n",
              "        vertical-align: top;\n",
              "    }\n",
              "\n",
              "    .dataframe thead th {\n",
              "        text-align: right;\n",
              "    }\n",
              "</style>\n",
              "<table border=\"1\" class=\"dataframe\">\n",
              "  <thead>\n",
              "    <tr style=\"text-align: right;\">\n",
              "      <th></th>\n",
              "      <th>user_id</th>\n",
              "      <th>movie_id</th>\n",
              "      <th>rating</th>\n",
              "      <th>unix_timestamp</th>\n",
              "    </tr>\n",
              "  </thead>\n",
              "  <tbody>\n",
              "    <tr>\n",
              "      <th>0</th>\n",
              "      <td>196</td>\n",
              "      <td>242</td>\n",
              "      <td>3</td>\n",
              "      <td>881250949</td>\n",
              "    </tr>\n",
              "    <tr>\n",
              "      <th>1</th>\n",
              "      <td>186</td>\n",
              "      <td>302</td>\n",
              "      <td>3</td>\n",
              "      <td>891717742</td>\n",
              "    </tr>\n",
              "    <tr>\n",
              "      <th>2</th>\n",
              "      <td>22</td>\n",
              "      <td>377</td>\n",
              "      <td>1</td>\n",
              "      <td>878887116</td>\n",
              "    </tr>\n",
              "    <tr>\n",
              "      <th>3</th>\n",
              "      <td>244</td>\n",
              "      <td>51</td>\n",
              "      <td>2</td>\n",
              "      <td>880606923</td>\n",
              "    </tr>\n",
              "    <tr>\n",
              "      <th>4</th>\n",
              "      <td>166</td>\n",
              "      <td>346</td>\n",
              "      <td>1</td>\n",
              "      <td>886397596</td>\n",
              "    </tr>\n",
              "  </tbody>\n",
              "</table>\n",
              "</div>\n",
              "    <div class=\"colab-df-buttons\">\n",
              "\n",
              "  <div class=\"colab-df-container\">\n",
              "    <button class=\"colab-df-convert\" onclick=\"convertToInteractive('df-c999c603-bdc9-41f6-8716-64451d93cadd')\"\n",
              "            title=\"Convert this dataframe to an interactive table.\"\n",
              "            style=\"display:none;\">\n",
              "\n",
              "  <svg xmlns=\"http://www.w3.org/2000/svg\" height=\"24px\" viewBox=\"0 -960 960 960\">\n",
              "    <path d=\"M120-120v-720h720v720H120Zm60-500h600v-160H180v160Zm220 220h160v-160H400v160Zm0 220h160v-160H400v160ZM180-400h160v-160H180v160Zm440 0h160v-160H620v160ZM180-180h160v-160H180v160Zm440 0h160v-160H620v160Z\"/>\n",
              "  </svg>\n",
              "    </button>\n",
              "\n",
              "  <style>\n",
              "    .colab-df-container {\n",
              "      display:flex;\n",
              "      gap: 12px;\n",
              "    }\n",
              "\n",
              "    .colab-df-convert {\n",
              "      background-color: #E8F0FE;\n",
              "      border: none;\n",
              "      border-radius: 50%;\n",
              "      cursor: pointer;\n",
              "      display: none;\n",
              "      fill: #1967D2;\n",
              "      height: 32px;\n",
              "      padding: 0 0 0 0;\n",
              "      width: 32px;\n",
              "    }\n",
              "\n",
              "    .colab-df-convert:hover {\n",
              "      background-color: #E2EBFA;\n",
              "      box-shadow: 0px 1px 2px rgba(60, 64, 67, 0.3), 0px 1px 3px 1px rgba(60, 64, 67, 0.15);\n",
              "      fill: #174EA6;\n",
              "    }\n",
              "\n",
              "    .colab-df-buttons div {\n",
              "      margin-bottom: 4px;\n",
              "    }\n",
              "\n",
              "    [theme=dark] .colab-df-convert {\n",
              "      background-color: #3B4455;\n",
              "      fill: #D2E3FC;\n",
              "    }\n",
              "\n",
              "    [theme=dark] .colab-df-convert:hover {\n",
              "      background-color: #434B5C;\n",
              "      box-shadow: 0px 1px 3px 1px rgba(0, 0, 0, 0.15);\n",
              "      filter: drop-shadow(0px 1px 2px rgba(0, 0, 0, 0.3));\n",
              "      fill: #FFFFFF;\n",
              "    }\n",
              "  </style>\n",
              "\n",
              "    <script>\n",
              "      const buttonEl =\n",
              "        document.querySelector('#df-c999c603-bdc9-41f6-8716-64451d93cadd button.colab-df-convert');\n",
              "      buttonEl.style.display =\n",
              "        google.colab.kernel.accessAllowed ? 'block' : 'none';\n",
              "\n",
              "      async function convertToInteractive(key) {\n",
              "        const element = document.querySelector('#df-c999c603-bdc9-41f6-8716-64451d93cadd');\n",
              "        const dataTable =\n",
              "          await google.colab.kernel.invokeFunction('convertToInteractive',\n",
              "                                                    [key], {});\n",
              "        if (!dataTable) return;\n",
              "\n",
              "        const docLinkHtml = 'Like what you see? Visit the ' +\n",
              "          '<a target=\"_blank\" href=https://colab.research.google.com/notebooks/data_table.ipynb>data table notebook</a>'\n",
              "          + ' to learn more about interactive tables.';\n",
              "        element.innerHTML = '';\n",
              "        dataTable['output_type'] = 'display_data';\n",
              "        await google.colab.output.renderOutput(dataTable, element);\n",
              "        const docLink = document.createElement('div');\n",
              "        docLink.innerHTML = docLinkHtml;\n",
              "        element.appendChild(docLink);\n",
              "      }\n",
              "    </script>\n",
              "  </div>\n",
              "\n",
              "\n",
              "<div id=\"df-ccdb0d58-01e2-487b-9218-c5307c3fb264\">\n",
              "  <button class=\"colab-df-quickchart\" onclick=\"quickchart('df-ccdb0d58-01e2-487b-9218-c5307c3fb264')\"\n",
              "            title=\"Suggest charts\"\n",
              "            style=\"display:none;\">\n",
              "\n",
              "<svg xmlns=\"http://www.w3.org/2000/svg\" height=\"24px\"viewBox=\"0 0 24 24\"\n",
              "     width=\"24px\">\n",
              "    <g>\n",
              "        <path d=\"M19 3H5c-1.1 0-2 .9-2 2v14c0 1.1.9 2 2 2h14c1.1 0 2-.9 2-2V5c0-1.1-.9-2-2-2zM9 17H7v-7h2v7zm4 0h-2V7h2v10zm4 0h-2v-4h2v4z\"/>\n",
              "    </g>\n",
              "</svg>\n",
              "  </button>\n",
              "\n",
              "<style>\n",
              "  .colab-df-quickchart {\n",
              "      --bg-color: #E8F0FE;\n",
              "      --fill-color: #1967D2;\n",
              "      --hover-bg-color: #E2EBFA;\n",
              "      --hover-fill-color: #174EA6;\n",
              "      --disabled-fill-color: #AAA;\n",
              "      --disabled-bg-color: #DDD;\n",
              "  }\n",
              "\n",
              "  [theme=dark] .colab-df-quickchart {\n",
              "      --bg-color: #3B4455;\n",
              "      --fill-color: #D2E3FC;\n",
              "      --hover-bg-color: #434B5C;\n",
              "      --hover-fill-color: #FFFFFF;\n",
              "      --disabled-bg-color: #3B4455;\n",
              "      --disabled-fill-color: #666;\n",
              "  }\n",
              "\n",
              "  .colab-df-quickchart {\n",
              "    background-color: var(--bg-color);\n",
              "    border: none;\n",
              "    border-radius: 50%;\n",
              "    cursor: pointer;\n",
              "    display: none;\n",
              "    fill: var(--fill-color);\n",
              "    height: 32px;\n",
              "    padding: 0;\n",
              "    width: 32px;\n",
              "  }\n",
              "\n",
              "  .colab-df-quickchart:hover {\n",
              "    background-color: var(--hover-bg-color);\n",
              "    box-shadow: 0 1px 2px rgba(60, 64, 67, 0.3), 0 1px 3px 1px rgba(60, 64, 67, 0.15);\n",
              "    fill: var(--button-hover-fill-color);\n",
              "  }\n",
              "\n",
              "  .colab-df-quickchart-complete:disabled,\n",
              "  .colab-df-quickchart-complete:disabled:hover {\n",
              "    background-color: var(--disabled-bg-color);\n",
              "    fill: var(--disabled-fill-color);\n",
              "    box-shadow: none;\n",
              "  }\n",
              "\n",
              "  .colab-df-spinner {\n",
              "    border: 2px solid var(--fill-color);\n",
              "    border-color: transparent;\n",
              "    border-bottom-color: var(--fill-color);\n",
              "    animation:\n",
              "      spin 1s steps(1) infinite;\n",
              "  }\n",
              "\n",
              "  @keyframes spin {\n",
              "    0% {\n",
              "      border-color: transparent;\n",
              "      border-bottom-color: var(--fill-color);\n",
              "      border-left-color: var(--fill-color);\n",
              "    }\n",
              "    20% {\n",
              "      border-color: transparent;\n",
              "      border-left-color: var(--fill-color);\n",
              "      border-top-color: var(--fill-color);\n",
              "    }\n",
              "    30% {\n",
              "      border-color: transparent;\n",
              "      border-left-color: var(--fill-color);\n",
              "      border-top-color: var(--fill-color);\n",
              "      border-right-color: var(--fill-color);\n",
              "    }\n",
              "    40% {\n",
              "      border-color: transparent;\n",
              "      border-right-color: var(--fill-color);\n",
              "      border-top-color: var(--fill-color);\n",
              "    }\n",
              "    60% {\n",
              "      border-color: transparent;\n",
              "      border-right-color: var(--fill-color);\n",
              "    }\n",
              "    80% {\n",
              "      border-color: transparent;\n",
              "      border-right-color: var(--fill-color);\n",
              "      border-bottom-color: var(--fill-color);\n",
              "    }\n",
              "    90% {\n",
              "      border-color: transparent;\n",
              "      border-bottom-color: var(--fill-color);\n",
              "    }\n",
              "  }\n",
              "</style>\n",
              "\n",
              "  <script>\n",
              "    async function quickchart(key) {\n",
              "      const quickchartButtonEl =\n",
              "        document.querySelector('#' + key + ' button');\n",
              "      quickchartButtonEl.disabled = true;  // To prevent multiple clicks.\n",
              "      quickchartButtonEl.classList.add('colab-df-spinner');\n",
              "      try {\n",
              "        const charts = await google.colab.kernel.invokeFunction(\n",
              "            'suggestCharts', [key], {});\n",
              "      } catch (error) {\n",
              "        console.error('Error during call to suggestCharts:', error);\n",
              "      }\n",
              "      quickchartButtonEl.classList.remove('colab-df-spinner');\n",
              "      quickchartButtonEl.classList.add('colab-df-quickchart-complete');\n",
              "    }\n",
              "    (() => {\n",
              "      let quickchartButtonEl =\n",
              "        document.querySelector('#df-ccdb0d58-01e2-487b-9218-c5307c3fb264 button');\n",
              "      quickchartButtonEl.style.display =\n",
              "        google.colab.kernel.accessAllowed ? 'block' : 'none';\n",
              "    })();\n",
              "  </script>\n",
              "</div>\n",
              "\n",
              "    </div>\n",
              "  </div>\n"
            ],
            "application/vnd.google.colaboratory.intrinsic+json": {
              "type": "dataframe",
              "variable_name": "ratings",
              "summary": "{\n  \"name\": \"ratings\",\n  \"rows\": 100000,\n  \"fields\": [\n    {\n      \"column\": \"user_id\",\n      \"properties\": {\n        \"dtype\": \"number\",\n        \"std\": 266,\n        \"min\": 1,\n        \"max\": 943,\n        \"num_unique_values\": 943,\n        \"samples\": [\n          262,\n          136,\n          821\n        ],\n        \"semantic_type\": \"\",\n        \"description\": \"\"\n      }\n    },\n    {\n      \"column\": \"movie_id\",\n      \"properties\": {\n        \"dtype\": \"number\",\n        \"std\": 330,\n        \"min\": 1,\n        \"max\": 1682,\n        \"num_unique_values\": 1682,\n        \"samples\": [\n          1557,\n          808,\n          1618\n        ],\n        \"semantic_type\": \"\",\n        \"description\": \"\"\n      }\n    },\n    {\n      \"column\": \"rating\",\n      \"properties\": {\n        \"dtype\": \"number\",\n        \"std\": 1,\n        \"min\": 1,\n        \"max\": 5,\n        \"num_unique_values\": 5,\n        \"samples\": [\n          1,\n          5,\n          2\n        ],\n        \"semantic_type\": \"\",\n        \"description\": \"\"\n      }\n    },\n    {\n      \"column\": \"unix_timestamp\",\n      \"properties\": {\n        \"dtype\": \"number\",\n        \"std\": 5343856,\n        \"min\": 874724710,\n        \"max\": 893286638,\n        \"num_unique_values\": 49282,\n        \"samples\": [\n          889728713,\n          888443306,\n          880605158\n        ],\n        \"semantic_type\": \"\",\n        \"description\": \"\"\n      }\n    }\n  ]\n}"
            }
          },
          "metadata": {},
          "execution_count": 3
        }
      ]
    },
    {
      "cell_type": "code",
      "source": [
        "ratings.shape"
      ],
      "metadata": {
        "colab": {
          "base_uri": "https://localhost:8080/"
        },
        "id": "uZD81C5lfjAe",
        "outputId": "3407c845-1aad-48be-ec3a-9c5c0d0e9cce"
      },
      "execution_count": 4,
      "outputs": [
        {
          "output_type": "execute_result",
          "data": {
            "text/plain": [
              "(100000, 4)"
            ]
          },
          "metadata": {},
          "execution_count": 4
        }
      ]
    },
    {
      "cell_type": "code",
      "source": [
        "ratings.info()"
      ],
      "metadata": {
        "colab": {
          "base_uri": "https://localhost:8080/"
        },
        "id": "tDkuLK6CjYWZ",
        "outputId": "e59bea79-d487-4b6f-a094-4f77a7bb5ce1"
      },
      "execution_count": 5,
      "outputs": [
        {
          "output_type": "stream",
          "name": "stdout",
          "text": [
            "<class 'pandas.core.frame.DataFrame'>\n",
            "RangeIndex: 100000 entries, 0 to 99999\n",
            "Data columns (total 4 columns):\n",
            " #   Column          Non-Null Count   Dtype\n",
            "---  ------          --------------   -----\n",
            " 0   user_id         100000 non-null  int64\n",
            " 1   movie_id        100000 non-null  int64\n",
            " 2   rating          100000 non-null  int64\n",
            " 3   unix_timestamp  100000 non-null  int64\n",
            "dtypes: int64(4)\n",
            "memory usage: 3.1 MB\n"
          ]
        }
      ]
    },
    {
      "cell_type": "code",
      "source": [
        "ratings['rating'].unique()"
      ],
      "metadata": {
        "colab": {
          "base_uri": "https://localhost:8080/"
        },
        "id": "fpPTEm89fmbh",
        "outputId": "30087d9f-8e79-4c98-a52d-0e4798bdcb3e"
      },
      "execution_count": 6,
      "outputs": [
        {
          "output_type": "execute_result",
          "data": {
            "text/plain": [
              "array([3, 1, 2, 4, 5])"
            ]
          },
          "metadata": {},
          "execution_count": 6
        }
      ]
    },
    {
      "cell_type": "code",
      "source": [
        "ratings['user_id'].nunique()"
      ],
      "metadata": {
        "colab": {
          "base_uri": "https://localhost:8080/"
        },
        "id": "RMjqTZsifohj",
        "outputId": "2645ae32-d366-4e9a-d49b-4b8f1b00347f"
      },
      "execution_count": 7,
      "outputs": [
        {
          "output_type": "execute_result",
          "data": {
            "text/plain": [
              "943"
            ]
          },
          "metadata": {},
          "execution_count": 7
        }
      ]
    },
    {
      "cell_type": "code",
      "source": [
        "ratings['user_id'].sort_values()"
      ],
      "metadata": {
        "id": "jmD6JJaZCMuQ",
        "colab": {
          "base_uri": "https://localhost:8080/",
          "height": 458
        },
        "outputId": "3455c5e8-7b76-4130-e131-09ed79b11ec9"
      },
      "execution_count": 8,
      "outputs": [
        {
          "output_type": "execute_result",
          "data": {
            "text/plain": [
              "66567      1\n",
              "62820      1\n",
              "10207      1\n",
              "9971       1\n",
              "22496      1\n",
              "        ... \n",
              "96823    943\n",
              "70902    943\n",
              "84518    943\n",
              "72321    943\n",
              "70713    943\n",
              "Name: user_id, Length: 100000, dtype: int64"
            ],
            "text/html": [
              "<div>\n",
              "<style scoped>\n",
              "    .dataframe tbody tr th:only-of-type {\n",
              "        vertical-align: middle;\n",
              "    }\n",
              "\n",
              "    .dataframe tbody tr th {\n",
              "        vertical-align: top;\n",
              "    }\n",
              "\n",
              "    .dataframe thead th {\n",
              "        text-align: right;\n",
              "    }\n",
              "</style>\n",
              "<table border=\"1\" class=\"dataframe\">\n",
              "  <thead>\n",
              "    <tr style=\"text-align: right;\">\n",
              "      <th></th>\n",
              "      <th>user_id</th>\n",
              "    </tr>\n",
              "  </thead>\n",
              "  <tbody>\n",
              "    <tr>\n",
              "      <th>66567</th>\n",
              "      <td>1</td>\n",
              "    </tr>\n",
              "    <tr>\n",
              "      <th>62820</th>\n",
              "      <td>1</td>\n",
              "    </tr>\n",
              "    <tr>\n",
              "      <th>10207</th>\n",
              "      <td>1</td>\n",
              "    </tr>\n",
              "    <tr>\n",
              "      <th>9971</th>\n",
              "      <td>1</td>\n",
              "    </tr>\n",
              "    <tr>\n",
              "      <th>22496</th>\n",
              "      <td>1</td>\n",
              "    </tr>\n",
              "    <tr>\n",
              "      <th>...</th>\n",
              "      <td>...</td>\n",
              "    </tr>\n",
              "    <tr>\n",
              "      <th>96823</th>\n",
              "      <td>943</td>\n",
              "    </tr>\n",
              "    <tr>\n",
              "      <th>70902</th>\n",
              "      <td>943</td>\n",
              "    </tr>\n",
              "    <tr>\n",
              "      <th>84518</th>\n",
              "      <td>943</td>\n",
              "    </tr>\n",
              "    <tr>\n",
              "      <th>72321</th>\n",
              "      <td>943</td>\n",
              "    </tr>\n",
              "    <tr>\n",
              "      <th>70713</th>\n",
              "      <td>943</td>\n",
              "    </tr>\n",
              "  </tbody>\n",
              "</table>\n",
              "<p>100000 rows × 1 columns</p>\n",
              "</div><br><label><b>dtype:</b> int64</label>"
            ]
          },
          "metadata": {},
          "execution_count": 8
        }
      ]
    },
    {
      "cell_type": "code",
      "source": [
        "ratings['movie_id'].nunique()"
      ],
      "metadata": {
        "colab": {
          "base_uri": "https://localhost:8080/"
        },
        "id": "NGWjTIUJftJC",
        "outputId": "53a69b32-450e-429d-e489-5728e5c69aab"
      },
      "execution_count": 9,
      "outputs": [
        {
          "output_type": "execute_result",
          "data": {
            "text/plain": [
              "1682"
            ]
          },
          "metadata": {},
          "execution_count": 9
        }
      ]
    },
    {
      "cell_type": "code",
      "source": [
        "ratings['movie_id'].sort_values()"
      ],
      "metadata": {
        "colab": {
          "base_uri": "https://localhost:8080/",
          "height": 458
        },
        "id": "lpTYg9ENClpc",
        "outputId": "2c02a37c-ef9e-4745-d898-ada024e8391d"
      },
      "execution_count": 10,
      "outputs": [
        {
          "output_type": "execute_result",
          "data": {
            "text/plain": [
              "25741       1\n",
              "93639       1\n",
              "55726       1\n",
              "49529       1\n",
              "89079       1\n",
              "         ... \n",
              "75323    1678\n",
              "67302    1679\n",
              "80394    1680\n",
              "92329    1681\n",
              "95376    1682\n",
              "Name: movie_id, Length: 100000, dtype: int64"
            ],
            "text/html": [
              "<div>\n",
              "<style scoped>\n",
              "    .dataframe tbody tr th:only-of-type {\n",
              "        vertical-align: middle;\n",
              "    }\n",
              "\n",
              "    .dataframe tbody tr th {\n",
              "        vertical-align: top;\n",
              "    }\n",
              "\n",
              "    .dataframe thead th {\n",
              "        text-align: right;\n",
              "    }\n",
              "</style>\n",
              "<table border=\"1\" class=\"dataframe\">\n",
              "  <thead>\n",
              "    <tr style=\"text-align: right;\">\n",
              "      <th></th>\n",
              "      <th>movie_id</th>\n",
              "    </tr>\n",
              "  </thead>\n",
              "  <tbody>\n",
              "    <tr>\n",
              "      <th>25741</th>\n",
              "      <td>1</td>\n",
              "    </tr>\n",
              "    <tr>\n",
              "      <th>93639</th>\n",
              "      <td>1</td>\n",
              "    </tr>\n",
              "    <tr>\n",
              "      <th>55726</th>\n",
              "      <td>1</td>\n",
              "    </tr>\n",
              "    <tr>\n",
              "      <th>49529</th>\n",
              "      <td>1</td>\n",
              "    </tr>\n",
              "    <tr>\n",
              "      <th>89079</th>\n",
              "      <td>1</td>\n",
              "    </tr>\n",
              "    <tr>\n",
              "      <th>...</th>\n",
              "      <td>...</td>\n",
              "    </tr>\n",
              "    <tr>\n",
              "      <th>75323</th>\n",
              "      <td>1678</td>\n",
              "    </tr>\n",
              "    <tr>\n",
              "      <th>67302</th>\n",
              "      <td>1679</td>\n",
              "    </tr>\n",
              "    <tr>\n",
              "      <th>80394</th>\n",
              "      <td>1680</td>\n",
              "    </tr>\n",
              "    <tr>\n",
              "      <th>92329</th>\n",
              "      <td>1681</td>\n",
              "    </tr>\n",
              "    <tr>\n",
              "      <th>95376</th>\n",
              "      <td>1682</td>\n",
              "    </tr>\n",
              "  </tbody>\n",
              "</table>\n",
              "<p>100000 rows × 1 columns</p>\n",
              "</div><br><label><b>dtype:</b> int64</label>"
            ]
          },
          "metadata": {},
          "execution_count": 10
        }
      ]
    },
    {
      "cell_type": "code",
      "source": [
        "# check if there are duplicate entries between user_id and movie_id\n",
        "duplicates = ratings[ratings.duplicated(subset=['user_id', 'movie_id'], keep=False)]\n",
        "duplicates.sum()"
      ],
      "metadata": {
        "colab": {
          "base_uri": "https://localhost:8080/",
          "height": 209
        },
        "id": "L2sgiRZOGSg8",
        "outputId": "2c99c513-bec4-4bf5-d6aa-cea7f9a282fb"
      },
      "execution_count": 11,
      "outputs": [
        {
          "output_type": "execute_result",
          "data": {
            "text/plain": [
              "user_id           0\n",
              "movie_id          0\n",
              "rating            0\n",
              "unix_timestamp    0\n",
              "dtype: int64"
            ],
            "text/html": [
              "<div>\n",
              "<style scoped>\n",
              "    .dataframe tbody tr th:only-of-type {\n",
              "        vertical-align: middle;\n",
              "    }\n",
              "\n",
              "    .dataframe tbody tr th {\n",
              "        vertical-align: top;\n",
              "    }\n",
              "\n",
              "    .dataframe thead th {\n",
              "        text-align: right;\n",
              "    }\n",
              "</style>\n",
              "<table border=\"1\" class=\"dataframe\">\n",
              "  <thead>\n",
              "    <tr style=\"text-align: right;\">\n",
              "      <th></th>\n",
              "      <th>0</th>\n",
              "    </tr>\n",
              "  </thead>\n",
              "  <tbody>\n",
              "    <tr>\n",
              "      <th>user_id</th>\n",
              "      <td>0</td>\n",
              "    </tr>\n",
              "    <tr>\n",
              "      <th>movie_id</th>\n",
              "      <td>0</td>\n",
              "    </tr>\n",
              "    <tr>\n",
              "      <th>rating</th>\n",
              "      <td>0</td>\n",
              "    </tr>\n",
              "    <tr>\n",
              "      <th>unix_timestamp</th>\n",
              "      <td>0</td>\n",
              "    </tr>\n",
              "  </tbody>\n",
              "</table>\n",
              "</div><br><label><b>dtype:</b> int64</label>"
            ]
          },
          "metadata": {},
          "execution_count": 11
        }
      ]
    },
    {
      "cell_type": "markdown",
      "source": [
        "**Movies EDA**\n"
      ],
      "metadata": {
        "id": "fDF6RIE7etBO"
      }
    },
    {
      "cell_type": "markdown",
      "source": [
        "The `movies` DataFrame has 24 columns and 1,682 records.\n",
        "\n",
        "Here is an explanation of the columns in the `movies` dataset:\n",
        "* *movie_id* - 1,682 unique movie_id numbers, values range from 1 to 1,682\n",
        "* *title* - 1,664 unique strings for movie titles\n",
        "  * **duplicated movie titles**\n",
        "    * there are 18 movie titles that have two unique movie_id's assigned to them; these duplicates may cause problems with the calculations and should be removed before building the recommender systems\n",
        "* *release_date* - date movie was released, in string format of Day(2 digits)-Month(short word)-Year(4 digits)\n",
        "  * has 1 missing value\n",
        "* *video_release_date* - all values are missing for this column\n",
        "* *imdb_url* - string for url to the movie\n",
        "  * has 3 missing values\n",
        "* 19 separate genre-based columns - value of 0 or 1 to indicate if the movie meets this genre category\n",
        "\n",
        "\n",
        "The remaining columns in the `movie` dataset provide data on each movie's release dates, imdb_url, and 19 different categories of movie genres."
      ],
      "metadata": {
        "id": "v22vkLgy-5DS"
      }
    },
    {
      "cell_type": "code",
      "source": [
        "movies.head()"
      ],
      "metadata": {
        "colab": {
          "base_uri": "https://localhost:8080/",
          "height": 394
        },
        "id": "kFIiSHN0ev1p",
        "outputId": "15d3d235-04c4-43cf-f133-2712c8b747ad"
      },
      "execution_count": 12,
      "outputs": [
        {
          "output_type": "execute_result",
          "data": {
            "text/plain": [
              "   movie_id              title release_date  video_release_date  \\\n",
              "0         1   Toy Story (1995)  01-Jan-1995                 NaN   \n",
              "1         2   GoldenEye (1995)  01-Jan-1995                 NaN   \n",
              "2         3  Four Rooms (1995)  01-Jan-1995                 NaN   \n",
              "3         4  Get Shorty (1995)  01-Jan-1995                 NaN   \n",
              "4         5     Copycat (1995)  01-Jan-1995                 NaN   \n",
              "\n",
              "                                            imdb_url  genre_unknown  Action  \\\n",
              "0  http://us.imdb.com/M/title-exact?Toy%20Story%2...              0       0   \n",
              "1  http://us.imdb.com/M/title-exact?GoldenEye%20(...              0       1   \n",
              "2  http://us.imdb.com/M/title-exact?Four%20Rooms%...              0       0   \n",
              "3  http://us.imdb.com/M/title-exact?Get%20Shorty%...              0       1   \n",
              "4  http://us.imdb.com/M/title-exact?Copycat%20(1995)              0       0   \n",
              "\n",
              "   Adventure  Animation  Children  ...  Fantasy  Film-Noir  Horror  Musical  \\\n",
              "0          0          1         1  ...        0          0       0        0   \n",
              "1          1          0         0  ...        0          0       0        0   \n",
              "2          0          0         0  ...        0          0       0        0   \n",
              "3          0          0         0  ...        0          0       0        0   \n",
              "4          0          0         0  ...        0          0       0        0   \n",
              "\n",
              "   Mystery  Romance  Sci-Fi  Thriller  War  Western  \n",
              "0        0        0       0         0    0        0  \n",
              "1        0        0       0         1    0        0  \n",
              "2        0        0       0         1    0        0  \n",
              "3        0        0       0         0    0        0  \n",
              "4        0        0       0         1    0        0  \n",
              "\n",
              "[5 rows x 24 columns]"
            ],
            "text/html": [
              "\n",
              "  <div id=\"df-3a9377cf-a5dd-41e7-9401-5e93e9720cb6\" class=\"colab-df-container\">\n",
              "    <div>\n",
              "<style scoped>\n",
              "    .dataframe tbody tr th:only-of-type {\n",
              "        vertical-align: middle;\n",
              "    }\n",
              "\n",
              "    .dataframe tbody tr th {\n",
              "        vertical-align: top;\n",
              "    }\n",
              "\n",
              "    .dataframe thead th {\n",
              "        text-align: right;\n",
              "    }\n",
              "</style>\n",
              "<table border=\"1\" class=\"dataframe\">\n",
              "  <thead>\n",
              "    <tr style=\"text-align: right;\">\n",
              "      <th></th>\n",
              "      <th>movie_id</th>\n",
              "      <th>title</th>\n",
              "      <th>release_date</th>\n",
              "      <th>video_release_date</th>\n",
              "      <th>imdb_url</th>\n",
              "      <th>genre_unknown</th>\n",
              "      <th>Action</th>\n",
              "      <th>Adventure</th>\n",
              "      <th>Animation</th>\n",
              "      <th>Children</th>\n",
              "      <th>...</th>\n",
              "      <th>Fantasy</th>\n",
              "      <th>Film-Noir</th>\n",
              "      <th>Horror</th>\n",
              "      <th>Musical</th>\n",
              "      <th>Mystery</th>\n",
              "      <th>Romance</th>\n",
              "      <th>Sci-Fi</th>\n",
              "      <th>Thriller</th>\n",
              "      <th>War</th>\n",
              "      <th>Western</th>\n",
              "    </tr>\n",
              "  </thead>\n",
              "  <tbody>\n",
              "    <tr>\n",
              "      <th>0</th>\n",
              "      <td>1</td>\n",
              "      <td>Toy Story (1995)</td>\n",
              "      <td>01-Jan-1995</td>\n",
              "      <td>NaN</td>\n",
              "      <td>http://us.imdb.com/M/title-exact?Toy%20Story%2...</td>\n",
              "      <td>0</td>\n",
              "      <td>0</td>\n",
              "      <td>0</td>\n",
              "      <td>1</td>\n",
              "      <td>1</td>\n",
              "      <td>...</td>\n",
              "      <td>0</td>\n",
              "      <td>0</td>\n",
              "      <td>0</td>\n",
              "      <td>0</td>\n",
              "      <td>0</td>\n",
              "      <td>0</td>\n",
              "      <td>0</td>\n",
              "      <td>0</td>\n",
              "      <td>0</td>\n",
              "      <td>0</td>\n",
              "    </tr>\n",
              "    <tr>\n",
              "      <th>1</th>\n",
              "      <td>2</td>\n",
              "      <td>GoldenEye (1995)</td>\n",
              "      <td>01-Jan-1995</td>\n",
              "      <td>NaN</td>\n",
              "      <td>http://us.imdb.com/M/title-exact?GoldenEye%20(...</td>\n",
              "      <td>0</td>\n",
              "      <td>1</td>\n",
              "      <td>1</td>\n",
              "      <td>0</td>\n",
              "      <td>0</td>\n",
              "      <td>...</td>\n",
              "      <td>0</td>\n",
              "      <td>0</td>\n",
              "      <td>0</td>\n",
              "      <td>0</td>\n",
              "      <td>0</td>\n",
              "      <td>0</td>\n",
              "      <td>0</td>\n",
              "      <td>1</td>\n",
              "      <td>0</td>\n",
              "      <td>0</td>\n",
              "    </tr>\n",
              "    <tr>\n",
              "      <th>2</th>\n",
              "      <td>3</td>\n",
              "      <td>Four Rooms (1995)</td>\n",
              "      <td>01-Jan-1995</td>\n",
              "      <td>NaN</td>\n",
              "      <td>http://us.imdb.com/M/title-exact?Four%20Rooms%...</td>\n",
              "      <td>0</td>\n",
              "      <td>0</td>\n",
              "      <td>0</td>\n",
              "      <td>0</td>\n",
              "      <td>0</td>\n",
              "      <td>...</td>\n",
              "      <td>0</td>\n",
              "      <td>0</td>\n",
              "      <td>0</td>\n",
              "      <td>0</td>\n",
              "      <td>0</td>\n",
              "      <td>0</td>\n",
              "      <td>0</td>\n",
              "      <td>1</td>\n",
              "      <td>0</td>\n",
              "      <td>0</td>\n",
              "    </tr>\n",
              "    <tr>\n",
              "      <th>3</th>\n",
              "      <td>4</td>\n",
              "      <td>Get Shorty (1995)</td>\n",
              "      <td>01-Jan-1995</td>\n",
              "      <td>NaN</td>\n",
              "      <td>http://us.imdb.com/M/title-exact?Get%20Shorty%...</td>\n",
              "      <td>0</td>\n",
              "      <td>1</td>\n",
              "      <td>0</td>\n",
              "      <td>0</td>\n",
              "      <td>0</td>\n",
              "      <td>...</td>\n",
              "      <td>0</td>\n",
              "      <td>0</td>\n",
              "      <td>0</td>\n",
              "      <td>0</td>\n",
              "      <td>0</td>\n",
              "      <td>0</td>\n",
              "      <td>0</td>\n",
              "      <td>0</td>\n",
              "      <td>0</td>\n",
              "      <td>0</td>\n",
              "    </tr>\n",
              "    <tr>\n",
              "      <th>4</th>\n",
              "      <td>5</td>\n",
              "      <td>Copycat (1995)</td>\n",
              "      <td>01-Jan-1995</td>\n",
              "      <td>NaN</td>\n",
              "      <td>http://us.imdb.com/M/title-exact?Copycat%20(1995)</td>\n",
              "      <td>0</td>\n",
              "      <td>0</td>\n",
              "      <td>0</td>\n",
              "      <td>0</td>\n",
              "      <td>0</td>\n",
              "      <td>...</td>\n",
              "      <td>0</td>\n",
              "      <td>0</td>\n",
              "      <td>0</td>\n",
              "      <td>0</td>\n",
              "      <td>0</td>\n",
              "      <td>0</td>\n",
              "      <td>0</td>\n",
              "      <td>1</td>\n",
              "      <td>0</td>\n",
              "      <td>0</td>\n",
              "    </tr>\n",
              "  </tbody>\n",
              "</table>\n",
              "<p>5 rows × 24 columns</p>\n",
              "</div>\n",
              "    <div class=\"colab-df-buttons\">\n",
              "\n",
              "  <div class=\"colab-df-container\">\n",
              "    <button class=\"colab-df-convert\" onclick=\"convertToInteractive('df-3a9377cf-a5dd-41e7-9401-5e93e9720cb6')\"\n",
              "            title=\"Convert this dataframe to an interactive table.\"\n",
              "            style=\"display:none;\">\n",
              "\n",
              "  <svg xmlns=\"http://www.w3.org/2000/svg\" height=\"24px\" viewBox=\"0 -960 960 960\">\n",
              "    <path d=\"M120-120v-720h720v720H120Zm60-500h600v-160H180v160Zm220 220h160v-160H400v160Zm0 220h160v-160H400v160ZM180-400h160v-160H180v160Zm440 0h160v-160H620v160ZM180-180h160v-160H180v160Zm440 0h160v-160H620v160Z\"/>\n",
              "  </svg>\n",
              "    </button>\n",
              "\n",
              "  <style>\n",
              "    .colab-df-container {\n",
              "      display:flex;\n",
              "      gap: 12px;\n",
              "    }\n",
              "\n",
              "    .colab-df-convert {\n",
              "      background-color: #E8F0FE;\n",
              "      border: none;\n",
              "      border-radius: 50%;\n",
              "      cursor: pointer;\n",
              "      display: none;\n",
              "      fill: #1967D2;\n",
              "      height: 32px;\n",
              "      padding: 0 0 0 0;\n",
              "      width: 32px;\n",
              "    }\n",
              "\n",
              "    .colab-df-convert:hover {\n",
              "      background-color: #E2EBFA;\n",
              "      box-shadow: 0px 1px 2px rgba(60, 64, 67, 0.3), 0px 1px 3px 1px rgba(60, 64, 67, 0.15);\n",
              "      fill: #174EA6;\n",
              "    }\n",
              "\n",
              "    .colab-df-buttons div {\n",
              "      margin-bottom: 4px;\n",
              "    }\n",
              "\n",
              "    [theme=dark] .colab-df-convert {\n",
              "      background-color: #3B4455;\n",
              "      fill: #D2E3FC;\n",
              "    }\n",
              "\n",
              "    [theme=dark] .colab-df-convert:hover {\n",
              "      background-color: #434B5C;\n",
              "      box-shadow: 0px 1px 3px 1px rgba(0, 0, 0, 0.15);\n",
              "      filter: drop-shadow(0px 1px 2px rgba(0, 0, 0, 0.3));\n",
              "      fill: #FFFFFF;\n",
              "    }\n",
              "  </style>\n",
              "\n",
              "    <script>\n",
              "      const buttonEl =\n",
              "        document.querySelector('#df-3a9377cf-a5dd-41e7-9401-5e93e9720cb6 button.colab-df-convert');\n",
              "      buttonEl.style.display =\n",
              "        google.colab.kernel.accessAllowed ? 'block' : 'none';\n",
              "\n",
              "      async function convertToInteractive(key) {\n",
              "        const element = document.querySelector('#df-3a9377cf-a5dd-41e7-9401-5e93e9720cb6');\n",
              "        const dataTable =\n",
              "          await google.colab.kernel.invokeFunction('convertToInteractive',\n",
              "                                                    [key], {});\n",
              "        if (!dataTable) return;\n",
              "\n",
              "        const docLinkHtml = 'Like what you see? Visit the ' +\n",
              "          '<a target=\"_blank\" href=https://colab.research.google.com/notebooks/data_table.ipynb>data table notebook</a>'\n",
              "          + ' to learn more about interactive tables.';\n",
              "        element.innerHTML = '';\n",
              "        dataTable['output_type'] = 'display_data';\n",
              "        await google.colab.output.renderOutput(dataTable, element);\n",
              "        const docLink = document.createElement('div');\n",
              "        docLink.innerHTML = docLinkHtml;\n",
              "        element.appendChild(docLink);\n",
              "      }\n",
              "    </script>\n",
              "  </div>\n",
              "\n",
              "\n",
              "<div id=\"df-4b004c7c-8a58-4b93-a1b9-9b670eba6cde\">\n",
              "  <button class=\"colab-df-quickchart\" onclick=\"quickchart('df-4b004c7c-8a58-4b93-a1b9-9b670eba6cde')\"\n",
              "            title=\"Suggest charts\"\n",
              "            style=\"display:none;\">\n",
              "\n",
              "<svg xmlns=\"http://www.w3.org/2000/svg\" height=\"24px\"viewBox=\"0 0 24 24\"\n",
              "     width=\"24px\">\n",
              "    <g>\n",
              "        <path d=\"M19 3H5c-1.1 0-2 .9-2 2v14c0 1.1.9 2 2 2h14c1.1 0 2-.9 2-2V5c0-1.1-.9-2-2-2zM9 17H7v-7h2v7zm4 0h-2V7h2v10zm4 0h-2v-4h2v4z\"/>\n",
              "    </g>\n",
              "</svg>\n",
              "  </button>\n",
              "\n",
              "<style>\n",
              "  .colab-df-quickchart {\n",
              "      --bg-color: #E8F0FE;\n",
              "      --fill-color: #1967D2;\n",
              "      --hover-bg-color: #E2EBFA;\n",
              "      --hover-fill-color: #174EA6;\n",
              "      --disabled-fill-color: #AAA;\n",
              "      --disabled-bg-color: #DDD;\n",
              "  }\n",
              "\n",
              "  [theme=dark] .colab-df-quickchart {\n",
              "      --bg-color: #3B4455;\n",
              "      --fill-color: #D2E3FC;\n",
              "      --hover-bg-color: #434B5C;\n",
              "      --hover-fill-color: #FFFFFF;\n",
              "      --disabled-bg-color: #3B4455;\n",
              "      --disabled-fill-color: #666;\n",
              "  }\n",
              "\n",
              "  .colab-df-quickchart {\n",
              "    background-color: var(--bg-color);\n",
              "    border: none;\n",
              "    border-radius: 50%;\n",
              "    cursor: pointer;\n",
              "    display: none;\n",
              "    fill: var(--fill-color);\n",
              "    height: 32px;\n",
              "    padding: 0;\n",
              "    width: 32px;\n",
              "  }\n",
              "\n",
              "  .colab-df-quickchart:hover {\n",
              "    background-color: var(--hover-bg-color);\n",
              "    box-shadow: 0 1px 2px rgba(60, 64, 67, 0.3), 0 1px 3px 1px rgba(60, 64, 67, 0.15);\n",
              "    fill: var(--button-hover-fill-color);\n",
              "  }\n",
              "\n",
              "  .colab-df-quickchart-complete:disabled,\n",
              "  .colab-df-quickchart-complete:disabled:hover {\n",
              "    background-color: var(--disabled-bg-color);\n",
              "    fill: var(--disabled-fill-color);\n",
              "    box-shadow: none;\n",
              "  }\n",
              "\n",
              "  .colab-df-spinner {\n",
              "    border: 2px solid var(--fill-color);\n",
              "    border-color: transparent;\n",
              "    border-bottom-color: var(--fill-color);\n",
              "    animation:\n",
              "      spin 1s steps(1) infinite;\n",
              "  }\n",
              "\n",
              "  @keyframes spin {\n",
              "    0% {\n",
              "      border-color: transparent;\n",
              "      border-bottom-color: var(--fill-color);\n",
              "      border-left-color: var(--fill-color);\n",
              "    }\n",
              "    20% {\n",
              "      border-color: transparent;\n",
              "      border-left-color: var(--fill-color);\n",
              "      border-top-color: var(--fill-color);\n",
              "    }\n",
              "    30% {\n",
              "      border-color: transparent;\n",
              "      border-left-color: var(--fill-color);\n",
              "      border-top-color: var(--fill-color);\n",
              "      border-right-color: var(--fill-color);\n",
              "    }\n",
              "    40% {\n",
              "      border-color: transparent;\n",
              "      border-right-color: var(--fill-color);\n",
              "      border-top-color: var(--fill-color);\n",
              "    }\n",
              "    60% {\n",
              "      border-color: transparent;\n",
              "      border-right-color: var(--fill-color);\n",
              "    }\n",
              "    80% {\n",
              "      border-color: transparent;\n",
              "      border-right-color: var(--fill-color);\n",
              "      border-bottom-color: var(--fill-color);\n",
              "    }\n",
              "    90% {\n",
              "      border-color: transparent;\n",
              "      border-bottom-color: var(--fill-color);\n",
              "    }\n",
              "  }\n",
              "</style>\n",
              "\n",
              "  <script>\n",
              "    async function quickchart(key) {\n",
              "      const quickchartButtonEl =\n",
              "        document.querySelector('#' + key + ' button');\n",
              "      quickchartButtonEl.disabled = true;  // To prevent multiple clicks.\n",
              "      quickchartButtonEl.classList.add('colab-df-spinner');\n",
              "      try {\n",
              "        const charts = await google.colab.kernel.invokeFunction(\n",
              "            'suggestCharts', [key], {});\n",
              "      } catch (error) {\n",
              "        console.error('Error during call to suggestCharts:', error);\n",
              "      }\n",
              "      quickchartButtonEl.classList.remove('colab-df-spinner');\n",
              "      quickchartButtonEl.classList.add('colab-df-quickchart-complete');\n",
              "    }\n",
              "    (() => {\n",
              "      let quickchartButtonEl =\n",
              "        document.querySelector('#df-4b004c7c-8a58-4b93-a1b9-9b670eba6cde button');\n",
              "      quickchartButtonEl.style.display =\n",
              "        google.colab.kernel.accessAllowed ? 'block' : 'none';\n",
              "    })();\n",
              "  </script>\n",
              "</div>\n",
              "\n",
              "    </div>\n",
              "  </div>\n"
            ],
            "application/vnd.google.colaboratory.intrinsic+json": {
              "type": "dataframe",
              "variable_name": "movies"
            }
          },
          "metadata": {},
          "execution_count": 12
        }
      ]
    },
    {
      "cell_type": "code",
      "source": [
        "movies.shape"
      ],
      "metadata": {
        "colab": {
          "base_uri": "https://localhost:8080/"
        },
        "id": "0qiLi6A5i0f_",
        "outputId": "3d80b07d-255f-42c4-f60a-e265c25a94b9"
      },
      "execution_count": 13,
      "outputs": [
        {
          "output_type": "execute_result",
          "data": {
            "text/plain": [
              "(1682, 24)"
            ]
          },
          "metadata": {},
          "execution_count": 13
        }
      ]
    },
    {
      "cell_type": "code",
      "source": [
        "movies.info()"
      ],
      "metadata": {
        "colab": {
          "base_uri": "https://localhost:8080/"
        },
        "id": "4Qa31Cb2jHWP",
        "outputId": "3e30de14-4771-4ab2-911d-0d35cb3326f5"
      },
      "execution_count": 14,
      "outputs": [
        {
          "output_type": "stream",
          "name": "stdout",
          "text": [
            "<class 'pandas.core.frame.DataFrame'>\n",
            "RangeIndex: 1682 entries, 0 to 1681\n",
            "Data columns (total 24 columns):\n",
            " #   Column              Non-Null Count  Dtype  \n",
            "---  ------              --------------  -----  \n",
            " 0   movie_id            1682 non-null   int64  \n",
            " 1   title               1682 non-null   object \n",
            " 2   release_date        1681 non-null   object \n",
            " 3   video_release_date  0 non-null      float64\n",
            " 4   imdb_url            1679 non-null   object \n",
            " 5   genre_unknown       1682 non-null   int64  \n",
            " 6   Action              1682 non-null   int64  \n",
            " 7   Adventure           1682 non-null   int64  \n",
            " 8   Animation           1682 non-null   int64  \n",
            " 9   Children            1682 non-null   int64  \n",
            " 10  Comedy              1682 non-null   int64  \n",
            " 11  Crime               1682 non-null   int64  \n",
            " 12  Documentary         1682 non-null   int64  \n",
            " 13  Drama               1682 non-null   int64  \n",
            " 14  Fantasy             1682 non-null   int64  \n",
            " 15  Film-Noir           1682 non-null   int64  \n",
            " 16  Horror              1682 non-null   int64  \n",
            " 17  Musical             1682 non-null   int64  \n",
            " 18  Mystery             1682 non-null   int64  \n",
            " 19  Romance             1682 non-null   int64  \n",
            " 20  Sci-Fi              1682 non-null   int64  \n",
            " 21  Thriller            1682 non-null   int64  \n",
            " 22  War                 1682 non-null   int64  \n",
            " 23  Western             1682 non-null   int64  \n",
            "dtypes: float64(1), int64(20), object(3)\n",
            "memory usage: 315.5+ KB\n"
          ]
        }
      ]
    },
    {
      "cell_type": "code",
      "source": [
        "movies.columns"
      ],
      "metadata": {
        "colab": {
          "base_uri": "https://localhost:8080/"
        },
        "id": "LxWkqagoiRsy",
        "outputId": "75a8a8f4-2573-4d68-fd35-a6501ef1163e"
      },
      "execution_count": 15,
      "outputs": [
        {
          "output_type": "execute_result",
          "data": {
            "text/plain": [
              "Index(['movie_id', 'title', 'release_date', 'video_release_date', 'imdb_url',\n",
              "       'genre_unknown', 'Action', 'Adventure', 'Animation', 'Children',\n",
              "       'Comedy', 'Crime', 'Documentary', 'Drama', 'Fantasy', 'Film-Noir',\n",
              "       'Horror', 'Musical', 'Mystery', 'Romance', 'Sci-Fi', 'Thriller', 'War',\n",
              "       'Western'],\n",
              "      dtype='object')"
            ]
          },
          "metadata": {},
          "execution_count": 15
        }
      ]
    },
    {
      "cell_type": "code",
      "source": [
        "genres = movies.columns[5:]\n",
        "print(f\"Number of genres: {len(genres)} \\nGenres: {genres}\")\n"
      ],
      "metadata": {
        "colab": {
          "base_uri": "https://localhost:8080/"
        },
        "id": "M5gtG3l3lTQl",
        "outputId": "362a13e0-9e55-48d3-f832-5ceb449a308c"
      },
      "execution_count": 16,
      "outputs": [
        {
          "output_type": "stream",
          "name": "stdout",
          "text": [
            "Number of genres: 19 \n",
            "Genres: Index(['genre_unknown', 'Action', 'Adventure', 'Animation', 'Children',\n",
            "       'Comedy', 'Crime', 'Documentary', 'Drama', 'Fantasy', 'Film-Noir',\n",
            "       'Horror', 'Musical', 'Mystery', 'Romance', 'Sci-Fi', 'Thriller', 'War',\n",
            "       'Western'],\n",
            "      dtype='object')\n"
          ]
        }
      ]
    },
    {
      "cell_type": "code",
      "source": [
        "movies['movie_id'].nunique()"
      ],
      "metadata": {
        "colab": {
          "base_uri": "https://localhost:8080/"
        },
        "id": "kgUZOyJ-h3mm",
        "outputId": "447d241c-5b12-4110-db7c-83a9c80b2c72"
      },
      "execution_count": 17,
      "outputs": [
        {
          "output_type": "execute_result",
          "data": {
            "text/plain": [
              "1682"
            ]
          },
          "metadata": {},
          "execution_count": 17
        }
      ]
    },
    {
      "cell_type": "code",
      "source": [
        "movies['title'].nunique()"
      ],
      "metadata": {
        "colab": {
          "base_uri": "https://localhost:8080/"
        },
        "id": "cOp4czZGgz7l",
        "outputId": "e349778b-d65c-4f20-df80-88e0cf782d6e"
      },
      "execution_count": 18,
      "outputs": [
        {
          "output_type": "execute_result",
          "data": {
            "text/plain": [
              "1664"
            ]
          },
          "metadata": {},
          "execution_count": 18
        }
      ]
    },
    {
      "cell_type": "markdown",
      "source": [
        "There is a discrepancy between the number of unique movie_id's and unique titles. The below code will explore this discrepancy further."
      ],
      "metadata": {
        "id": "TzT7oOjLq7j1"
      }
    },
    {
      "cell_type": "markdown",
      "source": [
        "*Find number of duplicated titles*"
      ],
      "metadata": {
        "id": "5STr_JZr6oEs"
      }
    },
    {
      "cell_type": "code",
      "source": [
        "# create variable to hold duplicated titles\n",
        "duplicated_titles = list(movies[movies['title'].duplicated()]['title'])\n",
        "\n",
        "# print number of duplicated values\n",
        "print(f'Number of duplicated titles \\n{len(duplicated_titles)}')"
      ],
      "metadata": {
        "colab": {
          "base_uri": "https://localhost:8080/"
        },
        "id": "PyfpvDqEgG86",
        "outputId": "a8210726-ca89-41bf-9328-5460fdaa121c"
      },
      "execution_count": 19,
      "outputs": [
        {
          "output_type": "stream",
          "name": "stdout",
          "text": [
            "Number of duplicated titles \n",
            "18\n"
          ]
        }
      ]
    },
    {
      "cell_type": "markdown",
      "source": [
        "## Data Cleaning"
      ],
      "metadata": {
        "id": "0e0ECJJkkqJv"
      }
    },
    {
      "cell_type": "markdown",
      "source": [
        "Since there are rows in the `movies` dataframe which have duplicate movie titles, these duplicates are likely to cause problems if used in the recommender calculations. Let's clean up the movies dataframe and then determine if this will cause issues when combining the `movies` and `ratings` dataframes later in the notebook."
      ],
      "metadata": {
        "id": "e2RPJtNEMq5i"
      }
    },
    {
      "cell_type": "markdown",
      "source": [
        "**See how the titles are duplicated in the dataset.**"
      ],
      "metadata": {
        "id": "tbFpelRAlLAu"
      }
    },
    {
      "cell_type": "code",
      "source": [
        "# create df with specific columns to compare (movie id, title, release date, and all genre columns)\n",
        "# and only rows that have duplicated information\n",
        "compare = ['movie_id', 'title', 'release_date'] + list(genres)\n",
        "dup_titles = movies[movies['title'].duplicated(keep=False)].sort_values(by='title')[compare]\n",
        "\n",
        "# print size of the new df\n",
        "print(f'Size of new df: {dup_titles.shape}')\n",
        "\n",
        "# view duplicated titles to see how many movie_id's are assigned per title\n",
        "for title in duplicated_titles:\n",
        "  title_rows = dup_titles[dup_titles['title'] == title]\n",
        "  print(title_rows[['movie_id', 'title']])"
      ],
      "metadata": {
        "colab": {
          "base_uri": "https://localhost:8080/"
        },
        "id": "RGGKOOpPIsNc",
        "outputId": "0d8794e2-7a7d-4993-d783-8ee62a8530a5"
      },
      "execution_count": 20,
      "outputs": [
        {
          "output_type": "stream",
          "name": "stdout",
          "text": [
            "Size of new df: (36, 22)\n",
            "     movie_id               title\n",
            "245       246  Chasing Amy (1997)\n",
            "267       268  Chasing Amy (1997)\n",
            "     movie_id               title\n",
            "302       303  Ulee's Gold (1997)\n",
            "296       297  Ulee's Gold (1997)\n",
            "     movie_id                      title\n",
            "347       348  Desperate Measures (1998)\n",
            "328       329  Desperate Measures (1998)\n",
            "     movie_id                 title\n",
            "499       500  Fly Away Home (1996)\n",
            "303       304  Fly Away Home (1996)\n",
            "     movie_id                  title\n",
            "669       670  Body Snatchers (1993)\n",
            "572       573  Body Snatchers (1993)\n",
            "     movie_id                      title\n",
            "679       680  Kull the Conqueror (1997)\n",
            "265       266  Kull the Conqueror (1997)\n",
            "     movie_id                  title\n",
            "304       305  Ice Storm, The (1997)\n",
            "864       865  Ice Storm, The (1997)\n",
            "     movie_id               title\n",
            "875       876  Money Talks (1997)\n",
            "880       881  Money Talks (1997)\n",
            "      movie_id                  title\n",
            "1002      1003  That Darn Cat! (1997)\n",
            "877        878  That Darn Cat! (1997)\n",
            "      movie_id                           title\n",
            "1256      1257  Designated Mourner, The (1997)\n",
            "1255      1256  Designated Mourner, The (1997)\n",
            "      movie_id            title\n",
            "1605      1606  Deceiver (1997)\n",
            "308        309  Deceiver (1997)\n",
            "      movie_id                     title\n",
            "1606      1607  Hurricane Streets (1998)\n",
            "1394      1395  Hurricane Streets (1998)\n",
            "      movie_id             title\n",
            "1616      1617  Hugo Pool (1997)\n",
            "1174      1175  Hugo Pool (1997)\n",
            "      movie_id              title\n",
            "1624      1625  Nightwatch (1997)\n",
            "1476      1477  Nightwatch (1997)\n",
            "      movie_id                    title\n",
            "1649      1650  Butcher Boy, The (1998)\n",
            "1644      1645  Butcher Boy, The (1998)\n",
            "      movie_id                         title\n",
            "1233      1234  Chairman of the Board (1998)\n",
            "1653      1654  Chairman of the Board (1998)\n",
            "      movie_id                          title\n",
            "1657      1658  Substance of Fire, The (1996)\n",
            "710        711  Substance of Fire, The (1996)\n",
            "      movie_id                 title\n",
            "1679      1680  Sliding Doors (1998)\n",
            "1428      1429  Sliding Doors (1998)\n"
          ]
        }
      ]
    },
    {
      "cell_type": "markdown",
      "source": [
        "The dataframe created with just the duplicated entries contains 36 rows, twice as many rows as the number of duplicated movie titles. By printing the dataframe, it is clear that each duplicated movie title has 2 unique movie_id's assigned to it.\n",
        "\n",
        "The below code will create a dataframe that removes the movie_id and release_date from the current dup_titles dataframe. This way, the dataframe will only contain the rows with the duplicated titles, and column information that will be used later in this notebook.\n",
        "\n",
        "By running .duplicated() on this new dataframe, we can see if the column values match between the duplicated movie titles. If so, we can save the secondary movie_id's per title, then remove the entire row for these secondary movie_id's."
      ],
      "metadata": {
        "id": "SE0T1ZKyYZqF"
      }
    },
    {
      "cell_type": "code",
      "source": [
        "# create new df with just title and genre columns\n",
        "# create updated compare list that contains title and genre columns\n",
        "compare = ['title'] + list(genres)\n",
        "\n",
        "## create df with title, release date, and all genre columns\n",
        "duplicates = dup_titles[compare]"
      ],
      "metadata": {
        "id": "wUwKhIPhMzyg"
      },
      "execution_count": 21,
      "outputs": []
    },
    {
      "cell_type": "code",
      "source": [
        "# check for duplicates in 'movies' dataframe\n",
        "# no entries returned means there are no rows in the full 'movies' dataframe\n",
        "# with matching values across all columns\n",
        "movies.duplicated().sum()"
      ],
      "metadata": {
        "colab": {
          "base_uri": "https://localhost:8080/"
        },
        "id": "pHaL0xX5b0D3",
        "outputId": "5b821f8d-9167-4069-dabe-a8cac8a217af"
      },
      "execution_count": 22,
      "outputs": [
        {
          "output_type": "execute_result",
          "data": {
            "text/plain": [
              "0"
            ]
          },
          "metadata": {},
          "execution_count": 22
        }
      ]
    },
    {
      "cell_type": "code",
      "source": [
        "# check for duplicates in df with movie_id, release_date, title, and genre columns\n",
        "# no entries returned means there are no rows\n",
        "# with matching values across the listed columns\n",
        "dup_titles.duplicated().sum()"
      ],
      "metadata": {
        "colab": {
          "base_uri": "https://localhost:8080/"
        },
        "id": "QCBbyGb5Tqj3",
        "outputId": "c49a5e25-df06-4a31-eaaf-a41d36048c9e"
      },
      "execution_count": 23,
      "outputs": [
        {
          "output_type": "execute_result",
          "data": {
            "text/plain": [
              "0"
            ]
          },
          "metadata": {},
          "execution_count": 23
        }
      ]
    },
    {
      "cell_type": "code",
      "source": [
        "# check for duplicates in df with just title and genre columns\n",
        "# no entries returned means there are no rows\n",
        "# with matching values across the listed columns\n",
        "duplicates.duplicated().sum()"
      ],
      "metadata": {
        "colab": {
          "base_uri": "https://localhost:8080/"
        },
        "id": "uVriSnR8fRA-",
        "outputId": "668f06f6-0327-4d12-dc89-ddb9f10028b0"
      },
      "execution_count": 24,
      "outputs": [
        {
          "output_type": "execute_result",
          "data": {
            "text/plain": [
              "18"
            ]
          },
          "metadata": {},
          "execution_count": 24
        }
      ]
    },
    {
      "cell_type": "markdown",
      "source": [
        "The title and genre columns match across the duplicated titles, so one of the duplicated entries for each unique title can be deleted.\n",
        "\n",
        "However, the movie_id's of matching pairs needs to be saved so the `ratings` df can also be updated."
      ],
      "metadata": {
        "id": "bsMO-bbygh_K"
      }
    },
    {
      "cell_type": "markdown",
      "source": [
        "**Create new movies dataframe with only unique movie titles.**"
      ],
      "metadata": {
        "id": "na5YUIwSn3Q6"
      }
    },
    {
      "cell_type": "code",
      "source": [
        "# save movie_id pairs for each duplicate movie title\n",
        "dup_ids = []\n",
        "for title in duplicated_titles:\n",
        "  my_list = []\n",
        "  title_rows = dup_titles[dup_titles['title'] == title]\n",
        "  my_list.append(title_rows['movie_id'].values)\n",
        "  dup_ids.append(my_list)\n",
        "\n",
        "# change nested array structure to list of tuples\n",
        "dup_ids = [(id[0], id[1]) for sublist in dup_ids for id in sublist]\n",
        "dup_ids"
      ],
      "metadata": {
        "colab": {
          "base_uri": "https://localhost:8080/"
        },
        "id": "hXdfwSG9hHoL",
        "outputId": "2bfd881b-f0ef-43ab-8943-72820d8191e5"
      },
      "execution_count": 25,
      "outputs": [
        {
          "output_type": "execute_result",
          "data": {
            "text/plain": [
              "[(246, 268),\n",
              " (303, 297),\n",
              " (348, 329),\n",
              " (500, 304),\n",
              " (670, 573),\n",
              " (680, 266),\n",
              " (305, 865),\n",
              " (876, 881),\n",
              " (1003, 878),\n",
              " (1257, 1256),\n",
              " (1606, 309),\n",
              " (1607, 1395),\n",
              " (1617, 1175),\n",
              " (1625, 1477),\n",
              " (1650, 1645),\n",
              " (1234, 1654),\n",
              " (1658, 711),\n",
              " (1680, 1429)]"
            ]
          },
          "metadata": {},
          "execution_count": 25
        }
      ]
    },
    {
      "cell_type": "code",
      "source": [
        "# create copy of movies df\n",
        "movies_no_dupes = movies.copy()\n",
        "print(movies_no_dupes.shape)\n",
        "\n",
        "# remove the second movie_id entry of duplicate titles from new movies list\n",
        "for id1, id2 in dup_ids:\n",
        "  drop_index = movies_no_dupes[movies_no_dupes['movie_id'] == id2].index\n",
        "  movies_no_dupes.drop(drop_index, inplace=True)\n",
        "\n",
        "print(movies_no_dupes.shape)"
      ],
      "metadata": {
        "colab": {
          "base_uri": "https://localhost:8080/"
        },
        "id": "8bKxdkgviVDw",
        "outputId": "d19adc40-5930-4801-9c8c-9e8903ce0706"
      },
      "execution_count": 26,
      "outputs": [
        {
          "output_type": "stream",
          "name": "stdout",
          "text": [
            "(1682, 24)\n",
            "(1664, 24)\n"
          ]
        }
      ]
    },
    {
      "cell_type": "code",
      "source": [
        "movies_no_dupes[movies_no_dupes['title'].duplicated()]['title'].sum()"
      ],
      "metadata": {
        "colab": {
          "base_uri": "https://localhost:8080/"
        },
        "id": "cUo8S4sxnjqJ",
        "outputId": "fa9a1e01-7709-4d8f-e31d-770d6b17a06d"
      },
      "execution_count": 27,
      "outputs": [
        {
          "output_type": "execute_result",
          "data": {
            "text/plain": [
              "0"
            ]
          },
          "metadata": {},
          "execution_count": 27
        }
      ]
    },
    {
      "cell_type": "markdown",
      "source": [
        "**Create new ratings dataframe that replaces movie_id's of duplicate titles.**\n",
        "\n",
        "The movie_id values that were removed in the new movies df will also no longer appear in the new ratings df. However, instead of removing the values entirely, they will be replaced by the movie_id that remained in the movies df for each duplicated title.\n",
        "\n",
        "Example: Chasing Amy had these two movie_id's assigned to it in the movies df: 246 and 268. The new movies df no longer contains the row with the movie_id equal to 268. In the new ratings dataframe, any rows with the movie_id equal to 268 will be have its movie_id replaced with the value 246."
      ],
      "metadata": {
        "id": "dKX8XzrDoB8L"
      }
    },
    {
      "cell_type": "code",
      "source": [
        "# Replace ratings movie_id's that were removed with still available movie ids\n",
        "ratings_no_dupes = ratings.copy()\n",
        "print(ratings_no_dupes.shape)\n",
        "\n",
        "for id1, id2 in dup_ids:\n",
        "  ratings_no_dupes.loc[ratings_no_dupes['movie_id'] == id2, 'movie_id'] = id1\n",
        "\n",
        "print(ratings_no_dupes.shape)"
      ],
      "metadata": {
        "colab": {
          "base_uri": "https://localhost:8080/"
        },
        "id": "8LxRTP2UoBC-",
        "outputId": "03e20b64-0a86-4cfd-a5d7-a906f0533aea"
      },
      "execution_count": 28,
      "outputs": [
        {
          "output_type": "stream",
          "name": "stdout",
          "text": [
            "(100000, 4)\n",
            "(100000, 4)\n"
          ]
        }
      ]
    },
    {
      "cell_type": "markdown",
      "source": [
        "Verify new dataframe was created correctly. The movie `Chasing Amy` had two movie_id's assigned in the original `movies` df: 246 and 268. The updated movies df removed the row with movie_id equal to 268.\n",
        "\n",
        "To verify new data frame is made correctly, the number of 246 movie_id entries in the new ratings df should be equal to the number of 246 and 268 movie_id entries in the old ratings dataframe. The movie_id 268 should not occur at all in the new ratings df."
      ],
      "metadata": {
        "id": "3N0YQ5KLuGMQ"
      }
    },
    {
      "cell_type": "code",
      "source": [
        "# count of movie_id values 246 and 268 in ratings df\n",
        "twofoursix = ratings[ratings['movie_id'] == 246].value_counts().sum()\n",
        "twosixeight = ratings[ratings['movie_id'] == 268].value_counts().sum()\n",
        "twofoursix + twosixeight"
      ],
      "metadata": {
        "colab": {
          "base_uri": "https://localhost:8080/"
        },
        "id": "aIr_ezjys4u4",
        "outputId": "dbb2f4f4-8aff-49fd-be1e-65062770c20c"
      },
      "execution_count": 29,
      "outputs": [
        {
          "output_type": "execute_result",
          "data": {
            "text/plain": [
              "379"
            ]
          },
          "metadata": {},
          "execution_count": 29
        }
      ]
    },
    {
      "cell_type": "code",
      "source": [
        "# count of movie_id value 246 in new ratings df\n",
        "ratings_no_dupes[ratings_no_dupes['movie_id'] == 246].value_counts().sum()"
      ],
      "metadata": {
        "colab": {
          "base_uri": "https://localhost:8080/"
        },
        "id": "zfMzDgLCt68B",
        "outputId": "71f292bd-7ce8-4df5-b16f-e9008cbc109b"
      },
      "execution_count": 30,
      "outputs": [
        {
          "output_type": "execute_result",
          "data": {
            "text/plain": [
              "379"
            ]
          },
          "metadata": {},
          "execution_count": 30
        }
      ]
    },
    {
      "cell_type": "code",
      "source": [
        "# count of movie_id value 268 in new ratings df\n",
        "ratings_no_dupes[ratings_no_dupes['movie_id'] == 268].value_counts().sum()"
      ],
      "metadata": {
        "colab": {
          "base_uri": "https://localhost:8080/"
        },
        "id": "FFlPoKd7vaOo",
        "outputId": "037fadae-1f9e-4503-ff86-e35ef796197f"
      },
      "execution_count": 31,
      "outputs": [
        {
          "output_type": "execute_result",
          "data": {
            "text/plain": [
              "0"
            ]
          },
          "metadata": {},
          "execution_count": 31
        }
      ]
    },
    {
      "cell_type": "markdown",
      "source": [
        "## Merge movies and ratings dataframes"
      ],
      "metadata": {
        "id": "EWnky0Q3GZ5i"
      }
    },
    {
      "cell_type": "code",
      "source": [
        "# Merge movies and ratings dataframes"
      ],
      "metadata": {
        "id": "f6MrymMJRMjB"
      },
      "execution_count": null,
      "outputs": []
    },
    {
      "cell_type": "markdown",
      "source": [
        "Instructions state to merge the `ratings` and `movies` dataframes on 'movie_id', and only keep the 'user_id', 'title', 'rating' fields in the new dataframe.\n",
        "\n",
        "Since these dataframes were updated to remove duplicated information, the code below will merge the two updated ratings and movies dataframes together."
      ],
      "metadata": {
        "id": "Rt_ATFoEHeU5"
      }
    },
    {
      "cell_type": "code",
      "source": [
        "# merge 'ratings' and 'movies' on 'movie_id'\n",
        "merge_movie_id = ratings_no_dupes.merge(movies_no_dupes[['movie_id', 'title']], on='movie_id')\n",
        "\n",
        "# only keep 'user_id', 'title', and 'rating' columns\n",
        "movies_ratings_df = merge_movie_id[['user_id', 'title', 'rating']]\n",
        "\n",
        "movies_ratings_df.head()"
      ],
      "metadata": {
        "colab": {
          "base_uri": "https://localhost:8080/",
          "height": 206
        },
        "id": "H9e9vCtAHYGY",
        "outputId": "f81e2df2-eff3-45ea-b016-f09c1f4ac831"
      },
      "execution_count": 32,
      "outputs": [
        {
          "output_type": "execute_result",
          "data": {
            "text/plain": [
              "   user_id                       title  rating\n",
              "0      196                Kolya (1996)       3\n",
              "1      186    L.A. Confidential (1997)       3\n",
              "2       22         Heavyweights (1994)       1\n",
              "3      244  Legends of the Fall (1994)       2\n",
              "4      166         Jackie Brown (1997)       1"
            ],
            "text/html": [
              "\n",
              "  <div id=\"df-f68ec771-755c-44c9-ab74-d5b1426bd50e\" class=\"colab-df-container\">\n",
              "    <div>\n",
              "<style scoped>\n",
              "    .dataframe tbody tr th:only-of-type {\n",
              "        vertical-align: middle;\n",
              "    }\n",
              "\n",
              "    .dataframe tbody tr th {\n",
              "        vertical-align: top;\n",
              "    }\n",
              "\n",
              "    .dataframe thead th {\n",
              "        text-align: right;\n",
              "    }\n",
              "</style>\n",
              "<table border=\"1\" class=\"dataframe\">\n",
              "  <thead>\n",
              "    <tr style=\"text-align: right;\">\n",
              "      <th></th>\n",
              "      <th>user_id</th>\n",
              "      <th>title</th>\n",
              "      <th>rating</th>\n",
              "    </tr>\n",
              "  </thead>\n",
              "  <tbody>\n",
              "    <tr>\n",
              "      <th>0</th>\n",
              "      <td>196</td>\n",
              "      <td>Kolya (1996)</td>\n",
              "      <td>3</td>\n",
              "    </tr>\n",
              "    <tr>\n",
              "      <th>1</th>\n",
              "      <td>186</td>\n",
              "      <td>L.A. Confidential (1997)</td>\n",
              "      <td>3</td>\n",
              "    </tr>\n",
              "    <tr>\n",
              "      <th>2</th>\n",
              "      <td>22</td>\n",
              "      <td>Heavyweights (1994)</td>\n",
              "      <td>1</td>\n",
              "    </tr>\n",
              "    <tr>\n",
              "      <th>3</th>\n",
              "      <td>244</td>\n",
              "      <td>Legends of the Fall (1994)</td>\n",
              "      <td>2</td>\n",
              "    </tr>\n",
              "    <tr>\n",
              "      <th>4</th>\n",
              "      <td>166</td>\n",
              "      <td>Jackie Brown (1997)</td>\n",
              "      <td>1</td>\n",
              "    </tr>\n",
              "  </tbody>\n",
              "</table>\n",
              "</div>\n",
              "    <div class=\"colab-df-buttons\">\n",
              "\n",
              "  <div class=\"colab-df-container\">\n",
              "    <button class=\"colab-df-convert\" onclick=\"convertToInteractive('df-f68ec771-755c-44c9-ab74-d5b1426bd50e')\"\n",
              "            title=\"Convert this dataframe to an interactive table.\"\n",
              "            style=\"display:none;\">\n",
              "\n",
              "  <svg xmlns=\"http://www.w3.org/2000/svg\" height=\"24px\" viewBox=\"0 -960 960 960\">\n",
              "    <path d=\"M120-120v-720h720v720H120Zm60-500h600v-160H180v160Zm220 220h160v-160H400v160Zm0 220h160v-160H400v160ZM180-400h160v-160H180v160Zm440 0h160v-160H620v160ZM180-180h160v-160H180v160Zm440 0h160v-160H620v160Z\"/>\n",
              "  </svg>\n",
              "    </button>\n",
              "\n",
              "  <style>\n",
              "    .colab-df-container {\n",
              "      display:flex;\n",
              "      gap: 12px;\n",
              "    }\n",
              "\n",
              "    .colab-df-convert {\n",
              "      background-color: #E8F0FE;\n",
              "      border: none;\n",
              "      border-radius: 50%;\n",
              "      cursor: pointer;\n",
              "      display: none;\n",
              "      fill: #1967D2;\n",
              "      height: 32px;\n",
              "      padding: 0 0 0 0;\n",
              "      width: 32px;\n",
              "    }\n",
              "\n",
              "    .colab-df-convert:hover {\n",
              "      background-color: #E2EBFA;\n",
              "      box-shadow: 0px 1px 2px rgba(60, 64, 67, 0.3), 0px 1px 3px 1px rgba(60, 64, 67, 0.15);\n",
              "      fill: #174EA6;\n",
              "    }\n",
              "\n",
              "    .colab-df-buttons div {\n",
              "      margin-bottom: 4px;\n",
              "    }\n",
              "\n",
              "    [theme=dark] .colab-df-convert {\n",
              "      background-color: #3B4455;\n",
              "      fill: #D2E3FC;\n",
              "    }\n",
              "\n",
              "    [theme=dark] .colab-df-convert:hover {\n",
              "      background-color: #434B5C;\n",
              "      box-shadow: 0px 1px 3px 1px rgba(0, 0, 0, 0.15);\n",
              "      filter: drop-shadow(0px 1px 2px rgba(0, 0, 0, 0.3));\n",
              "      fill: #FFFFFF;\n",
              "    }\n",
              "  </style>\n",
              "\n",
              "    <script>\n",
              "      const buttonEl =\n",
              "        document.querySelector('#df-f68ec771-755c-44c9-ab74-d5b1426bd50e button.colab-df-convert');\n",
              "      buttonEl.style.display =\n",
              "        google.colab.kernel.accessAllowed ? 'block' : 'none';\n",
              "\n",
              "      async function convertToInteractive(key) {\n",
              "        const element = document.querySelector('#df-f68ec771-755c-44c9-ab74-d5b1426bd50e');\n",
              "        const dataTable =\n",
              "          await google.colab.kernel.invokeFunction('convertToInteractive',\n",
              "                                                    [key], {});\n",
              "        if (!dataTable) return;\n",
              "\n",
              "        const docLinkHtml = 'Like what you see? Visit the ' +\n",
              "          '<a target=\"_blank\" href=https://colab.research.google.com/notebooks/data_table.ipynb>data table notebook</a>'\n",
              "          + ' to learn more about interactive tables.';\n",
              "        element.innerHTML = '';\n",
              "        dataTable['output_type'] = 'display_data';\n",
              "        await google.colab.output.renderOutput(dataTable, element);\n",
              "        const docLink = document.createElement('div');\n",
              "        docLink.innerHTML = docLinkHtml;\n",
              "        element.appendChild(docLink);\n",
              "      }\n",
              "    </script>\n",
              "  </div>\n",
              "\n",
              "\n",
              "<div id=\"df-d0244349-0a9d-4c5e-a04e-a9175cfd35bd\">\n",
              "  <button class=\"colab-df-quickchart\" onclick=\"quickchart('df-d0244349-0a9d-4c5e-a04e-a9175cfd35bd')\"\n",
              "            title=\"Suggest charts\"\n",
              "            style=\"display:none;\">\n",
              "\n",
              "<svg xmlns=\"http://www.w3.org/2000/svg\" height=\"24px\"viewBox=\"0 0 24 24\"\n",
              "     width=\"24px\">\n",
              "    <g>\n",
              "        <path d=\"M19 3H5c-1.1 0-2 .9-2 2v14c0 1.1.9 2 2 2h14c1.1 0 2-.9 2-2V5c0-1.1-.9-2-2-2zM9 17H7v-7h2v7zm4 0h-2V7h2v10zm4 0h-2v-4h2v4z\"/>\n",
              "    </g>\n",
              "</svg>\n",
              "  </button>\n",
              "\n",
              "<style>\n",
              "  .colab-df-quickchart {\n",
              "      --bg-color: #E8F0FE;\n",
              "      --fill-color: #1967D2;\n",
              "      --hover-bg-color: #E2EBFA;\n",
              "      --hover-fill-color: #174EA6;\n",
              "      --disabled-fill-color: #AAA;\n",
              "      --disabled-bg-color: #DDD;\n",
              "  }\n",
              "\n",
              "  [theme=dark] .colab-df-quickchart {\n",
              "      --bg-color: #3B4455;\n",
              "      --fill-color: #D2E3FC;\n",
              "      --hover-bg-color: #434B5C;\n",
              "      --hover-fill-color: #FFFFFF;\n",
              "      --disabled-bg-color: #3B4455;\n",
              "      --disabled-fill-color: #666;\n",
              "  }\n",
              "\n",
              "  .colab-df-quickchart {\n",
              "    background-color: var(--bg-color);\n",
              "    border: none;\n",
              "    border-radius: 50%;\n",
              "    cursor: pointer;\n",
              "    display: none;\n",
              "    fill: var(--fill-color);\n",
              "    height: 32px;\n",
              "    padding: 0;\n",
              "    width: 32px;\n",
              "  }\n",
              "\n",
              "  .colab-df-quickchart:hover {\n",
              "    background-color: var(--hover-bg-color);\n",
              "    box-shadow: 0 1px 2px rgba(60, 64, 67, 0.3), 0 1px 3px 1px rgba(60, 64, 67, 0.15);\n",
              "    fill: var(--button-hover-fill-color);\n",
              "  }\n",
              "\n",
              "  .colab-df-quickchart-complete:disabled,\n",
              "  .colab-df-quickchart-complete:disabled:hover {\n",
              "    background-color: var(--disabled-bg-color);\n",
              "    fill: var(--disabled-fill-color);\n",
              "    box-shadow: none;\n",
              "  }\n",
              "\n",
              "  .colab-df-spinner {\n",
              "    border: 2px solid var(--fill-color);\n",
              "    border-color: transparent;\n",
              "    border-bottom-color: var(--fill-color);\n",
              "    animation:\n",
              "      spin 1s steps(1) infinite;\n",
              "  }\n",
              "\n",
              "  @keyframes spin {\n",
              "    0% {\n",
              "      border-color: transparent;\n",
              "      border-bottom-color: var(--fill-color);\n",
              "      border-left-color: var(--fill-color);\n",
              "    }\n",
              "    20% {\n",
              "      border-color: transparent;\n",
              "      border-left-color: var(--fill-color);\n",
              "      border-top-color: var(--fill-color);\n",
              "    }\n",
              "    30% {\n",
              "      border-color: transparent;\n",
              "      border-left-color: var(--fill-color);\n",
              "      border-top-color: var(--fill-color);\n",
              "      border-right-color: var(--fill-color);\n",
              "    }\n",
              "    40% {\n",
              "      border-color: transparent;\n",
              "      border-right-color: var(--fill-color);\n",
              "      border-top-color: var(--fill-color);\n",
              "    }\n",
              "    60% {\n",
              "      border-color: transparent;\n",
              "      border-right-color: var(--fill-color);\n",
              "    }\n",
              "    80% {\n",
              "      border-color: transparent;\n",
              "      border-right-color: var(--fill-color);\n",
              "      border-bottom-color: var(--fill-color);\n",
              "    }\n",
              "    90% {\n",
              "      border-color: transparent;\n",
              "      border-bottom-color: var(--fill-color);\n",
              "    }\n",
              "  }\n",
              "</style>\n",
              "\n",
              "  <script>\n",
              "    async function quickchart(key) {\n",
              "      const quickchartButtonEl =\n",
              "        document.querySelector('#' + key + ' button');\n",
              "      quickchartButtonEl.disabled = true;  // To prevent multiple clicks.\n",
              "      quickchartButtonEl.classList.add('colab-df-spinner');\n",
              "      try {\n",
              "        const charts = await google.colab.kernel.invokeFunction(\n",
              "            'suggestCharts', [key], {});\n",
              "      } catch (error) {\n",
              "        console.error('Error during call to suggestCharts:', error);\n",
              "      }\n",
              "      quickchartButtonEl.classList.remove('colab-df-spinner');\n",
              "      quickchartButtonEl.classList.add('colab-df-quickchart-complete');\n",
              "    }\n",
              "    (() => {\n",
              "      let quickchartButtonEl =\n",
              "        document.querySelector('#df-d0244349-0a9d-4c5e-a04e-a9175cfd35bd button');\n",
              "      quickchartButtonEl.style.display =\n",
              "        google.colab.kernel.accessAllowed ? 'block' : 'none';\n",
              "    })();\n",
              "  </script>\n",
              "</div>\n",
              "\n",
              "    </div>\n",
              "  </div>\n"
            ],
            "application/vnd.google.colaboratory.intrinsic+json": {
              "type": "dataframe",
              "variable_name": "movies_ratings_df",
              "summary": "{\n  \"name\": \"movies_ratings_df\",\n  \"rows\": 100000,\n  \"fields\": [\n    {\n      \"column\": \"user_id\",\n      \"properties\": {\n        \"dtype\": \"number\",\n        \"std\": 266,\n        \"min\": 1,\n        \"max\": 943,\n        \"num_unique_values\": 943,\n        \"samples\": [\n          262,\n          136,\n          821\n        ],\n        \"semantic_type\": \"\",\n        \"description\": \"\"\n      }\n    },\n    {\n      \"column\": \"title\",\n      \"properties\": {\n        \"dtype\": \"category\",\n        \"num_unique_values\": 1664,\n        \"samples\": [\n          \"House Party 3 (1994)\",\n          \"Three Colors: White (1994)\",\n          \"Fish Called Wanda, A (1988)\"\n        ],\n        \"semantic_type\": \"\",\n        \"description\": \"\"\n      }\n    },\n    {\n      \"column\": \"rating\",\n      \"properties\": {\n        \"dtype\": \"number\",\n        \"std\": 1,\n        \"min\": 1,\n        \"max\": 5,\n        \"num_unique_values\": 5,\n        \"samples\": [\n          1,\n          5,\n          2\n        ],\n        \"semantic_type\": \"\",\n        \"description\": \"\"\n      }\n    }\n  ]\n}"
            }
          },
          "metadata": {},
          "execution_count": 32
        }
      ]
    },
    {
      "cell_type": "code",
      "source": [
        "movies_ratings_df.shape"
      ],
      "metadata": {
        "colab": {
          "base_uri": "https://localhost:8080/"
        },
        "id": "Cvexy0cvKG0-",
        "outputId": "ac62a230-e27a-416f-c999-5f64b45a98b6"
      },
      "execution_count": 33,
      "outputs": [
        {
          "output_type": "execute_result",
          "data": {
            "text/plain": [
              "(100000, 3)"
            ]
          },
          "metadata": {},
          "execution_count": 33
        }
      ]
    },
    {
      "cell_type": "markdown",
      "source": [
        "Since the updated ratings dataframe had replaced movie_id's because there were duplicate title's in the movies dataframe, this may mean there will be duplicates across titles in the combined movies_ratings_df.\n",
        "\n",
        "The below code will see if there are duplicates."
      ],
      "metadata": {
        "id": "3OEwCDgLwSvk"
      }
    },
    {
      "cell_type": "code",
      "source": [
        "# count number of rows where user_id, title, and rating match\n",
        "movies_ratings_df.duplicated().sum()"
      ],
      "metadata": {
        "colab": {
          "base_uri": "https://localhost:8080/"
        },
        "id": "pJJ1P-URwR6L",
        "outputId": "19f59d1c-b9fe-4700-ed79-84806074aeeb"
      },
      "execution_count": 34,
      "outputs": [
        {
          "output_type": "execute_result",
          "data": {
            "text/plain": [
              "261"
            ]
          },
          "metadata": {},
          "execution_count": 34
        }
      ]
    },
    {
      "cell_type": "code",
      "source": [
        "# count number of duplicate rows where user_id & title match\n",
        "mov_rat_trunc = movies_ratings_df[['user_id', 'title']]\n",
        "mov_rat_trunc.duplicated().sum()"
      ],
      "metadata": {
        "colab": {
          "base_uri": "https://localhost:8080/"
        },
        "id": "ILTz7bdWxDg9",
        "outputId": "18a29191-756d-402f-e0de-189ceecd89bd"
      },
      "execution_count": 35,
      "outputs": [
        {
          "output_type": "execute_result",
          "data": {
            "text/plain": [
              "307"
            ]
          },
          "metadata": {},
          "execution_count": 35
        }
      ]
    },
    {
      "cell_type": "markdown",
      "source": [
        "When examining the combined movies and ratings dataframes, there are 261 duplicate rows where all column values match, and 370 duplicate rows where just the user_id and title rows match.\n",
        "\n",
        "This difference indicates that some users rated a movie more than once, and their ratings were always the same between reviews.\n",
        "\n",
        "The multiple ratings per user/movie should be aggregated and put into a single rating entry so it does not cause issues with the calculations for recommender systems."
      ],
      "metadata": {
        "id": "8e5F6zdt189r"
      }
    },
    {
      "cell_type": "code",
      "source": [
        "# aggregate duplicate movie ratings per user & print shape of new df\n",
        "mr_no_dupes_df = movies_ratings_df.groupby(['title', 'user_id'], as_index=False)['rating'].mean()\n",
        "mr_no_dupes_df.shape"
      ],
      "metadata": {
        "colab": {
          "base_uri": "https://localhost:8080/"
        },
        "id": "5JO_uhw_18Jd",
        "outputId": "ecb19ae2-347a-4276-d50a-6200cfd9fa20"
      },
      "execution_count": 36,
      "outputs": [
        {
          "output_type": "execute_result",
          "data": {
            "text/plain": [
              "(99693, 3)"
            ]
          },
          "metadata": {},
          "execution_count": 36
        }
      ]
    },
    {
      "cell_type": "code",
      "source": [
        "# verify no duplicates between all three column values\n",
        "print(mr_no_dupes_df.duplicated().sum())\n",
        "\n",
        "# verify no duplicates between user_id and title columns\n",
        "mov_rat_trunc = mr_no_dupes_df[['user_id', 'title']]\n",
        "print(mov_rat_trunc.duplicated().sum())"
      ],
      "metadata": {
        "colab": {
          "base_uri": "https://localhost:8080/"
        },
        "id": "_rrDWFrF4h-D",
        "outputId": "07ba8870-d0e5-42a2-e644-65651ba8ad8b"
      },
      "execution_count": 37,
      "outputs": [
        {
          "output_type": "stream",
          "name": "stdout",
          "text": [
            "0\n",
            "0\n"
          ]
        }
      ]
    },
    {
      "cell_type": "markdown",
      "source": [
        "# Content Based Filtering"
      ],
      "metadata": {
        "id": "7UZIxsUtMjzh"
      }
    },
    {
      "cell_type": "markdown",
      "source": [
        "As mentioned in the introduction, content-Based Filtering is a recommendation engine approach that focuses on the attributes or features of items (products, movies, music, articles, etc.) and leverages these features to make personalized recommendations. The underlying idea is to match the characteristics of items with the preferences of users to suggest items that align with their interests. Content-based filtering is particularly useful when explicit user-item interactions (e.g., ratings or purchases) are sparse or unavailable.\n",
        "\n",
        "**Key Steps in Content-Based Filtering:**\n",
        "\n",
        "1. **Feature Extraction:**\n",
        "   - For each item, relevant features are extracted. These features are typically descriptive attributes that can be represented numerically, such as genre, director, actors, author, publication date, and keywords.\n",
        "   - In the case of text-based items, natural language processing techniques may be used to extract features like TF-IDF (Term Frequency-Inverse Document Frequency) scores.\n",
        "\n",
        "2. **User Profile Creation:**\n",
        "   - A user profile is created based on the items they have interacted with in the past. The user profile contains the weighted importance of features based on their interactions.\n",
        "   - For example, if a user has watched several action movies, the action genre feature would receive a higher weight in their profile.\n",
        "\n",
        "3. **Similarity Calculation:**\n",
        "   - The similarity between items or between items and the user profile is calculated using similarity metrics like cosine similarity, Euclidean distance, or Pearson correlation.\n",
        "   - Cosine similarity is commonly used as it measures the cosine of the angle between two vectors, which represents their similarity.\n",
        "\n",
        "4. **Recommendation:**\n",
        "   - Items that are most similar to the user profile are recommended to the user. These are items whose features have the highest similarity scores with the user profile.\n",
        "   - The recommended items are presented as a list sorted by their similarity scores.\n",
        "\n",
        "**Advantages of Content-Based Filtering:**\n",
        "1. **No Cold-Start Problem:** Content-based filtering can make recommendations even for new users with no historical interactions because it relies on item features rather than user history.\n",
        "\n",
        "2. **User Independence:** The recommendations are based solely on the features of items and do not require knowledge of other users' preferences or behavior.\n",
        "\n",
        "3. **Transparency:** Content-based recommendations are interpretable, as they depend on the features of items, making it easier for users to understand why specific items are recommended.\n",
        "\n",
        "4. **Serendipity:** Content-based filtering can recommend items with characteristics not seen before by the user, leading to serendipitous discoveries.\n",
        "\n",
        "5. **Diversity in Recommendations:** The method can offer diverse recommendations since it suggests items with different feature combinations.\n",
        "\n",
        "**Limitations of Content-Based Filtering:**\n",
        "1. **Limited Discovery:** Content-based filtering may struggle to recommend items outside the scope of users' historical interactions or interests.\n",
        "\n",
        "2. **Over-Specialization:** Users may receive recommendations that are too similar to their previous choices, leading to a lack of exposure to new item categories.\n",
        "\n",
        "3. **Dependency on Feature Quality:** The quality and relevance of item features significantly influence the quality of recommendations.\n",
        "\n",
        "4. **Limited for Cold Items:** Content-based filtering can struggle to recommend new items with limited feature information."
      ],
      "metadata": {
        "id": "_U44W0TMT3qf"
      }
    },
    {
      "cell_type": "markdown",
      "source": [
        "Here is your task:\n",
        "\n",
        "1. Write a function that takes in a user id and the dataframe you created before that contains 'user_id', 'title', and 'rating'. The function should return content-based recommendations for this user. Here are steps you can take:\n",
        "\n",
        "  A. Get the user's rated movies\n",
        "\n",
        "  B. Create a TF-IDF matrix using movie genres. Note, this can be extracted from the `movies` dataframe.\n",
        "\n",
        "  C. Compute the cosine similarity between movie genres. Use the [cosine_similarity](https://scikit-learn.org/stable/modules/generated/sklearn.metrics.pairwise.cosine_similarity.html) function.\n",
        "\n",
        "  D. Get the indices of similar movies to those rated by the user based on cosine similarity. Keep only the top 5.\n",
        "\n",
        "  E. Remove duplicates and movies already rated by the user."
      ],
      "metadata": {
        "id": "sbJGD7j7Ui-8"
      }
    },
    {
      "cell_type": "markdown",
      "source": [
        "Before creating the function to make content-based recommendations, a dataframe will be constructed containing properly formatted genre data for the TD-IDF vectorizer function.\n",
        "\n",
        "TD-IDF requires text to vectorize, but the genre information is spread across 19 columns containing the value of 0 or 1. A new genre column will be created that contains all of the genre classes for each specific record."
      ],
      "metadata": {
        "id": "Cn1WOwVCrIUg"
      }
    },
    {
      "cell_type": "code",
      "source": [
        "# import modules\n",
        "import warnings\n",
        "warnings.filterwarnings('ignore')\n",
        "from sklearn.feature_extraction.text import TfidfVectorizer"
      ],
      "metadata": {
        "id": "wGa-4QIWl_m8"
      },
      "execution_count": 38,
      "outputs": []
    },
    {
      "cell_type": "code",
      "source": [
        "# add 'genre' column to df -- combines all relevant genres into one column\n",
        "movies_no_dupes['genres'] = movies.apply(\n",
        "    lambda x: ' '.join([genre.replace('-','_').lower() for genre in genres if x[genre] == 1]), axis=1\n",
        ")"
      ],
      "metadata": {
        "id": "4VIDNytUi_a5"
      },
      "execution_count": 39,
      "outputs": []
    },
    {
      "cell_type": "code",
      "source": [
        "sorted(movies_no_dupes['genres'].unique())[:5]"
      ],
      "metadata": {
        "colab": {
          "base_uri": "https://localhost:8080/"
        },
        "id": "a-al4Fbuvyl5",
        "outputId": "80565f39-ad3c-4ec8-b266-fb5498d0a8c5"
      },
      "execution_count": 40,
      "outputs": [
        {
          "output_type": "execute_result",
          "data": {
            "text/plain": [
              "['action',\n",
              " 'action adventure',\n",
              " 'action adventure animation children fantasy',\n",
              " 'action adventure animation horror sci_fi',\n",
              " 'action adventure children']"
            ]
          },
          "metadata": {},
          "execution_count": 40
        }
      ]
    },
    {
      "cell_type": "code",
      "source": [
        "# create function to perform Content-Based Filtering using Movie Genres\n",
        "def content_based_recommendation(user_id, df):\n",
        "  # Create a TF-IDF matrix using movie genres\n",
        "  tfidfvec = TfidfVectorizer(stop_words='english', min_df=2)\n",
        "  tfidf_matrix = tfidfvec.fit_transform(movies_no_dupes['genres'])\n",
        "  tfidf_df = pd.DataFrame(tfidf_matrix.toarray(), columns=tfidfvec.get_feature_names_out())\n",
        "  tfidf_df.index = movies_no_dupes['title']\n",
        "\n",
        "  # Compute the cosine similarity between movie genres\n",
        "  cos_sim_array = cosine_similarity(tfidf_df)\n",
        "  cos_sim_df = pd.DataFrame(cos_sim_array, index=tfidf_df.index, columns=tfidf_df.index)\n",
        "\n",
        "  # Create User Profile -- Get Average of Rated Movies\n",
        "  user_rated_movies = df[df['user_id'] == user_id]['title']\n",
        "  user_movies = tfidf_df.reindex(user_rated_movies)\n",
        "  user_profile = user_movies.mean()\n",
        "\n",
        "  # Create dataframe with movies not rated by user\n",
        "  non_rated_movies = tfidf_df.drop(user_rated_movies, axis=0)\n",
        "\n",
        "  # calculate cosine similarities between user profile and movies not rated by user\n",
        "  user_prof_similarities = cosine_similarity(user_profile.values.reshape(1, -1), non_rated_movies)\n",
        "  user_prof_similarities_df = pd.DataFrame(user_prof_similarities.T, index=non_rated_movies.index, columns=['similarity'])\n",
        "\n",
        "  # Get the indices for the top 5 similar movies based on user profile cosine similarity\n",
        "  # ensure no duplicate suggestions are in the list\n",
        "  user_prof_similarities_df = user_prof_similarities_df.sort_values(by='similarity', ascending=False).drop_duplicates()\n",
        "  top_5 = list(user_prof_similarities_df.head().index)\n",
        "\n",
        "  return top_5"
      ],
      "metadata": {
        "id": "JwBQSC-POTzn"
      },
      "execution_count": 41,
      "outputs": []
    },
    {
      "cell_type": "markdown",
      "source": [
        "# Collaborative Based Filtering"
      ],
      "metadata": {
        "id": "aosbZeLGMq0c"
      }
    },
    {
      "cell_type": "markdown",
      "source": [
        "The key idea behind collaborative filtering is that users who have agreed in the past will likely agree in the future. Instead of relying on item attributes or user profiles, collaborative filtering identifies patterns of user behavior and item preferences from the interactions present in the data.\n",
        "\n",
        "**Types of Collaborative Filtering:**\n",
        "There are two main types of collaborative filtering:\n",
        "\n",
        "**Collaborative Filtering Process:**\n",
        "The collaborative filtering process typically involves the following steps:\n",
        "\n",
        "1. **Data Collection:**\n",
        "   - Gather data on user-item interactions, such as movie ratings, product purchases, or article clicks.\n",
        "\n",
        "2. **User-Item Matrix:**\n",
        "   - Organize the data into a user-item matrix, where rows represent users, columns represent items, and the entries contain the users' interactions (e.g., ratings).\n",
        "\n",
        "3. **Similarity Calculation:**\n",
        "   - Calculate the similarity between users or items using similarity metrics such as cosine similarity, Pearson correlation, or Jaccard similarity.\n",
        "   - For user-based collaborative filtering, user similarities are calculated, and for item-based collaborative filtering, item similarities are calculated.\n",
        "\n",
        "4. **Neighborhood Selection:**\n",
        "   - For each user or item, select the most similar users or items as the neighborhood.\n",
        "   - The size of the neighborhood (the number of similar users or items to consider) is an important parameter to control the system's behavior.\n",
        "\n",
        "5. **Prediction Generation:**\n",
        "   - Predict the ratings for items that the target user has not yet interacted with by combining the ratings of neighboring users or items.\n",
        "\n",
        "6. **Recommendation Generation:**\n",
        "   - Recommend items with the highest predicted ratings to the target user.\n",
        "\n",
        "**Advantages of Collaborative Filtering using User-Item Interactions:**\n",
        "- Collaborative filtering is based solely on user interactions and does not require knowledge of item attributes, making it useful for cases where item data is sparse or unavailable.\n",
        "- It can provide serendipitous recommendations, suggesting items that users may not have discovered on their own.\n",
        "- Collaborative filtering can be applied in various domains, including e-commerce, music, movie, and content recommendations.\n",
        "\n",
        "**Limitations of Collaborative Filtering:**\n",
        "- The cold-start problem: Collaborative filtering struggles to recommend to new users or items with no or limited interaction history.\n",
        "- It may suffer from sparsity when data is limited or when users have only interacted with a small subset of items.\n",
        "- Scalability issues can arise with large datasets and an increasing number of users or items."
      ],
      "metadata": {
        "id": "2NNt3gHLYDxU"
      }
    },
    {
      "cell_type": "markdown",
      "source": [
        "Here is your task:\n",
        "\n",
        "1. Write a function that takes in a user id and the dataframe you created before that contains 'user_id', 'title', and 'rating'. The function should return collaborative filtering recommendations for this user based on a user-item interaction matrix. Here are steps you can take:\n",
        "\n",
        "  A. Create the user-item matrix using Pandas' [pivot_table](https://pandas.pydata.org/docs/reference/api/pandas.pivot_table.html).\n",
        "\n",
        "  B. Fill missing values with zeros in this matrix.\n",
        "\n",
        "  C. Calculate user-user similarity matrix using cosine similarity.\n",
        "\n",
        "  D. Get the array of similarity scores of the target user with all other users from the similarity matrix.\n",
        "\n",
        "  E. Extract, say the the top 5 most similar users (excluding the target user).\n",
        "\n",
        "  F. Generate movie recommendations based on the most similar users.\n",
        "\n",
        "  G. Remove duplicate movies recommendations."
      ],
      "metadata": {
        "id": "ks4mWyCaYVNY"
      }
    },
    {
      "cell_type": "code",
      "source": [
        "# Collaborative Filtering using User-Item Interactions\n",
        "def collaborative_filtering_recommendation(user_id, df):\n",
        "  # Create the user-item matrix\n",
        "  user_ratings_pivot = df.pivot(index='user_id', columns='title', values='rating')\n",
        "\n",
        "  # Fill missing values with 0 (indicating no rating)\n",
        "  avg_ratings = user_ratings_pivot.mean(axis=1)\n",
        "  user_ratings_pivot = user_ratings_pivot.sub(avg_ratings, axis=0).fillna(0)\n",
        "\n",
        "  # Calculate user-user similarity matrix using cosine similarity\n",
        "  similarities = cosine_similarity(user_ratings_pivot)\n",
        "  similarities_df = pd.DataFrame(similarities, index=user_ratings_pivot.index, columns=user_ratings_pivot.index)\n",
        "\n",
        "  # Get the similarity scores of the target user with all other users\n",
        "  target_user_similarities = similarities_df.loc[user_id]\n",
        "\n",
        "  # Find the top 3 most similar users (excluding the target user)\n",
        "  sorted_target_sims = target_user_similarities.sort_values(ascending=False)\n",
        "  nearest_neighbors = sorted_target_sims.index[1:4]\n",
        "\n",
        "  # Generate movie recommendations based on the most similar users\n",
        "  recommendations = pd.Series(dtype=float)\n",
        "\n",
        "  # create scores based on each neighbor's user ratings and similarity score with neighbor\n",
        "  for neighbor in nearest_neighbors:\n",
        "    neighbor_ratings = user_ratings_pivot.loc[neighbor]\n",
        "    similarity_score = target_user_similarities[neighbor]\n",
        "    weighted_ratings = neighbor_ratings * similarity_score\n",
        "    recommendations = recommendations.add(weighted_ratings, fill_value=0)\n",
        "\n",
        "  # Remove duplicates from recommendations\n",
        "  rated_movies = list(df[df['user_id'] == user_id]['title'])\n",
        "\n",
        "  # sort recommendations by score & return the top 5 results\n",
        "  new_recommendations = recommendations.drop(rated_movies, errors='ignore').sort_values(ascending=False)\n",
        "  top_5 = list(new_recommendations.head().index)\n",
        "\n",
        "  return top_5"
      ],
      "metadata": {
        "id": "BqZPgKRDWf-c"
      },
      "execution_count": 42,
      "outputs": []
    },
    {
      "cell_type": "markdown",
      "source": [
        "Now, test your recommendations engines! Select a few user ids and generate recommendations using both functions you've written. Are the recommendations similar? Do the recommendations make sense?"
      ],
      "metadata": {
        "id": "-Jj883VAZRNe"
      }
    },
    {
      "cell_type": "markdown",
      "source": [
        "# Test Recommenders"
      ],
      "metadata": {
        "id": "CNXY5ZX19601"
      }
    },
    {
      "cell_type": "code",
      "source": [
        "# Test the recommendation engines"
      ],
      "metadata": {
        "id": "kt9nuOTNJXz8"
      },
      "execution_count": 43,
      "outputs": []
    },
    {
      "cell_type": "markdown",
      "source": [
        "## Content Based Recommender"
      ],
      "metadata": {
        "id": "0wSCORPn-GZa"
      }
    },
    {
      "cell_type": "markdown",
      "source": [
        "To determine how relevant the suggestions are from the content based recommender system, the below code will generate the top five recommendations for two different user_id's. Then it will compare the genres that each user likes, and see if the suggested movies contain these genres and at what rate."
      ],
      "metadata": {
        "id": "mROuI6vzd7s-"
      }
    },
    {
      "cell_type": "markdown",
      "source": [
        "**user_id == 5**"
      ],
      "metadata": {
        "id": "xNjXYVqlubF5"
      }
    },
    {
      "cell_type": "code",
      "source": [
        "# print recommended movies for user_id 5\n",
        "id5_content = content_based_recommendation(5, mr_no_dupes_df)\n",
        "id5_content"
      ],
      "metadata": {
        "colab": {
          "base_uri": "https://localhost:8080/"
        },
        "id": "-tUWmNTh-Kx7",
        "outputId": "9fc131ce-b0ea-450f-e3bd-208ae6100755"
      },
      "execution_count": 44,
      "outputs": [
        {
          "output_type": "execute_result",
          "data": {
            "text/plain": [
              "['Army of Darkness (1993)',\n",
              " 'Evil Dead II (1987)',\n",
              " 'Faster Pussycat! Kill! Kill! (1965)',\n",
              " 'Cowboy Way, The (1994)',\n",
              " 'House Arrest (1996)']"
            ]
          },
          "metadata": {},
          "execution_count": 44
        }
      ]
    },
    {
      "cell_type": "code",
      "source": [
        "# create user_id 5's genre preferences\n",
        "\n",
        "# Create a TF-IDF matrix using movie genres\n",
        "tfidfvec = TfidfVectorizer(stop_words='english', min_df=2)\n",
        "tfidf_matrix = tfidfvec.fit_transform(movies_no_dupes['genres'])\n",
        "tfidf_df = pd.DataFrame(tfidf_matrix.toarray(), columns=tfidfvec.get_feature_names_out())\n",
        "tfidf_df.index = movies_no_dupes['title']\n",
        "\n",
        "# Compute the cosine similarity between movie genres\n",
        "cos_sim_array = cosine_similarity(tfidf_df)\n",
        "cos_sim_df = pd.DataFrame(cos_sim_array, index=tfidf_df.index, columns=tfidf_df.index)"
      ],
      "metadata": {
        "id": "WAFxFyhHuiEv"
      },
      "execution_count": 45,
      "outputs": []
    },
    {
      "cell_type": "code",
      "source": [
        "# Create function for creating user profiles after all other pre-cals are done\n",
        "def user_profile_10(user_id):\n",
        "  user_rated_movies = mr_no_dupes_df[mr_no_dupes_df['user_id'] == user_id]['title']\n",
        "  user_movies = tfidf_df.reindex(user_rated_movies)\n",
        "  user_profile = user_movies.mean()\n",
        "  return user_profile.sort_values(ascending=False).head(10)"
      ],
      "metadata": {
        "id": "yzLDBko1VIK2"
      },
      "execution_count": 46,
      "outputs": []
    },
    {
      "cell_type": "code",
      "source": [
        "# get top 10 preferred genres for user_id 5\n",
        "user5_profile = user_profile_10(5)\n",
        "user5_genres = set(user5_profile.index)\n",
        "user5_profile"
      ],
      "metadata": {
        "colab": {
          "base_uri": "https://localhost:8080/",
          "height": 397
        },
        "id": "TeEVf8IXvZ57",
        "outputId": "e79718a7-72dd-432e-c0e2-2704f47c2a08"
      },
      "execution_count": 47,
      "outputs": [
        {
          "output_type": "execute_result",
          "data": {
            "text/plain": [
              "comedy       0.300029\n",
              "action       0.176468\n",
              "horror       0.141371\n",
              "sci_fi       0.118758\n",
              "children     0.112358\n",
              "adventure    0.111292\n",
              "drama        0.094226\n",
              "romance      0.064045\n",
              "thriller     0.061015\n",
              "animation    0.056325\n",
              "dtype: float64"
            ],
            "text/html": [
              "<div>\n",
              "<style scoped>\n",
              "    .dataframe tbody tr th:only-of-type {\n",
              "        vertical-align: middle;\n",
              "    }\n",
              "\n",
              "    .dataframe tbody tr th {\n",
              "        vertical-align: top;\n",
              "    }\n",
              "\n",
              "    .dataframe thead th {\n",
              "        text-align: right;\n",
              "    }\n",
              "</style>\n",
              "<table border=\"1\" class=\"dataframe\">\n",
              "  <thead>\n",
              "    <tr style=\"text-align: right;\">\n",
              "      <th></th>\n",
              "      <th>0</th>\n",
              "    </tr>\n",
              "  </thead>\n",
              "  <tbody>\n",
              "    <tr>\n",
              "      <th>comedy</th>\n",
              "      <td>0.300029</td>\n",
              "    </tr>\n",
              "    <tr>\n",
              "      <th>action</th>\n",
              "      <td>0.176468</td>\n",
              "    </tr>\n",
              "    <tr>\n",
              "      <th>horror</th>\n",
              "      <td>0.141371</td>\n",
              "    </tr>\n",
              "    <tr>\n",
              "      <th>sci_fi</th>\n",
              "      <td>0.118758</td>\n",
              "    </tr>\n",
              "    <tr>\n",
              "      <th>children</th>\n",
              "      <td>0.112358</td>\n",
              "    </tr>\n",
              "    <tr>\n",
              "      <th>adventure</th>\n",
              "      <td>0.111292</td>\n",
              "    </tr>\n",
              "    <tr>\n",
              "      <th>drama</th>\n",
              "      <td>0.094226</td>\n",
              "    </tr>\n",
              "    <tr>\n",
              "      <th>romance</th>\n",
              "      <td>0.064045</td>\n",
              "    </tr>\n",
              "    <tr>\n",
              "      <th>thriller</th>\n",
              "      <td>0.061015</td>\n",
              "    </tr>\n",
              "    <tr>\n",
              "      <th>animation</th>\n",
              "      <td>0.056325</td>\n",
              "    </tr>\n",
              "  </tbody>\n",
              "</table>\n",
              "</div><br><label><b>dtype:</b> float64</label>"
            ]
          },
          "metadata": {},
          "execution_count": 47
        }
      ]
    },
    {
      "cell_type": "code",
      "source": [
        "# print genres of the movies recommended for user_id 5\n",
        "recommended_genres = ['Comedy', 'Action', 'Horror', 'Sci-Fi', 'Adventure', 'Drama', 'genres']\n",
        "movies_no_dupes[movies_no_dupes['title'].isin(id5_content)][recommended_genres]"
      ],
      "metadata": {
        "colab": {
          "base_uri": "https://localhost:8080/",
          "height": 206
        },
        "id": "cmpaO2Ym-arv",
        "outputId": "9e9d65be-dc78-451a-9ec0-d48785ce86e5"
      },
      "execution_count": 48,
      "outputs": [
        {
          "output_type": "execute_result",
          "data": {
            "text/plain": [
              "      Comedy  Action  Horror  Sci-Fi  Adventure  Drama  \\\n",
              "73         1       1       0       0          0      1   \n",
              "183        1       1       1       1          1      0   \n",
              "200        1       1       1       0          1      0   \n",
              "1048       1       0       0       0          0      0   \n",
              "1182       1       1       0       0          0      0   \n",
              "\n",
              "                                     genres  \n",
              "73                      action comedy drama  \n",
              "183   action adventure comedy horror sci_fi  \n",
              "200          action adventure comedy horror  \n",
              "1048                                 comedy  \n",
              "1182                          action comedy  "
            ],
            "text/html": [
              "\n",
              "  <div id=\"df-5d5f840e-b247-42eb-9f02-b8e31efe25cc\" class=\"colab-df-container\">\n",
              "    <div>\n",
              "<style scoped>\n",
              "    .dataframe tbody tr th:only-of-type {\n",
              "        vertical-align: middle;\n",
              "    }\n",
              "\n",
              "    .dataframe tbody tr th {\n",
              "        vertical-align: top;\n",
              "    }\n",
              "\n",
              "    .dataframe thead th {\n",
              "        text-align: right;\n",
              "    }\n",
              "</style>\n",
              "<table border=\"1\" class=\"dataframe\">\n",
              "  <thead>\n",
              "    <tr style=\"text-align: right;\">\n",
              "      <th></th>\n",
              "      <th>Comedy</th>\n",
              "      <th>Action</th>\n",
              "      <th>Horror</th>\n",
              "      <th>Sci-Fi</th>\n",
              "      <th>Adventure</th>\n",
              "      <th>Drama</th>\n",
              "      <th>genres</th>\n",
              "    </tr>\n",
              "  </thead>\n",
              "  <tbody>\n",
              "    <tr>\n",
              "      <th>73</th>\n",
              "      <td>1</td>\n",
              "      <td>1</td>\n",
              "      <td>0</td>\n",
              "      <td>0</td>\n",
              "      <td>0</td>\n",
              "      <td>1</td>\n",
              "      <td>action comedy drama</td>\n",
              "    </tr>\n",
              "    <tr>\n",
              "      <th>183</th>\n",
              "      <td>1</td>\n",
              "      <td>1</td>\n",
              "      <td>1</td>\n",
              "      <td>1</td>\n",
              "      <td>1</td>\n",
              "      <td>0</td>\n",
              "      <td>action adventure comedy horror sci_fi</td>\n",
              "    </tr>\n",
              "    <tr>\n",
              "      <th>200</th>\n",
              "      <td>1</td>\n",
              "      <td>1</td>\n",
              "      <td>1</td>\n",
              "      <td>0</td>\n",
              "      <td>1</td>\n",
              "      <td>0</td>\n",
              "      <td>action adventure comedy horror</td>\n",
              "    </tr>\n",
              "    <tr>\n",
              "      <th>1048</th>\n",
              "      <td>1</td>\n",
              "      <td>0</td>\n",
              "      <td>0</td>\n",
              "      <td>0</td>\n",
              "      <td>0</td>\n",
              "      <td>0</td>\n",
              "      <td>comedy</td>\n",
              "    </tr>\n",
              "    <tr>\n",
              "      <th>1182</th>\n",
              "      <td>1</td>\n",
              "      <td>1</td>\n",
              "      <td>0</td>\n",
              "      <td>0</td>\n",
              "      <td>0</td>\n",
              "      <td>0</td>\n",
              "      <td>action comedy</td>\n",
              "    </tr>\n",
              "  </tbody>\n",
              "</table>\n",
              "</div>\n",
              "    <div class=\"colab-df-buttons\">\n",
              "\n",
              "  <div class=\"colab-df-container\">\n",
              "    <button class=\"colab-df-convert\" onclick=\"convertToInteractive('df-5d5f840e-b247-42eb-9f02-b8e31efe25cc')\"\n",
              "            title=\"Convert this dataframe to an interactive table.\"\n",
              "            style=\"display:none;\">\n",
              "\n",
              "  <svg xmlns=\"http://www.w3.org/2000/svg\" height=\"24px\" viewBox=\"0 -960 960 960\">\n",
              "    <path d=\"M120-120v-720h720v720H120Zm60-500h600v-160H180v160Zm220 220h160v-160H400v160Zm0 220h160v-160H400v160ZM180-400h160v-160H180v160Zm440 0h160v-160H620v160ZM180-180h160v-160H180v160Zm440 0h160v-160H620v160Z\"/>\n",
              "  </svg>\n",
              "    </button>\n",
              "\n",
              "  <style>\n",
              "    .colab-df-container {\n",
              "      display:flex;\n",
              "      gap: 12px;\n",
              "    }\n",
              "\n",
              "    .colab-df-convert {\n",
              "      background-color: #E8F0FE;\n",
              "      border: none;\n",
              "      border-radius: 50%;\n",
              "      cursor: pointer;\n",
              "      display: none;\n",
              "      fill: #1967D2;\n",
              "      height: 32px;\n",
              "      padding: 0 0 0 0;\n",
              "      width: 32px;\n",
              "    }\n",
              "\n",
              "    .colab-df-convert:hover {\n",
              "      background-color: #E2EBFA;\n",
              "      box-shadow: 0px 1px 2px rgba(60, 64, 67, 0.3), 0px 1px 3px 1px rgba(60, 64, 67, 0.15);\n",
              "      fill: #174EA6;\n",
              "    }\n",
              "\n",
              "    .colab-df-buttons div {\n",
              "      margin-bottom: 4px;\n",
              "    }\n",
              "\n",
              "    [theme=dark] .colab-df-convert {\n",
              "      background-color: #3B4455;\n",
              "      fill: #D2E3FC;\n",
              "    }\n",
              "\n",
              "    [theme=dark] .colab-df-convert:hover {\n",
              "      background-color: #434B5C;\n",
              "      box-shadow: 0px 1px 3px 1px rgba(0, 0, 0, 0.15);\n",
              "      filter: drop-shadow(0px 1px 2px rgba(0, 0, 0, 0.3));\n",
              "      fill: #FFFFFF;\n",
              "    }\n",
              "  </style>\n",
              "\n",
              "    <script>\n",
              "      const buttonEl =\n",
              "        document.querySelector('#df-5d5f840e-b247-42eb-9f02-b8e31efe25cc button.colab-df-convert');\n",
              "      buttonEl.style.display =\n",
              "        google.colab.kernel.accessAllowed ? 'block' : 'none';\n",
              "\n",
              "      async function convertToInteractive(key) {\n",
              "        const element = document.querySelector('#df-5d5f840e-b247-42eb-9f02-b8e31efe25cc');\n",
              "        const dataTable =\n",
              "          await google.colab.kernel.invokeFunction('convertToInteractive',\n",
              "                                                    [key], {});\n",
              "        if (!dataTable) return;\n",
              "\n",
              "        const docLinkHtml = 'Like what you see? Visit the ' +\n",
              "          '<a target=\"_blank\" href=https://colab.research.google.com/notebooks/data_table.ipynb>data table notebook</a>'\n",
              "          + ' to learn more about interactive tables.';\n",
              "        element.innerHTML = '';\n",
              "        dataTable['output_type'] = 'display_data';\n",
              "        await google.colab.output.renderOutput(dataTable, element);\n",
              "        const docLink = document.createElement('div');\n",
              "        docLink.innerHTML = docLinkHtml;\n",
              "        element.appendChild(docLink);\n",
              "      }\n",
              "    </script>\n",
              "  </div>\n",
              "\n",
              "\n",
              "<div id=\"df-9d8ce7e0-57ef-4d75-9d11-a23302e62c53\">\n",
              "  <button class=\"colab-df-quickchart\" onclick=\"quickchart('df-9d8ce7e0-57ef-4d75-9d11-a23302e62c53')\"\n",
              "            title=\"Suggest charts\"\n",
              "            style=\"display:none;\">\n",
              "\n",
              "<svg xmlns=\"http://www.w3.org/2000/svg\" height=\"24px\"viewBox=\"0 0 24 24\"\n",
              "     width=\"24px\">\n",
              "    <g>\n",
              "        <path d=\"M19 3H5c-1.1 0-2 .9-2 2v14c0 1.1.9 2 2 2h14c1.1 0 2-.9 2-2V5c0-1.1-.9-2-2-2zM9 17H7v-7h2v7zm4 0h-2V7h2v10zm4 0h-2v-4h2v4z\"/>\n",
              "    </g>\n",
              "</svg>\n",
              "  </button>\n",
              "\n",
              "<style>\n",
              "  .colab-df-quickchart {\n",
              "      --bg-color: #E8F0FE;\n",
              "      --fill-color: #1967D2;\n",
              "      --hover-bg-color: #E2EBFA;\n",
              "      --hover-fill-color: #174EA6;\n",
              "      --disabled-fill-color: #AAA;\n",
              "      --disabled-bg-color: #DDD;\n",
              "  }\n",
              "\n",
              "  [theme=dark] .colab-df-quickchart {\n",
              "      --bg-color: #3B4455;\n",
              "      --fill-color: #D2E3FC;\n",
              "      --hover-bg-color: #434B5C;\n",
              "      --hover-fill-color: #FFFFFF;\n",
              "      --disabled-bg-color: #3B4455;\n",
              "      --disabled-fill-color: #666;\n",
              "  }\n",
              "\n",
              "  .colab-df-quickchart {\n",
              "    background-color: var(--bg-color);\n",
              "    border: none;\n",
              "    border-radius: 50%;\n",
              "    cursor: pointer;\n",
              "    display: none;\n",
              "    fill: var(--fill-color);\n",
              "    height: 32px;\n",
              "    padding: 0;\n",
              "    width: 32px;\n",
              "  }\n",
              "\n",
              "  .colab-df-quickchart:hover {\n",
              "    background-color: var(--hover-bg-color);\n",
              "    box-shadow: 0 1px 2px rgba(60, 64, 67, 0.3), 0 1px 3px 1px rgba(60, 64, 67, 0.15);\n",
              "    fill: var(--button-hover-fill-color);\n",
              "  }\n",
              "\n",
              "  .colab-df-quickchart-complete:disabled,\n",
              "  .colab-df-quickchart-complete:disabled:hover {\n",
              "    background-color: var(--disabled-bg-color);\n",
              "    fill: var(--disabled-fill-color);\n",
              "    box-shadow: none;\n",
              "  }\n",
              "\n",
              "  .colab-df-spinner {\n",
              "    border: 2px solid var(--fill-color);\n",
              "    border-color: transparent;\n",
              "    border-bottom-color: var(--fill-color);\n",
              "    animation:\n",
              "      spin 1s steps(1) infinite;\n",
              "  }\n",
              "\n",
              "  @keyframes spin {\n",
              "    0% {\n",
              "      border-color: transparent;\n",
              "      border-bottom-color: var(--fill-color);\n",
              "      border-left-color: var(--fill-color);\n",
              "    }\n",
              "    20% {\n",
              "      border-color: transparent;\n",
              "      border-left-color: var(--fill-color);\n",
              "      border-top-color: var(--fill-color);\n",
              "    }\n",
              "    30% {\n",
              "      border-color: transparent;\n",
              "      border-left-color: var(--fill-color);\n",
              "      border-top-color: var(--fill-color);\n",
              "      border-right-color: var(--fill-color);\n",
              "    }\n",
              "    40% {\n",
              "      border-color: transparent;\n",
              "      border-right-color: var(--fill-color);\n",
              "      border-top-color: var(--fill-color);\n",
              "    }\n",
              "    60% {\n",
              "      border-color: transparent;\n",
              "      border-right-color: var(--fill-color);\n",
              "    }\n",
              "    80% {\n",
              "      border-color: transparent;\n",
              "      border-right-color: var(--fill-color);\n",
              "      border-bottom-color: var(--fill-color);\n",
              "    }\n",
              "    90% {\n",
              "      border-color: transparent;\n",
              "      border-bottom-color: var(--fill-color);\n",
              "    }\n",
              "  }\n",
              "</style>\n",
              "\n",
              "  <script>\n",
              "    async function quickchart(key) {\n",
              "      const quickchartButtonEl =\n",
              "        document.querySelector('#' + key + ' button');\n",
              "      quickchartButtonEl.disabled = true;  // To prevent multiple clicks.\n",
              "      quickchartButtonEl.classList.add('colab-df-spinner');\n",
              "      try {\n",
              "        const charts = await google.colab.kernel.invokeFunction(\n",
              "            'suggestCharts', [key], {});\n",
              "      } catch (error) {\n",
              "        console.error('Error during call to suggestCharts:', error);\n",
              "      }\n",
              "      quickchartButtonEl.classList.remove('colab-df-spinner');\n",
              "      quickchartButtonEl.classList.add('colab-df-quickchart-complete');\n",
              "    }\n",
              "    (() => {\n",
              "      let quickchartButtonEl =\n",
              "        document.querySelector('#df-9d8ce7e0-57ef-4d75-9d11-a23302e62c53 button');\n",
              "      quickchartButtonEl.style.display =\n",
              "        google.colab.kernel.accessAllowed ? 'block' : 'none';\n",
              "    })();\n",
              "  </script>\n",
              "</div>\n",
              "\n",
              "    </div>\n",
              "  </div>\n"
            ],
            "application/vnd.google.colaboratory.intrinsic+json": {
              "type": "dataframe",
              "summary": "{\n  \"name\": \"movies_no_dupes[movies_no_dupes['title']\",\n  \"rows\": 5,\n  \"fields\": [\n    {\n      \"column\": \"Comedy\",\n      \"properties\": {\n        \"dtype\": \"number\",\n        \"std\": 0,\n        \"min\": 1,\n        \"max\": 1,\n        \"num_unique_values\": 1,\n        \"samples\": [\n          1\n        ],\n        \"semantic_type\": \"\",\n        \"description\": \"\"\n      }\n    },\n    {\n      \"column\": \"Action\",\n      \"properties\": {\n        \"dtype\": \"number\",\n        \"std\": 0,\n        \"min\": 0,\n        \"max\": 1,\n        \"num_unique_values\": 2,\n        \"samples\": [\n          0\n        ],\n        \"semantic_type\": \"\",\n        \"description\": \"\"\n      }\n    },\n    {\n      \"column\": \"Horror\",\n      \"properties\": {\n        \"dtype\": \"number\",\n        \"std\": 0,\n        \"min\": 0,\n        \"max\": 1,\n        \"num_unique_values\": 2,\n        \"samples\": [\n          1\n        ],\n        \"semantic_type\": \"\",\n        \"description\": \"\"\n      }\n    },\n    {\n      \"column\": \"Sci-Fi\",\n      \"properties\": {\n        \"dtype\": \"number\",\n        \"std\": 0,\n        \"min\": 0,\n        \"max\": 1,\n        \"num_unique_values\": 2,\n        \"samples\": [\n          1\n        ],\n        \"semantic_type\": \"\",\n        \"description\": \"\"\n      }\n    },\n    {\n      \"column\": \"Adventure\",\n      \"properties\": {\n        \"dtype\": \"number\",\n        \"std\": 0,\n        \"min\": 0,\n        \"max\": 1,\n        \"num_unique_values\": 2,\n        \"samples\": [\n          1\n        ],\n        \"semantic_type\": \"\",\n        \"description\": \"\"\n      }\n    },\n    {\n      \"column\": \"Drama\",\n      \"properties\": {\n        \"dtype\": \"number\",\n        \"std\": 0,\n        \"min\": 0,\n        \"max\": 1,\n        \"num_unique_values\": 2,\n        \"samples\": [\n          0\n        ],\n        \"semantic_type\": \"\",\n        \"description\": \"\"\n      }\n    },\n    {\n      \"column\": \"genres\",\n      \"properties\": {\n        \"dtype\": \"string\",\n        \"num_unique_values\": 5,\n        \"samples\": [\n          \"action adventure comedy horror sci_fi\"\n        ],\n        \"semantic_type\": \"\",\n        \"description\": \"\"\n      }\n    }\n  ]\n}"
            }
          },
          "metadata": {},
          "execution_count": 48
        }
      ]
    },
    {
      "cell_type": "markdown",
      "source": [
        "Comparing user_id 5's genre preferences to the number of recommended movies with these genres, it is clear the movie recommendations are similar to the user's genre preferences.\n",
        "\n",
        "|genre|score|# Suggestions in Genre|Genre Rank|\n",
        "|:--:|:--:|:--:|:--:|\n",
        "|comedy|0.300|5 of 5|1|\n",
        "|action|0.176|4 of 5|2|\n",
        "|horror|0.141|2 of 5|3|\n",
        "|sci_fi|0.119|1 of 5|4|\n",
        "|adventure|0.111|2 of 5|5|\n",
        "|drama|0.094|1 of 5|7|\n",
        "\n",
        "\n",
        "Four of the 5 movies contain the user's top two genre preferences, and all movies fall within the top 7 genres preferred by the user."
      ],
      "metadata": {
        "id": "5V65UEn_AQ4l"
      }
    },
    {
      "cell_type": "markdown",
      "source": [
        "**user_id == 197**"
      ],
      "metadata": {
        "id": "QvXb7UWA-kb5"
      }
    },
    {
      "cell_type": "code",
      "source": [
        "# print recommended movies for user_id 197\n",
        "id197_content = content_based_recommendation(197, mr_no_dupes_df)\n",
        "id197_content"
      ],
      "metadata": {
        "colab": {
          "base_uri": "https://localhost:8080/"
        },
        "id": "vNI3DA6h-QmX",
        "outputId": "dded0c23-2949-4716-a1f4-c29f6fad3772"
      },
      "execution_count": 49,
      "outputs": [
        {
          "output_type": "execute_result",
          "data": {
            "text/plain": [
              "[\"Smilla's Sense of Snow (1997)\",\n",
              " 'Spawn (1997)',\n",
              " 'Twister (1996)',\n",
              " 'Tokyo Fist (1995)',\n",
              " 'Mirage (1995)']"
            ]
          },
          "metadata": {},
          "execution_count": 49
        }
      ]
    },
    {
      "cell_type": "code",
      "source": [
        "# create user_id 197's genre preferences\n",
        "user197_profile = user_profile_10(197)\n",
        "user197_genres = set(user197_profile.index)\n",
        "user197_profile"
      ],
      "metadata": {
        "colab": {
          "base_uri": "https://localhost:8080/",
          "height": 397
        },
        "id": "8cHCqLmWGGdB",
        "outputId": "ca6d271a-5848-4044-fbd8-3f5227ba6420"
      },
      "execution_count": 50,
      "outputs": [
        {
          "output_type": "execute_result",
          "data": {
            "text/plain": [
              "action       0.369636\n",
              "thriller     0.171526\n",
              "adventure    0.170156\n",
              "drama        0.156040\n",
              "sci_fi       0.128265\n",
              "romance      0.106102\n",
              "war          0.102121\n",
              "crime        0.101828\n",
              "comedy       0.085470\n",
              "western      0.036651\n",
              "dtype: float64"
            ],
            "text/html": [
              "<div>\n",
              "<style scoped>\n",
              "    .dataframe tbody tr th:only-of-type {\n",
              "        vertical-align: middle;\n",
              "    }\n",
              "\n",
              "    .dataframe tbody tr th {\n",
              "        vertical-align: top;\n",
              "    }\n",
              "\n",
              "    .dataframe thead th {\n",
              "        text-align: right;\n",
              "    }\n",
              "</style>\n",
              "<table border=\"1\" class=\"dataframe\">\n",
              "  <thead>\n",
              "    <tr style=\"text-align: right;\">\n",
              "      <th></th>\n",
              "      <th>0</th>\n",
              "    </tr>\n",
              "  </thead>\n",
              "  <tbody>\n",
              "    <tr>\n",
              "      <th>action</th>\n",
              "      <td>0.369636</td>\n",
              "    </tr>\n",
              "    <tr>\n",
              "      <th>thriller</th>\n",
              "      <td>0.171526</td>\n",
              "    </tr>\n",
              "    <tr>\n",
              "      <th>adventure</th>\n",
              "      <td>0.170156</td>\n",
              "    </tr>\n",
              "    <tr>\n",
              "      <th>drama</th>\n",
              "      <td>0.156040</td>\n",
              "    </tr>\n",
              "    <tr>\n",
              "      <th>sci_fi</th>\n",
              "      <td>0.128265</td>\n",
              "    </tr>\n",
              "    <tr>\n",
              "      <th>romance</th>\n",
              "      <td>0.106102</td>\n",
              "    </tr>\n",
              "    <tr>\n",
              "      <th>war</th>\n",
              "      <td>0.102121</td>\n",
              "    </tr>\n",
              "    <tr>\n",
              "      <th>crime</th>\n",
              "      <td>0.101828</td>\n",
              "    </tr>\n",
              "    <tr>\n",
              "      <th>comedy</th>\n",
              "      <td>0.085470</td>\n",
              "    </tr>\n",
              "    <tr>\n",
              "      <th>western</th>\n",
              "      <td>0.036651</td>\n",
              "    </tr>\n",
              "  </tbody>\n",
              "</table>\n",
              "</div><br><label><b>dtype:</b> float64</label>"
            ]
          },
          "metadata": {},
          "execution_count": 50
        }
      ]
    },
    {
      "cell_type": "code",
      "source": [
        "# print genres of the movies recommended for user_id 197\n",
        "recommended_genres = ['Action', 'Thriller', 'Adventure', 'Drama', 'Sci-Fi', 'genres']\n",
        "movies_no_dupes[movies_no_dupes['title'].isin(id197_content)][recommended_genres]"
      ],
      "metadata": {
        "colab": {
          "base_uri": "https://localhost:8080/",
          "height": 206
        },
        "outputId": "9fc12b8e-0c1f-40b3-cb7a-a900205bf9b2",
        "id": "o1P5ba_OGGdC"
      },
      "execution_count": 51,
      "outputs": [
        {
          "output_type": "execute_result",
          "data": {
            "text/plain": [
              "      Action  Thriller  Adventure  Drama  Sci-Fi  \\\n",
              "117        1         1          1      0       0   \n",
              "243        1         1          0      1       0   \n",
              "357        1         1          1      0       1   \n",
              "1612       1         0          0      1       0   \n",
              "1672       1         1          0      0       0   \n",
              "\n",
              "                                genres  \n",
              "117          action adventure thriller  \n",
              "243              action drama thriller  \n",
              "357   action adventure sci_fi thriller  \n",
              "1612                      action drama  \n",
              "1672                   action thriller  "
            ],
            "text/html": [
              "\n",
              "  <div id=\"df-060ad13e-3fd9-4ad5-9228-ad62595fa184\" class=\"colab-df-container\">\n",
              "    <div>\n",
              "<style scoped>\n",
              "    .dataframe tbody tr th:only-of-type {\n",
              "        vertical-align: middle;\n",
              "    }\n",
              "\n",
              "    .dataframe tbody tr th {\n",
              "        vertical-align: top;\n",
              "    }\n",
              "\n",
              "    .dataframe thead th {\n",
              "        text-align: right;\n",
              "    }\n",
              "</style>\n",
              "<table border=\"1\" class=\"dataframe\">\n",
              "  <thead>\n",
              "    <tr style=\"text-align: right;\">\n",
              "      <th></th>\n",
              "      <th>Action</th>\n",
              "      <th>Thriller</th>\n",
              "      <th>Adventure</th>\n",
              "      <th>Drama</th>\n",
              "      <th>Sci-Fi</th>\n",
              "      <th>genres</th>\n",
              "    </tr>\n",
              "  </thead>\n",
              "  <tbody>\n",
              "    <tr>\n",
              "      <th>117</th>\n",
              "      <td>1</td>\n",
              "      <td>1</td>\n",
              "      <td>1</td>\n",
              "      <td>0</td>\n",
              "      <td>0</td>\n",
              "      <td>action adventure thriller</td>\n",
              "    </tr>\n",
              "    <tr>\n",
              "      <th>243</th>\n",
              "      <td>1</td>\n",
              "      <td>1</td>\n",
              "      <td>0</td>\n",
              "      <td>1</td>\n",
              "      <td>0</td>\n",
              "      <td>action drama thriller</td>\n",
              "    </tr>\n",
              "    <tr>\n",
              "      <th>357</th>\n",
              "      <td>1</td>\n",
              "      <td>1</td>\n",
              "      <td>1</td>\n",
              "      <td>0</td>\n",
              "      <td>1</td>\n",
              "      <td>action adventure sci_fi thriller</td>\n",
              "    </tr>\n",
              "    <tr>\n",
              "      <th>1612</th>\n",
              "      <td>1</td>\n",
              "      <td>0</td>\n",
              "      <td>0</td>\n",
              "      <td>1</td>\n",
              "      <td>0</td>\n",
              "      <td>action drama</td>\n",
              "    </tr>\n",
              "    <tr>\n",
              "      <th>1672</th>\n",
              "      <td>1</td>\n",
              "      <td>1</td>\n",
              "      <td>0</td>\n",
              "      <td>0</td>\n",
              "      <td>0</td>\n",
              "      <td>action thriller</td>\n",
              "    </tr>\n",
              "  </tbody>\n",
              "</table>\n",
              "</div>\n",
              "    <div class=\"colab-df-buttons\">\n",
              "\n",
              "  <div class=\"colab-df-container\">\n",
              "    <button class=\"colab-df-convert\" onclick=\"convertToInteractive('df-060ad13e-3fd9-4ad5-9228-ad62595fa184')\"\n",
              "            title=\"Convert this dataframe to an interactive table.\"\n",
              "            style=\"display:none;\">\n",
              "\n",
              "  <svg xmlns=\"http://www.w3.org/2000/svg\" height=\"24px\" viewBox=\"0 -960 960 960\">\n",
              "    <path d=\"M120-120v-720h720v720H120Zm60-500h600v-160H180v160Zm220 220h160v-160H400v160Zm0 220h160v-160H400v160ZM180-400h160v-160H180v160Zm440 0h160v-160H620v160ZM180-180h160v-160H180v160Zm440 0h160v-160H620v160Z\"/>\n",
              "  </svg>\n",
              "    </button>\n",
              "\n",
              "  <style>\n",
              "    .colab-df-container {\n",
              "      display:flex;\n",
              "      gap: 12px;\n",
              "    }\n",
              "\n",
              "    .colab-df-convert {\n",
              "      background-color: #E8F0FE;\n",
              "      border: none;\n",
              "      border-radius: 50%;\n",
              "      cursor: pointer;\n",
              "      display: none;\n",
              "      fill: #1967D2;\n",
              "      height: 32px;\n",
              "      padding: 0 0 0 0;\n",
              "      width: 32px;\n",
              "    }\n",
              "\n",
              "    .colab-df-convert:hover {\n",
              "      background-color: #E2EBFA;\n",
              "      box-shadow: 0px 1px 2px rgba(60, 64, 67, 0.3), 0px 1px 3px 1px rgba(60, 64, 67, 0.15);\n",
              "      fill: #174EA6;\n",
              "    }\n",
              "\n",
              "    .colab-df-buttons div {\n",
              "      margin-bottom: 4px;\n",
              "    }\n",
              "\n",
              "    [theme=dark] .colab-df-convert {\n",
              "      background-color: #3B4455;\n",
              "      fill: #D2E3FC;\n",
              "    }\n",
              "\n",
              "    [theme=dark] .colab-df-convert:hover {\n",
              "      background-color: #434B5C;\n",
              "      box-shadow: 0px 1px 3px 1px rgba(0, 0, 0, 0.15);\n",
              "      filter: drop-shadow(0px 1px 2px rgba(0, 0, 0, 0.3));\n",
              "      fill: #FFFFFF;\n",
              "    }\n",
              "  </style>\n",
              "\n",
              "    <script>\n",
              "      const buttonEl =\n",
              "        document.querySelector('#df-060ad13e-3fd9-4ad5-9228-ad62595fa184 button.colab-df-convert');\n",
              "      buttonEl.style.display =\n",
              "        google.colab.kernel.accessAllowed ? 'block' : 'none';\n",
              "\n",
              "      async function convertToInteractive(key) {\n",
              "        const element = document.querySelector('#df-060ad13e-3fd9-4ad5-9228-ad62595fa184');\n",
              "        const dataTable =\n",
              "          await google.colab.kernel.invokeFunction('convertToInteractive',\n",
              "                                                    [key], {});\n",
              "        if (!dataTable) return;\n",
              "\n",
              "        const docLinkHtml = 'Like what you see? Visit the ' +\n",
              "          '<a target=\"_blank\" href=https://colab.research.google.com/notebooks/data_table.ipynb>data table notebook</a>'\n",
              "          + ' to learn more about interactive tables.';\n",
              "        element.innerHTML = '';\n",
              "        dataTable['output_type'] = 'display_data';\n",
              "        await google.colab.output.renderOutput(dataTable, element);\n",
              "        const docLink = document.createElement('div');\n",
              "        docLink.innerHTML = docLinkHtml;\n",
              "        element.appendChild(docLink);\n",
              "      }\n",
              "    </script>\n",
              "  </div>\n",
              "\n",
              "\n",
              "<div id=\"df-4e7d8a2c-d8b9-4f0e-9126-611c0bfeea00\">\n",
              "  <button class=\"colab-df-quickchart\" onclick=\"quickchart('df-4e7d8a2c-d8b9-4f0e-9126-611c0bfeea00')\"\n",
              "            title=\"Suggest charts\"\n",
              "            style=\"display:none;\">\n",
              "\n",
              "<svg xmlns=\"http://www.w3.org/2000/svg\" height=\"24px\"viewBox=\"0 0 24 24\"\n",
              "     width=\"24px\">\n",
              "    <g>\n",
              "        <path d=\"M19 3H5c-1.1 0-2 .9-2 2v14c0 1.1.9 2 2 2h14c1.1 0 2-.9 2-2V5c0-1.1-.9-2-2-2zM9 17H7v-7h2v7zm4 0h-2V7h2v10zm4 0h-2v-4h2v4z\"/>\n",
              "    </g>\n",
              "</svg>\n",
              "  </button>\n",
              "\n",
              "<style>\n",
              "  .colab-df-quickchart {\n",
              "      --bg-color: #E8F0FE;\n",
              "      --fill-color: #1967D2;\n",
              "      --hover-bg-color: #E2EBFA;\n",
              "      --hover-fill-color: #174EA6;\n",
              "      --disabled-fill-color: #AAA;\n",
              "      --disabled-bg-color: #DDD;\n",
              "  }\n",
              "\n",
              "  [theme=dark] .colab-df-quickchart {\n",
              "      --bg-color: #3B4455;\n",
              "      --fill-color: #D2E3FC;\n",
              "      --hover-bg-color: #434B5C;\n",
              "      --hover-fill-color: #FFFFFF;\n",
              "      --disabled-bg-color: #3B4455;\n",
              "      --disabled-fill-color: #666;\n",
              "  }\n",
              "\n",
              "  .colab-df-quickchart {\n",
              "    background-color: var(--bg-color);\n",
              "    border: none;\n",
              "    border-radius: 50%;\n",
              "    cursor: pointer;\n",
              "    display: none;\n",
              "    fill: var(--fill-color);\n",
              "    height: 32px;\n",
              "    padding: 0;\n",
              "    width: 32px;\n",
              "  }\n",
              "\n",
              "  .colab-df-quickchart:hover {\n",
              "    background-color: var(--hover-bg-color);\n",
              "    box-shadow: 0 1px 2px rgba(60, 64, 67, 0.3), 0 1px 3px 1px rgba(60, 64, 67, 0.15);\n",
              "    fill: var(--button-hover-fill-color);\n",
              "  }\n",
              "\n",
              "  .colab-df-quickchart-complete:disabled,\n",
              "  .colab-df-quickchart-complete:disabled:hover {\n",
              "    background-color: var(--disabled-bg-color);\n",
              "    fill: var(--disabled-fill-color);\n",
              "    box-shadow: none;\n",
              "  }\n",
              "\n",
              "  .colab-df-spinner {\n",
              "    border: 2px solid var(--fill-color);\n",
              "    border-color: transparent;\n",
              "    border-bottom-color: var(--fill-color);\n",
              "    animation:\n",
              "      spin 1s steps(1) infinite;\n",
              "  }\n",
              "\n",
              "  @keyframes spin {\n",
              "    0% {\n",
              "      border-color: transparent;\n",
              "      border-bottom-color: var(--fill-color);\n",
              "      border-left-color: var(--fill-color);\n",
              "    }\n",
              "    20% {\n",
              "      border-color: transparent;\n",
              "      border-left-color: var(--fill-color);\n",
              "      border-top-color: var(--fill-color);\n",
              "    }\n",
              "    30% {\n",
              "      border-color: transparent;\n",
              "      border-left-color: var(--fill-color);\n",
              "      border-top-color: var(--fill-color);\n",
              "      border-right-color: var(--fill-color);\n",
              "    }\n",
              "    40% {\n",
              "      border-color: transparent;\n",
              "      border-right-color: var(--fill-color);\n",
              "      border-top-color: var(--fill-color);\n",
              "    }\n",
              "    60% {\n",
              "      border-color: transparent;\n",
              "      border-right-color: var(--fill-color);\n",
              "    }\n",
              "    80% {\n",
              "      border-color: transparent;\n",
              "      border-right-color: var(--fill-color);\n",
              "      border-bottom-color: var(--fill-color);\n",
              "    }\n",
              "    90% {\n",
              "      border-color: transparent;\n",
              "      border-bottom-color: var(--fill-color);\n",
              "    }\n",
              "  }\n",
              "</style>\n",
              "\n",
              "  <script>\n",
              "    async function quickchart(key) {\n",
              "      const quickchartButtonEl =\n",
              "        document.querySelector('#' + key + ' button');\n",
              "      quickchartButtonEl.disabled = true;  // To prevent multiple clicks.\n",
              "      quickchartButtonEl.classList.add('colab-df-spinner');\n",
              "      try {\n",
              "        const charts = await google.colab.kernel.invokeFunction(\n",
              "            'suggestCharts', [key], {});\n",
              "      } catch (error) {\n",
              "        console.error('Error during call to suggestCharts:', error);\n",
              "      }\n",
              "      quickchartButtonEl.classList.remove('colab-df-spinner');\n",
              "      quickchartButtonEl.classList.add('colab-df-quickchart-complete');\n",
              "    }\n",
              "    (() => {\n",
              "      let quickchartButtonEl =\n",
              "        document.querySelector('#df-4e7d8a2c-d8b9-4f0e-9126-611c0bfeea00 button');\n",
              "      quickchartButtonEl.style.display =\n",
              "        google.colab.kernel.accessAllowed ? 'block' : 'none';\n",
              "    })();\n",
              "  </script>\n",
              "</div>\n",
              "\n",
              "    </div>\n",
              "  </div>\n"
            ],
            "application/vnd.google.colaboratory.intrinsic+json": {
              "type": "dataframe",
              "summary": "{\n  \"name\": \"movies_no_dupes[movies_no_dupes['title']\",\n  \"rows\": 5,\n  \"fields\": [\n    {\n      \"column\": \"Action\",\n      \"properties\": {\n        \"dtype\": \"number\",\n        \"std\": 0,\n        \"min\": 1,\n        \"max\": 1,\n        \"num_unique_values\": 1,\n        \"samples\": [\n          1\n        ],\n        \"semantic_type\": \"\",\n        \"description\": \"\"\n      }\n    },\n    {\n      \"column\": \"Thriller\",\n      \"properties\": {\n        \"dtype\": \"number\",\n        \"std\": 0,\n        \"min\": 0,\n        \"max\": 1,\n        \"num_unique_values\": 2,\n        \"samples\": [\n          0\n        ],\n        \"semantic_type\": \"\",\n        \"description\": \"\"\n      }\n    },\n    {\n      \"column\": \"Adventure\",\n      \"properties\": {\n        \"dtype\": \"number\",\n        \"std\": 0,\n        \"min\": 0,\n        \"max\": 1,\n        \"num_unique_values\": 2,\n        \"samples\": [\n          0\n        ],\n        \"semantic_type\": \"\",\n        \"description\": \"\"\n      }\n    },\n    {\n      \"column\": \"Drama\",\n      \"properties\": {\n        \"dtype\": \"number\",\n        \"std\": 0,\n        \"min\": 0,\n        \"max\": 1,\n        \"num_unique_values\": 2,\n        \"samples\": [\n          1\n        ],\n        \"semantic_type\": \"\",\n        \"description\": \"\"\n      }\n    },\n    {\n      \"column\": \"Sci-Fi\",\n      \"properties\": {\n        \"dtype\": \"number\",\n        \"std\": 0,\n        \"min\": 0,\n        \"max\": 1,\n        \"num_unique_values\": 2,\n        \"samples\": [\n          1\n        ],\n        \"semantic_type\": \"\",\n        \"description\": \"\"\n      }\n    },\n    {\n      \"column\": \"genres\",\n      \"properties\": {\n        \"dtype\": \"string\",\n        \"num_unique_values\": 5,\n        \"samples\": [\n          \"action drama thriller\"\n        ],\n        \"semantic_type\": \"\",\n        \"description\": \"\"\n      }\n    }\n  ]\n}"
            }
          },
          "metadata": {},
          "execution_count": 51
        }
      ]
    },
    {
      "cell_type": "markdown",
      "source": [
        "Comparing user_id 197's genre preferences to the number of recommended movies with these genres, it is clear the movie recommendations are similar to the user's genre preferences.\n",
        "\n",
        "|genre|preference|# Suggestions in Genre|Genre Rank|\n",
        "|:--:|:--:|:--:|:--:|\n",
        "|action|0.370|5 of 5|1|\n",
        "|thriller|0.172|4 of 5|2|\n",
        "|adventure|0.170|2 of 5|3|\n",
        "|drama|0.156|2 of 5|4|\n",
        "|sci_fi|0.128|1 of 5|5|\n",
        "\n",
        "\n",
        "Four of the 5 movies contain the user's top two genre preferences, and all movies fall within the top 5 genres preferred by the user."
      ],
      "metadata": {
        "id": "z9nNwinoGGdD"
      }
    },
    {
      "cell_type": "markdown",
      "source": [
        "## Collaborative Filtering Recommender System"
      ],
      "metadata": {
        "id": "IzYCa7ofb1nT"
      }
    },
    {
      "cell_type": "markdown",
      "source": [
        "It will be slightly more tricky to determine how well the collaborative filtering recommender system performs. The collaborative recommender will be used against the same two user_id's used with the content based recommender system.\n",
        "\n",
        "The resulting recommended movies will be reviewed for their related movie genres. In addition, the 5 closest neighbors will be identified and their user profiles will be reviewed. If the user preferences match closesly with the genres preferred by both the user's tested and their neighbors, the recommender system is likely useful."
      ],
      "metadata": {
        "id": "qsl6g3Hdcik8"
      }
    },
    {
      "cell_type": "markdown",
      "source": [
        "**user_id == 5**"
      ],
      "metadata": {
        "id": "YGJyQmAAdFe5"
      }
    },
    {
      "cell_type": "code",
      "source": [
        "# recommendations for user_id 5\n",
        "id5_colab = collaborative_filtering_recommendation(5, mr_no_dupes_df)\n",
        "id5_colab"
      ],
      "metadata": {
        "colab": {
          "base_uri": "https://localhost:8080/"
        },
        "id": "H8ajOPPGb6TR",
        "outputId": "78b79655-7fbd-431a-c8c1-8ffd75f9d6f9"
      },
      "execution_count": 52,
      "outputs": [
        {
          "output_type": "execute_result",
          "data": {
            "text/plain": [
              "['Terminator 2: Judgment Day (1991)',\n",
              " 'Godfather, The (1972)',\n",
              " 'Dr. Strangelove or: How I Learned to Stop Worrying and Love the Bomb (1963)',\n",
              " 'L.A. Confidential (1997)',\n",
              " 'Chasing Amy (1997)']"
            ]
          },
          "metadata": {},
          "execution_count": 52
        }
      ]
    },
    {
      "cell_type": "code",
      "source": [
        "# print genres of the movies recommended for user_id 5\n",
        "recommended_genres = ['Action', 'Sci-Fi', 'Drama', 'Thriller', 'Romance', 'Crime', 'Mystery', 'Film-Noir', 'War', 'genres']\n",
        "movies_no_dupes[movies_no_dupes['title'].isin(id5_colab)][recommended_genres]"
      ],
      "metadata": {
        "colab": {
          "base_uri": "https://localhost:8080/",
          "height": 241
        },
        "id": "h9SO9gJeczYf",
        "outputId": "11153f98-03c6-4352-a919-441807f33389"
      },
      "execution_count": 53,
      "outputs": [
        {
          "output_type": "execute_result",
          "data": {
            "text/plain": [
              "     Action  Sci-Fi  Drama  Thriller  Romance  Crime  Mystery  Film-Noir  War  \\\n",
              "95        1       1      0         1        0      0        0          0    0   \n",
              "126       1       0      1         0        0      1        0          0    0   \n",
              "245       0       0      1         0        1      0        0          0    0   \n",
              "301       0       0      0         1        0      1        1          1    0   \n",
              "473       0       1      0         0        0      0        0          0    1   \n",
              "\n",
              "                               genres  \n",
              "95             action sci_fi thriller  \n",
              "126                action crime drama  \n",
              "245                     drama romance  \n",
              "301  crime film_noir mystery thriller  \n",
              "473                        sci_fi war  "
            ],
            "text/html": [
              "\n",
              "  <div id=\"df-4f2db774-2e8f-464e-9770-acae9748fcce\" class=\"colab-df-container\">\n",
              "    <div>\n",
              "<style scoped>\n",
              "    .dataframe tbody tr th:only-of-type {\n",
              "        vertical-align: middle;\n",
              "    }\n",
              "\n",
              "    .dataframe tbody tr th {\n",
              "        vertical-align: top;\n",
              "    }\n",
              "\n",
              "    .dataframe thead th {\n",
              "        text-align: right;\n",
              "    }\n",
              "</style>\n",
              "<table border=\"1\" class=\"dataframe\">\n",
              "  <thead>\n",
              "    <tr style=\"text-align: right;\">\n",
              "      <th></th>\n",
              "      <th>Action</th>\n",
              "      <th>Sci-Fi</th>\n",
              "      <th>Drama</th>\n",
              "      <th>Thriller</th>\n",
              "      <th>Romance</th>\n",
              "      <th>Crime</th>\n",
              "      <th>Mystery</th>\n",
              "      <th>Film-Noir</th>\n",
              "      <th>War</th>\n",
              "      <th>genres</th>\n",
              "    </tr>\n",
              "  </thead>\n",
              "  <tbody>\n",
              "    <tr>\n",
              "      <th>95</th>\n",
              "      <td>1</td>\n",
              "      <td>1</td>\n",
              "      <td>0</td>\n",
              "      <td>1</td>\n",
              "      <td>0</td>\n",
              "      <td>0</td>\n",
              "      <td>0</td>\n",
              "      <td>0</td>\n",
              "      <td>0</td>\n",
              "      <td>action sci_fi thriller</td>\n",
              "    </tr>\n",
              "    <tr>\n",
              "      <th>126</th>\n",
              "      <td>1</td>\n",
              "      <td>0</td>\n",
              "      <td>1</td>\n",
              "      <td>0</td>\n",
              "      <td>0</td>\n",
              "      <td>1</td>\n",
              "      <td>0</td>\n",
              "      <td>0</td>\n",
              "      <td>0</td>\n",
              "      <td>action crime drama</td>\n",
              "    </tr>\n",
              "    <tr>\n",
              "      <th>245</th>\n",
              "      <td>0</td>\n",
              "      <td>0</td>\n",
              "      <td>1</td>\n",
              "      <td>0</td>\n",
              "      <td>1</td>\n",
              "      <td>0</td>\n",
              "      <td>0</td>\n",
              "      <td>0</td>\n",
              "      <td>0</td>\n",
              "      <td>drama romance</td>\n",
              "    </tr>\n",
              "    <tr>\n",
              "      <th>301</th>\n",
              "      <td>0</td>\n",
              "      <td>0</td>\n",
              "      <td>0</td>\n",
              "      <td>1</td>\n",
              "      <td>0</td>\n",
              "      <td>1</td>\n",
              "      <td>1</td>\n",
              "      <td>1</td>\n",
              "      <td>0</td>\n",
              "      <td>crime film_noir mystery thriller</td>\n",
              "    </tr>\n",
              "    <tr>\n",
              "      <th>473</th>\n",
              "      <td>0</td>\n",
              "      <td>1</td>\n",
              "      <td>0</td>\n",
              "      <td>0</td>\n",
              "      <td>0</td>\n",
              "      <td>0</td>\n",
              "      <td>0</td>\n",
              "      <td>0</td>\n",
              "      <td>1</td>\n",
              "      <td>sci_fi war</td>\n",
              "    </tr>\n",
              "  </tbody>\n",
              "</table>\n",
              "</div>\n",
              "    <div class=\"colab-df-buttons\">\n",
              "\n",
              "  <div class=\"colab-df-container\">\n",
              "    <button class=\"colab-df-convert\" onclick=\"convertToInteractive('df-4f2db774-2e8f-464e-9770-acae9748fcce')\"\n",
              "            title=\"Convert this dataframe to an interactive table.\"\n",
              "            style=\"display:none;\">\n",
              "\n",
              "  <svg xmlns=\"http://www.w3.org/2000/svg\" height=\"24px\" viewBox=\"0 -960 960 960\">\n",
              "    <path d=\"M120-120v-720h720v720H120Zm60-500h600v-160H180v160Zm220 220h160v-160H400v160Zm0 220h160v-160H400v160ZM180-400h160v-160H180v160Zm440 0h160v-160H620v160ZM180-180h160v-160H180v160Zm440 0h160v-160H620v160Z\"/>\n",
              "  </svg>\n",
              "    </button>\n",
              "\n",
              "  <style>\n",
              "    .colab-df-container {\n",
              "      display:flex;\n",
              "      gap: 12px;\n",
              "    }\n",
              "\n",
              "    .colab-df-convert {\n",
              "      background-color: #E8F0FE;\n",
              "      border: none;\n",
              "      border-radius: 50%;\n",
              "      cursor: pointer;\n",
              "      display: none;\n",
              "      fill: #1967D2;\n",
              "      height: 32px;\n",
              "      padding: 0 0 0 0;\n",
              "      width: 32px;\n",
              "    }\n",
              "\n",
              "    .colab-df-convert:hover {\n",
              "      background-color: #E2EBFA;\n",
              "      box-shadow: 0px 1px 2px rgba(60, 64, 67, 0.3), 0px 1px 3px 1px rgba(60, 64, 67, 0.15);\n",
              "      fill: #174EA6;\n",
              "    }\n",
              "\n",
              "    .colab-df-buttons div {\n",
              "      margin-bottom: 4px;\n",
              "    }\n",
              "\n",
              "    [theme=dark] .colab-df-convert {\n",
              "      background-color: #3B4455;\n",
              "      fill: #D2E3FC;\n",
              "    }\n",
              "\n",
              "    [theme=dark] .colab-df-convert:hover {\n",
              "      background-color: #434B5C;\n",
              "      box-shadow: 0px 1px 3px 1px rgba(0, 0, 0, 0.15);\n",
              "      filter: drop-shadow(0px 1px 2px rgba(0, 0, 0, 0.3));\n",
              "      fill: #FFFFFF;\n",
              "    }\n",
              "  </style>\n",
              "\n",
              "    <script>\n",
              "      const buttonEl =\n",
              "        document.querySelector('#df-4f2db774-2e8f-464e-9770-acae9748fcce button.colab-df-convert');\n",
              "      buttonEl.style.display =\n",
              "        google.colab.kernel.accessAllowed ? 'block' : 'none';\n",
              "\n",
              "      async function convertToInteractive(key) {\n",
              "        const element = document.querySelector('#df-4f2db774-2e8f-464e-9770-acae9748fcce');\n",
              "        const dataTable =\n",
              "          await google.colab.kernel.invokeFunction('convertToInteractive',\n",
              "                                                    [key], {});\n",
              "        if (!dataTable) return;\n",
              "\n",
              "        const docLinkHtml = 'Like what you see? Visit the ' +\n",
              "          '<a target=\"_blank\" href=https://colab.research.google.com/notebooks/data_table.ipynb>data table notebook</a>'\n",
              "          + ' to learn more about interactive tables.';\n",
              "        element.innerHTML = '';\n",
              "        dataTable['output_type'] = 'display_data';\n",
              "        await google.colab.output.renderOutput(dataTable, element);\n",
              "        const docLink = document.createElement('div');\n",
              "        docLink.innerHTML = docLinkHtml;\n",
              "        element.appendChild(docLink);\n",
              "      }\n",
              "    </script>\n",
              "  </div>\n",
              "\n",
              "\n",
              "<div id=\"df-c620178f-7f43-43c1-8cd5-6fd5a3af9064\">\n",
              "  <button class=\"colab-df-quickchart\" onclick=\"quickchart('df-c620178f-7f43-43c1-8cd5-6fd5a3af9064')\"\n",
              "            title=\"Suggest charts\"\n",
              "            style=\"display:none;\">\n",
              "\n",
              "<svg xmlns=\"http://www.w3.org/2000/svg\" height=\"24px\"viewBox=\"0 0 24 24\"\n",
              "     width=\"24px\">\n",
              "    <g>\n",
              "        <path d=\"M19 3H5c-1.1 0-2 .9-2 2v14c0 1.1.9 2 2 2h14c1.1 0 2-.9 2-2V5c0-1.1-.9-2-2-2zM9 17H7v-7h2v7zm4 0h-2V7h2v10zm4 0h-2v-4h2v4z\"/>\n",
              "    </g>\n",
              "</svg>\n",
              "  </button>\n",
              "\n",
              "<style>\n",
              "  .colab-df-quickchart {\n",
              "      --bg-color: #E8F0FE;\n",
              "      --fill-color: #1967D2;\n",
              "      --hover-bg-color: #E2EBFA;\n",
              "      --hover-fill-color: #174EA6;\n",
              "      --disabled-fill-color: #AAA;\n",
              "      --disabled-bg-color: #DDD;\n",
              "  }\n",
              "\n",
              "  [theme=dark] .colab-df-quickchart {\n",
              "      --bg-color: #3B4455;\n",
              "      --fill-color: #D2E3FC;\n",
              "      --hover-bg-color: #434B5C;\n",
              "      --hover-fill-color: #FFFFFF;\n",
              "      --disabled-bg-color: #3B4455;\n",
              "      --disabled-fill-color: #666;\n",
              "  }\n",
              "\n",
              "  .colab-df-quickchart {\n",
              "    background-color: var(--bg-color);\n",
              "    border: none;\n",
              "    border-radius: 50%;\n",
              "    cursor: pointer;\n",
              "    display: none;\n",
              "    fill: var(--fill-color);\n",
              "    height: 32px;\n",
              "    padding: 0;\n",
              "    width: 32px;\n",
              "  }\n",
              "\n",
              "  .colab-df-quickchart:hover {\n",
              "    background-color: var(--hover-bg-color);\n",
              "    box-shadow: 0 1px 2px rgba(60, 64, 67, 0.3), 0 1px 3px 1px rgba(60, 64, 67, 0.15);\n",
              "    fill: var(--button-hover-fill-color);\n",
              "  }\n",
              "\n",
              "  .colab-df-quickchart-complete:disabled,\n",
              "  .colab-df-quickchart-complete:disabled:hover {\n",
              "    background-color: var(--disabled-bg-color);\n",
              "    fill: var(--disabled-fill-color);\n",
              "    box-shadow: none;\n",
              "  }\n",
              "\n",
              "  .colab-df-spinner {\n",
              "    border: 2px solid var(--fill-color);\n",
              "    border-color: transparent;\n",
              "    border-bottom-color: var(--fill-color);\n",
              "    animation:\n",
              "      spin 1s steps(1) infinite;\n",
              "  }\n",
              "\n",
              "  @keyframes spin {\n",
              "    0% {\n",
              "      border-color: transparent;\n",
              "      border-bottom-color: var(--fill-color);\n",
              "      border-left-color: var(--fill-color);\n",
              "    }\n",
              "    20% {\n",
              "      border-color: transparent;\n",
              "      border-left-color: var(--fill-color);\n",
              "      border-top-color: var(--fill-color);\n",
              "    }\n",
              "    30% {\n",
              "      border-color: transparent;\n",
              "      border-left-color: var(--fill-color);\n",
              "      border-top-color: var(--fill-color);\n",
              "      border-right-color: var(--fill-color);\n",
              "    }\n",
              "    40% {\n",
              "      border-color: transparent;\n",
              "      border-right-color: var(--fill-color);\n",
              "      border-top-color: var(--fill-color);\n",
              "    }\n",
              "    60% {\n",
              "      border-color: transparent;\n",
              "      border-right-color: var(--fill-color);\n",
              "    }\n",
              "    80% {\n",
              "      border-color: transparent;\n",
              "      border-right-color: var(--fill-color);\n",
              "      border-bottom-color: var(--fill-color);\n",
              "    }\n",
              "    90% {\n",
              "      border-color: transparent;\n",
              "      border-bottom-color: var(--fill-color);\n",
              "    }\n",
              "  }\n",
              "</style>\n",
              "\n",
              "  <script>\n",
              "    async function quickchart(key) {\n",
              "      const quickchartButtonEl =\n",
              "        document.querySelector('#' + key + ' button');\n",
              "      quickchartButtonEl.disabled = true;  // To prevent multiple clicks.\n",
              "      quickchartButtonEl.classList.add('colab-df-spinner');\n",
              "      try {\n",
              "        const charts = await google.colab.kernel.invokeFunction(\n",
              "            'suggestCharts', [key], {});\n",
              "      } catch (error) {\n",
              "        console.error('Error during call to suggestCharts:', error);\n",
              "      }\n",
              "      quickchartButtonEl.classList.remove('colab-df-spinner');\n",
              "      quickchartButtonEl.classList.add('colab-df-quickchart-complete');\n",
              "    }\n",
              "    (() => {\n",
              "      let quickchartButtonEl =\n",
              "        document.querySelector('#df-c620178f-7f43-43c1-8cd5-6fd5a3af9064 button');\n",
              "      quickchartButtonEl.style.display =\n",
              "        google.colab.kernel.accessAllowed ? 'block' : 'none';\n",
              "    })();\n",
              "  </script>\n",
              "</div>\n",
              "\n",
              "    </div>\n",
              "  </div>\n"
            ],
            "application/vnd.google.colaboratory.intrinsic+json": {
              "type": "dataframe",
              "summary": "{\n  \"name\": \"movies_no_dupes[movies_no_dupes['title']\",\n  \"rows\": 5,\n  \"fields\": [\n    {\n      \"column\": \"Action\",\n      \"properties\": {\n        \"dtype\": \"number\",\n        \"std\": 0,\n        \"min\": 0,\n        \"max\": 1,\n        \"num_unique_values\": 2,\n        \"samples\": [\n          0,\n          1\n        ],\n        \"semantic_type\": \"\",\n        \"description\": \"\"\n      }\n    },\n    {\n      \"column\": \"Sci-Fi\",\n      \"properties\": {\n        \"dtype\": \"number\",\n        \"std\": 0,\n        \"min\": 0,\n        \"max\": 1,\n        \"num_unique_values\": 2,\n        \"samples\": [\n          0,\n          1\n        ],\n        \"semantic_type\": \"\",\n        \"description\": \"\"\n      }\n    },\n    {\n      \"column\": \"Drama\",\n      \"properties\": {\n        \"dtype\": \"number\",\n        \"std\": 0,\n        \"min\": 0,\n        \"max\": 1,\n        \"num_unique_values\": 2,\n        \"samples\": [\n          1,\n          0\n        ],\n        \"semantic_type\": \"\",\n        \"description\": \"\"\n      }\n    },\n    {\n      \"column\": \"Thriller\",\n      \"properties\": {\n        \"dtype\": \"number\",\n        \"std\": 0,\n        \"min\": 0,\n        \"max\": 1,\n        \"num_unique_values\": 2,\n        \"samples\": [\n          0,\n          1\n        ],\n        \"semantic_type\": \"\",\n        \"description\": \"\"\n      }\n    },\n    {\n      \"column\": \"Romance\",\n      \"properties\": {\n        \"dtype\": \"number\",\n        \"std\": 0,\n        \"min\": 0,\n        \"max\": 1,\n        \"num_unique_values\": 2,\n        \"samples\": [\n          1,\n          0\n        ],\n        \"semantic_type\": \"\",\n        \"description\": \"\"\n      }\n    },\n    {\n      \"column\": \"Crime\",\n      \"properties\": {\n        \"dtype\": \"number\",\n        \"std\": 0,\n        \"min\": 0,\n        \"max\": 1,\n        \"num_unique_values\": 2,\n        \"samples\": [\n          1,\n          0\n        ],\n        \"semantic_type\": \"\",\n        \"description\": \"\"\n      }\n    },\n    {\n      \"column\": \"Mystery\",\n      \"properties\": {\n        \"dtype\": \"number\",\n        \"std\": 0,\n        \"min\": 0,\n        \"max\": 1,\n        \"num_unique_values\": 2,\n        \"samples\": [\n          1,\n          0\n        ],\n        \"semantic_type\": \"\",\n        \"description\": \"\"\n      }\n    },\n    {\n      \"column\": \"Film-Noir\",\n      \"properties\": {\n        \"dtype\": \"number\",\n        \"std\": 0,\n        \"min\": 0,\n        \"max\": 1,\n        \"num_unique_values\": 2,\n        \"samples\": [\n          1,\n          0\n        ],\n        \"semantic_type\": \"\",\n        \"description\": \"\"\n      }\n    },\n    {\n      \"column\": \"War\",\n      \"properties\": {\n        \"dtype\": \"number\",\n        \"std\": 0,\n        \"min\": 0,\n        \"max\": 1,\n        \"num_unique_values\": 2,\n        \"samples\": [\n          1,\n          0\n        ],\n        \"semantic_type\": \"\",\n        \"description\": \"\"\n      }\n    },\n    {\n      \"column\": \"genres\",\n      \"properties\": {\n        \"dtype\": \"string\",\n        \"num_unique_values\": 5,\n        \"samples\": [\n          \"action crime drama\",\n          \"sci_fi war\"\n        ],\n        \"semantic_type\": \"\",\n        \"description\": \"\"\n      }\n    }\n  ]\n}"
            }
          },
          "metadata": {},
          "execution_count": 53
        }
      ]
    },
    {
      "cell_type": "markdown",
      "source": [
        "There are several more genres covered in the five suggested movies, and each of the genres are represented only once or twice among all the movies. This list of movies is more spread out in terms of genre categories.\n",
        "\n",
        "When comparing the 9 genres covered in the collaborative filtering recommendations versus the user's profile references, there are only 5 genres that match user_id 5's top 10 genre preferences.\n",
        "\n",
        "Now we'll look at the preferences of the nearest neighbors."
      ],
      "metadata": {
        "id": "p8d-4XePvLPF"
      }
    },
    {
      "cell_type": "code",
      "source": [
        "# find nearest neighbors to user_id 5\n",
        "# Create the user-item matrix\n",
        "user_ratings_pivot = mr_no_dupes_df.pivot(index='user_id', columns='title', values='rating')\n",
        "\n",
        "# Fill missing values with 0 (indicating no rating)\n",
        "avg_ratings = user_ratings_pivot.mean(axis=1)\n",
        "user_ratings_pivot = user_ratings_pivot.sub(avg_ratings, axis=0).fillna(0)\n",
        "\n",
        "# Calculate user-user similarity matrix using cosine similarity\n",
        "similarities = cosine_similarity(user_ratings_pivot)\n",
        "similarities_df = pd.DataFrame(similarities, index=user_ratings_pivot.index, columns=user_ratings_pivot.index)\n",
        "\n",
        "# Get the similarity scores of the target user with all other users\n",
        "target_user_similarities = similarities_df.loc[5]\n",
        "\n",
        "# Find the top n_neighbors most similar users (excluding the target user)\n",
        "sorted_target_sims = target_user_similarities.sort_values(ascending=False)\n",
        "user5_nearest_neighbors = list(sorted_target_sims.index[1:4])"
      ],
      "metadata": {
        "id": "vnHf12NWSoVF"
      },
      "execution_count": 54,
      "outputs": []
    },
    {
      "cell_type": "code",
      "source": [
        "user5_nearest_neighbors"
      ],
      "metadata": {
        "colab": {
          "base_uri": "https://localhost:8080/"
        },
        "id": "g4sijdZrTV26",
        "outputId": "77100597-96e2-4e9e-f698-8ad17ccfe6e6"
      },
      "execution_count": 55,
      "outputs": [
        {
          "output_type": "execute_result",
          "data": {
            "text/plain": [
              "[268, 497, 276]"
            ]
          },
          "metadata": {},
          "execution_count": 55
        }
      ]
    },
    {
      "cell_type": "code",
      "source": [
        "# create user profiles for each nearest neighbor and print their top ten prefereces\n",
        "for user in user5_nearest_neighbors:\n",
        "  print('user_id', user)\n",
        "  current_user = user_profile_10(user)\n",
        "  print(current_user, '\\n')\n",
        "  user5_genres.update(current_user.index)"
      ],
      "metadata": {
        "colab": {
          "base_uri": "https://localhost:8080/"
        },
        "id": "maTfZ7k7TgDH",
        "outputId": "bf0edde2-44af-4ae4-e458-1eec2abec3b6"
      },
      "execution_count": 56,
      "outputs": [
        {
          "output_type": "stream",
          "name": "stdout",
          "text": [
            "user_id 268\n",
            "comedy       0.250018\n",
            "action       0.201911\n",
            "thriller     0.161098\n",
            "drama        0.132683\n",
            "sci_fi       0.100697\n",
            "adventure    0.100193\n",
            "romance      0.083379\n",
            "horror       0.066552\n",
            "crime        0.061368\n",
            "war          0.044236\n",
            "dtype: float64 \n",
            "\n",
            "user_id 497\n",
            "comedy       0.258474\n",
            "action       0.221829\n",
            "thriller     0.135223\n",
            "sci_fi       0.124694\n",
            "adventure    0.111863\n",
            "romance      0.108685\n",
            "drama        0.092899\n",
            "children     0.066786\n",
            "horror       0.064485\n",
            "crime        0.053006\n",
            "dtype: float64 \n",
            "\n",
            "user_id 276\n",
            "comedy       0.205377\n",
            "drama        0.197862\n",
            "action       0.178378\n",
            "thriller     0.165714\n",
            "sci_fi       0.100629\n",
            "adventure    0.088066\n",
            "romance      0.081815\n",
            "horror       0.076009\n",
            "crime        0.073426\n",
            "children     0.042756\n",
            "dtype: float64 \n",
            "\n"
          ]
        }
      ]
    },
    {
      "cell_type": "markdown",
      "source": [
        "It is easy to see why these users were chosen as close neighbors. All user's top preferred genre is comedy. Three of the users, to include user_id 5, has their second most preferred genre as action, while the remaining user has action as their third preferred genre.\n",
        "\n",
        "  "
      ],
      "metadata": {
        "id": "u7p4LYfxv1iw"
      }
    },
    {
      "cell_type": "code",
      "source": [
        "# number of unique genres across user_id 5 and neighbor preferences\n",
        "user5_genres"
      ],
      "metadata": {
        "colab": {
          "base_uri": "https://localhost:8080/"
        },
        "id": "snZFhkDObznm",
        "outputId": "2e1b8985-f2dc-4692-de00-0c47986c4d40"
      },
      "execution_count": 57,
      "outputs": [
        {
          "output_type": "execute_result",
          "data": {
            "text/plain": [
              "{'action',\n",
              " 'adventure',\n",
              " 'animation',\n",
              " 'children',\n",
              " 'comedy',\n",
              " 'crime',\n",
              " 'drama',\n",
              " 'horror',\n",
              " 'romance',\n",
              " 'sci_fi',\n",
              " 'thriller',\n",
              " 'war'}"
            ]
          },
          "metadata": {},
          "execution_count": 57
        }
      ]
    },
    {
      "cell_type": "markdown",
      "source": [
        "The above list of genres shows the top 10 genres preferred by user_id 5, as well as the genre categories for the suggested movies. There are two genres from the suggested movies that are part of user_id 5's top 10 genres: crime and war.\n",
        "\n",
        "When reviewing each neighbor's user profile, crime appears in all of the neighbors top 10 preferred genres, and war appears in one of the neighbors preferred list. This may explain why the recommended movies have genre combinations of 1 or more preferred user genres and 1 or more preferred neighbor genres.\n",
        "\n",
        "This combination of user and neighbor preferences helps provide interesting suggestions to the user, as it widens the field of movies to options outside their narrow preferences."
      ],
      "metadata": {
        "id": "VpY78mPwyAJ2"
      }
    },
    {
      "cell_type": "code",
      "source": [
        "# see if neighbors rated all five recommendations high\n",
        "ratings = []\n",
        "\n",
        "user5_nn_ratings = mr_no_dupes_df[\n",
        "    (mr_no_dupes_df['user_id'].isin(user5_nearest_neighbors)) &\n",
        "    (mr_no_dupes_df['title'].isin(id5_colab))\n",
        "]\n",
        "\n",
        "user5_nn_ratings"
      ],
      "metadata": {
        "colab": {
          "base_uri": "https://localhost:8080/",
          "height": 457
        },
        "id": "boBiPwlgYvI-",
        "outputId": "5fbe1d58-e2a5-4267-8729-bf18450fdbe4"
      },
      "execution_count": 58,
      "outputs": [
        {
          "output_type": "execute_result",
          "data": {
            "text/plain": [
              "                                                   title  user_id  rating\n",
              "16556                                 Chasing Amy (1997)      268     5.0\n",
              "16560                                 Chasing Amy (1997)      276     4.0\n",
              "16627                                 Chasing Amy (1997)      497     4.0\n",
              "26417  Dr. Strangelove or: How I Learned to Stop Worr...      268     5.0\n",
              "26421  Dr. Strangelove or: How I Learned to Stop Worr...      276     5.0\n",
              "38473                              Godfather, The (1972)      268     4.0\n",
              "38477                              Godfather, The (1972)      276     5.0\n",
              "38584                              Godfather, The (1972)      497     5.0\n",
              "50766                           L.A. Confidential (1997)      268     5.0\n",
              "50769                           L.A. Confidential (1997)      276     5.0\n",
              "88119                  Terminator 2: Judgment Day (1991)      268     5.0\n",
              "88123                  Terminator 2: Judgment Day (1991)      276     5.0\n",
              "88196                  Terminator 2: Judgment Day (1991)      497     4.0"
            ],
            "text/html": [
              "\n",
              "  <div id=\"df-521fee6d-e32b-4974-b420-5631158306ed\" class=\"colab-df-container\">\n",
              "    <div>\n",
              "<style scoped>\n",
              "    .dataframe tbody tr th:only-of-type {\n",
              "        vertical-align: middle;\n",
              "    }\n",
              "\n",
              "    .dataframe tbody tr th {\n",
              "        vertical-align: top;\n",
              "    }\n",
              "\n",
              "    .dataframe thead th {\n",
              "        text-align: right;\n",
              "    }\n",
              "</style>\n",
              "<table border=\"1\" class=\"dataframe\">\n",
              "  <thead>\n",
              "    <tr style=\"text-align: right;\">\n",
              "      <th></th>\n",
              "      <th>title</th>\n",
              "      <th>user_id</th>\n",
              "      <th>rating</th>\n",
              "    </tr>\n",
              "  </thead>\n",
              "  <tbody>\n",
              "    <tr>\n",
              "      <th>16556</th>\n",
              "      <td>Chasing Amy (1997)</td>\n",
              "      <td>268</td>\n",
              "      <td>5.0</td>\n",
              "    </tr>\n",
              "    <tr>\n",
              "      <th>16560</th>\n",
              "      <td>Chasing Amy (1997)</td>\n",
              "      <td>276</td>\n",
              "      <td>4.0</td>\n",
              "    </tr>\n",
              "    <tr>\n",
              "      <th>16627</th>\n",
              "      <td>Chasing Amy (1997)</td>\n",
              "      <td>497</td>\n",
              "      <td>4.0</td>\n",
              "    </tr>\n",
              "    <tr>\n",
              "      <th>26417</th>\n",
              "      <td>Dr. Strangelove or: How I Learned to Stop Worr...</td>\n",
              "      <td>268</td>\n",
              "      <td>5.0</td>\n",
              "    </tr>\n",
              "    <tr>\n",
              "      <th>26421</th>\n",
              "      <td>Dr. Strangelove or: How I Learned to Stop Worr...</td>\n",
              "      <td>276</td>\n",
              "      <td>5.0</td>\n",
              "    </tr>\n",
              "    <tr>\n",
              "      <th>38473</th>\n",
              "      <td>Godfather, The (1972)</td>\n",
              "      <td>268</td>\n",
              "      <td>4.0</td>\n",
              "    </tr>\n",
              "    <tr>\n",
              "      <th>38477</th>\n",
              "      <td>Godfather, The (1972)</td>\n",
              "      <td>276</td>\n",
              "      <td>5.0</td>\n",
              "    </tr>\n",
              "    <tr>\n",
              "      <th>38584</th>\n",
              "      <td>Godfather, The (1972)</td>\n",
              "      <td>497</td>\n",
              "      <td>5.0</td>\n",
              "    </tr>\n",
              "    <tr>\n",
              "      <th>50766</th>\n",
              "      <td>L.A. Confidential (1997)</td>\n",
              "      <td>268</td>\n",
              "      <td>5.0</td>\n",
              "    </tr>\n",
              "    <tr>\n",
              "      <th>50769</th>\n",
              "      <td>L.A. Confidential (1997)</td>\n",
              "      <td>276</td>\n",
              "      <td>5.0</td>\n",
              "    </tr>\n",
              "    <tr>\n",
              "      <th>88119</th>\n",
              "      <td>Terminator 2: Judgment Day (1991)</td>\n",
              "      <td>268</td>\n",
              "      <td>5.0</td>\n",
              "    </tr>\n",
              "    <tr>\n",
              "      <th>88123</th>\n",
              "      <td>Terminator 2: Judgment Day (1991)</td>\n",
              "      <td>276</td>\n",
              "      <td>5.0</td>\n",
              "    </tr>\n",
              "    <tr>\n",
              "      <th>88196</th>\n",
              "      <td>Terminator 2: Judgment Day (1991)</td>\n",
              "      <td>497</td>\n",
              "      <td>4.0</td>\n",
              "    </tr>\n",
              "  </tbody>\n",
              "</table>\n",
              "</div>\n",
              "    <div class=\"colab-df-buttons\">\n",
              "\n",
              "  <div class=\"colab-df-container\">\n",
              "    <button class=\"colab-df-convert\" onclick=\"convertToInteractive('df-521fee6d-e32b-4974-b420-5631158306ed')\"\n",
              "            title=\"Convert this dataframe to an interactive table.\"\n",
              "            style=\"display:none;\">\n",
              "\n",
              "  <svg xmlns=\"http://www.w3.org/2000/svg\" height=\"24px\" viewBox=\"0 -960 960 960\">\n",
              "    <path d=\"M120-120v-720h720v720H120Zm60-500h600v-160H180v160Zm220 220h160v-160H400v160Zm0 220h160v-160H400v160ZM180-400h160v-160H180v160Zm440 0h160v-160H620v160ZM180-180h160v-160H180v160Zm440 0h160v-160H620v160Z\"/>\n",
              "  </svg>\n",
              "    </button>\n",
              "\n",
              "  <style>\n",
              "    .colab-df-container {\n",
              "      display:flex;\n",
              "      gap: 12px;\n",
              "    }\n",
              "\n",
              "    .colab-df-convert {\n",
              "      background-color: #E8F0FE;\n",
              "      border: none;\n",
              "      border-radius: 50%;\n",
              "      cursor: pointer;\n",
              "      display: none;\n",
              "      fill: #1967D2;\n",
              "      height: 32px;\n",
              "      padding: 0 0 0 0;\n",
              "      width: 32px;\n",
              "    }\n",
              "\n",
              "    .colab-df-convert:hover {\n",
              "      background-color: #E2EBFA;\n",
              "      box-shadow: 0px 1px 2px rgba(60, 64, 67, 0.3), 0px 1px 3px 1px rgba(60, 64, 67, 0.15);\n",
              "      fill: #174EA6;\n",
              "    }\n",
              "\n",
              "    .colab-df-buttons div {\n",
              "      margin-bottom: 4px;\n",
              "    }\n",
              "\n",
              "    [theme=dark] .colab-df-convert {\n",
              "      background-color: #3B4455;\n",
              "      fill: #D2E3FC;\n",
              "    }\n",
              "\n",
              "    [theme=dark] .colab-df-convert:hover {\n",
              "      background-color: #434B5C;\n",
              "      box-shadow: 0px 1px 3px 1px rgba(0, 0, 0, 0.15);\n",
              "      filter: drop-shadow(0px 1px 2px rgba(0, 0, 0, 0.3));\n",
              "      fill: #FFFFFF;\n",
              "    }\n",
              "  </style>\n",
              "\n",
              "    <script>\n",
              "      const buttonEl =\n",
              "        document.querySelector('#df-521fee6d-e32b-4974-b420-5631158306ed button.colab-df-convert');\n",
              "      buttonEl.style.display =\n",
              "        google.colab.kernel.accessAllowed ? 'block' : 'none';\n",
              "\n",
              "      async function convertToInteractive(key) {\n",
              "        const element = document.querySelector('#df-521fee6d-e32b-4974-b420-5631158306ed');\n",
              "        const dataTable =\n",
              "          await google.colab.kernel.invokeFunction('convertToInteractive',\n",
              "                                                    [key], {});\n",
              "        if (!dataTable) return;\n",
              "\n",
              "        const docLinkHtml = 'Like what you see? Visit the ' +\n",
              "          '<a target=\"_blank\" href=https://colab.research.google.com/notebooks/data_table.ipynb>data table notebook</a>'\n",
              "          + ' to learn more about interactive tables.';\n",
              "        element.innerHTML = '';\n",
              "        dataTable['output_type'] = 'display_data';\n",
              "        await google.colab.output.renderOutput(dataTable, element);\n",
              "        const docLink = document.createElement('div');\n",
              "        docLink.innerHTML = docLinkHtml;\n",
              "        element.appendChild(docLink);\n",
              "      }\n",
              "    </script>\n",
              "  </div>\n",
              "\n",
              "\n",
              "<div id=\"df-a1a93def-80f0-42f6-9098-bb8f80319fa9\">\n",
              "  <button class=\"colab-df-quickchart\" onclick=\"quickchart('df-a1a93def-80f0-42f6-9098-bb8f80319fa9')\"\n",
              "            title=\"Suggest charts\"\n",
              "            style=\"display:none;\">\n",
              "\n",
              "<svg xmlns=\"http://www.w3.org/2000/svg\" height=\"24px\"viewBox=\"0 0 24 24\"\n",
              "     width=\"24px\">\n",
              "    <g>\n",
              "        <path d=\"M19 3H5c-1.1 0-2 .9-2 2v14c0 1.1.9 2 2 2h14c1.1 0 2-.9 2-2V5c0-1.1-.9-2-2-2zM9 17H7v-7h2v7zm4 0h-2V7h2v10zm4 0h-2v-4h2v4z\"/>\n",
              "    </g>\n",
              "</svg>\n",
              "  </button>\n",
              "\n",
              "<style>\n",
              "  .colab-df-quickchart {\n",
              "      --bg-color: #E8F0FE;\n",
              "      --fill-color: #1967D2;\n",
              "      --hover-bg-color: #E2EBFA;\n",
              "      --hover-fill-color: #174EA6;\n",
              "      --disabled-fill-color: #AAA;\n",
              "      --disabled-bg-color: #DDD;\n",
              "  }\n",
              "\n",
              "  [theme=dark] .colab-df-quickchart {\n",
              "      --bg-color: #3B4455;\n",
              "      --fill-color: #D2E3FC;\n",
              "      --hover-bg-color: #434B5C;\n",
              "      --hover-fill-color: #FFFFFF;\n",
              "      --disabled-bg-color: #3B4455;\n",
              "      --disabled-fill-color: #666;\n",
              "  }\n",
              "\n",
              "  .colab-df-quickchart {\n",
              "    background-color: var(--bg-color);\n",
              "    border: none;\n",
              "    border-radius: 50%;\n",
              "    cursor: pointer;\n",
              "    display: none;\n",
              "    fill: var(--fill-color);\n",
              "    height: 32px;\n",
              "    padding: 0;\n",
              "    width: 32px;\n",
              "  }\n",
              "\n",
              "  .colab-df-quickchart:hover {\n",
              "    background-color: var(--hover-bg-color);\n",
              "    box-shadow: 0 1px 2px rgba(60, 64, 67, 0.3), 0 1px 3px 1px rgba(60, 64, 67, 0.15);\n",
              "    fill: var(--button-hover-fill-color);\n",
              "  }\n",
              "\n",
              "  .colab-df-quickchart-complete:disabled,\n",
              "  .colab-df-quickchart-complete:disabled:hover {\n",
              "    background-color: var(--disabled-bg-color);\n",
              "    fill: var(--disabled-fill-color);\n",
              "    box-shadow: none;\n",
              "  }\n",
              "\n",
              "  .colab-df-spinner {\n",
              "    border: 2px solid var(--fill-color);\n",
              "    border-color: transparent;\n",
              "    border-bottom-color: var(--fill-color);\n",
              "    animation:\n",
              "      spin 1s steps(1) infinite;\n",
              "  }\n",
              "\n",
              "  @keyframes spin {\n",
              "    0% {\n",
              "      border-color: transparent;\n",
              "      border-bottom-color: var(--fill-color);\n",
              "      border-left-color: var(--fill-color);\n",
              "    }\n",
              "    20% {\n",
              "      border-color: transparent;\n",
              "      border-left-color: var(--fill-color);\n",
              "      border-top-color: var(--fill-color);\n",
              "    }\n",
              "    30% {\n",
              "      border-color: transparent;\n",
              "      border-left-color: var(--fill-color);\n",
              "      border-top-color: var(--fill-color);\n",
              "      border-right-color: var(--fill-color);\n",
              "    }\n",
              "    40% {\n",
              "      border-color: transparent;\n",
              "      border-right-color: var(--fill-color);\n",
              "      border-top-color: var(--fill-color);\n",
              "    }\n",
              "    60% {\n",
              "      border-color: transparent;\n",
              "      border-right-color: var(--fill-color);\n",
              "    }\n",
              "    80% {\n",
              "      border-color: transparent;\n",
              "      border-right-color: var(--fill-color);\n",
              "      border-bottom-color: var(--fill-color);\n",
              "    }\n",
              "    90% {\n",
              "      border-color: transparent;\n",
              "      border-bottom-color: var(--fill-color);\n",
              "    }\n",
              "  }\n",
              "</style>\n",
              "\n",
              "  <script>\n",
              "    async function quickchart(key) {\n",
              "      const quickchartButtonEl =\n",
              "        document.querySelector('#' + key + ' button');\n",
              "      quickchartButtonEl.disabled = true;  // To prevent multiple clicks.\n",
              "      quickchartButtonEl.classList.add('colab-df-spinner');\n",
              "      try {\n",
              "        const charts = await google.colab.kernel.invokeFunction(\n",
              "            'suggestCharts', [key], {});\n",
              "      } catch (error) {\n",
              "        console.error('Error during call to suggestCharts:', error);\n",
              "      }\n",
              "      quickchartButtonEl.classList.remove('colab-df-spinner');\n",
              "      quickchartButtonEl.classList.add('colab-df-quickchart-complete');\n",
              "    }\n",
              "    (() => {\n",
              "      let quickchartButtonEl =\n",
              "        document.querySelector('#df-a1a93def-80f0-42f6-9098-bb8f80319fa9 button');\n",
              "      quickchartButtonEl.style.display =\n",
              "        google.colab.kernel.accessAllowed ? 'block' : 'none';\n",
              "    })();\n",
              "  </script>\n",
              "</div>\n",
              "\n",
              "  <div id=\"id_716d37e5-3bb3-4ede-8322-0f4190a4edcf\">\n",
              "    <style>\n",
              "      .colab-df-generate {\n",
              "        background-color: #E8F0FE;\n",
              "        border: none;\n",
              "        border-radius: 50%;\n",
              "        cursor: pointer;\n",
              "        display: none;\n",
              "        fill: #1967D2;\n",
              "        height: 32px;\n",
              "        padding: 0 0 0 0;\n",
              "        width: 32px;\n",
              "      }\n",
              "\n",
              "      .colab-df-generate:hover {\n",
              "        background-color: #E2EBFA;\n",
              "        box-shadow: 0px 1px 2px rgba(60, 64, 67, 0.3), 0px 1px 3px 1px rgba(60, 64, 67, 0.15);\n",
              "        fill: #174EA6;\n",
              "      }\n",
              "\n",
              "      [theme=dark] .colab-df-generate {\n",
              "        background-color: #3B4455;\n",
              "        fill: #D2E3FC;\n",
              "      }\n",
              "\n",
              "      [theme=dark] .colab-df-generate:hover {\n",
              "        background-color: #434B5C;\n",
              "        box-shadow: 0px 1px 3px 1px rgba(0, 0, 0, 0.15);\n",
              "        filter: drop-shadow(0px 1px 2px rgba(0, 0, 0, 0.3));\n",
              "        fill: #FFFFFF;\n",
              "      }\n",
              "    </style>\n",
              "    <button class=\"colab-df-generate\" onclick=\"generateWithVariable('user5_nn_ratings')\"\n",
              "            title=\"Generate code using this dataframe.\"\n",
              "            style=\"display:none;\">\n",
              "\n",
              "  <svg xmlns=\"http://www.w3.org/2000/svg\" height=\"24px\"viewBox=\"0 0 24 24\"\n",
              "       width=\"24px\">\n",
              "    <path d=\"M7,19H8.4L18.45,9,17,7.55,7,17.6ZM5,21V16.75L18.45,3.32a2,2,0,0,1,2.83,0l1.4,1.43a1.91,1.91,0,0,1,.58,1.4,1.91,1.91,0,0,1-.58,1.4L9.25,21ZM18.45,9,17,7.55Zm-12,3A5.31,5.31,0,0,0,4.9,8.1,5.31,5.31,0,0,0,1,6.5,5.31,5.31,0,0,0,4.9,4.9,5.31,5.31,0,0,0,6.5,1,5.31,5.31,0,0,0,8.1,4.9,5.31,5.31,0,0,0,12,6.5,5.46,5.46,0,0,0,6.5,12Z\"/>\n",
              "  </svg>\n",
              "    </button>\n",
              "    <script>\n",
              "      (() => {\n",
              "      const buttonEl =\n",
              "        document.querySelector('#id_716d37e5-3bb3-4ede-8322-0f4190a4edcf button.colab-df-generate');\n",
              "      buttonEl.style.display =\n",
              "        google.colab.kernel.accessAllowed ? 'block' : 'none';\n",
              "\n",
              "      buttonEl.onclick = () => {\n",
              "        google.colab.notebook.generateWithVariable('user5_nn_ratings');\n",
              "      }\n",
              "      })();\n",
              "    </script>\n",
              "  </div>\n",
              "\n",
              "    </div>\n",
              "  </div>\n"
            ],
            "application/vnd.google.colaboratory.intrinsic+json": {
              "type": "dataframe",
              "variable_name": "user5_nn_ratings",
              "summary": "{\n  \"name\": \"user5_nn_ratings\",\n  \"rows\": 13,\n  \"fields\": [\n    {\n      \"column\": \"title\",\n      \"properties\": {\n        \"dtype\": \"category\",\n        \"num_unique_values\": 5,\n        \"samples\": [\n          \"Dr. Strangelove or: How I Learned to Stop Worrying and Love the Bomb (1963)\",\n          \"Terminator 2: Judgment Day (1991)\",\n          \"Godfather, The (1972)\"\n        ],\n        \"semantic_type\": \"\",\n        \"description\": \"\"\n      }\n    },\n    {\n      \"column\": \"user_id\",\n      \"properties\": {\n        \"dtype\": \"number\",\n        \"std\": 98,\n        \"min\": 268,\n        \"max\": 497,\n        \"num_unique_values\": 3,\n        \"samples\": [\n          268,\n          276,\n          497\n        ],\n        \"semantic_type\": \"\",\n        \"description\": \"\"\n      }\n    },\n    {\n      \"column\": \"rating\",\n      \"properties\": {\n        \"dtype\": \"number\",\n        \"std\": 0.4803844614152614,\n        \"min\": 4.0,\n        \"max\": 5.0,\n        \"num_unique_values\": 2,\n        \"samples\": [\n          4.0,\n          5.0\n        ],\n        \"semantic_type\": \"\",\n        \"description\": \"\"\n      }\n    }\n  ]\n}"
            }
          },
          "metadata": {},
          "execution_count": 58
        }
      ]
    },
    {
      "cell_type": "markdown",
      "source": [
        "Each movie suggested to user_id five was rated by at least two of the neighbors, and all of the ratings are either a 4 or a 5. The recommendations for user_id 5 based on nearest neighbors makes sense."
      ],
      "metadata": {
        "id": "KAlKVwRPzn_L"
      }
    },
    {
      "cell_type": "markdown",
      "source": [
        "**user_id == 197**"
      ],
      "metadata": {
        "id": "rJ2Bbt5udI5_"
      }
    },
    {
      "cell_type": "code",
      "source": [
        "# recommendation for user_id 197 -- 3 neighbors\n",
        "id197_colab = collaborative_filtering_recommendation(197, mr_no_dupes_df)\n",
        "id197_colab"
      ],
      "metadata": {
        "colab": {
          "base_uri": "https://localhost:8080/"
        },
        "outputId": "7835a3aa-d08a-4846-d082-673d7213b4aa",
        "id": "yl_aJj6JdC85"
      },
      "execution_count": 60,
      "outputs": [
        {
          "output_type": "execute_result",
          "data": {
            "text/plain": [
              "['Natural Born Killers (1994)',\n",
              " 'Star Trek: First Contact (1996)',\n",
              " 'Die Hard (1988)',\n",
              " 'Heavy Metal (1981)',\n",
              " 'Alien: Resurrection (1997)']"
            ]
          },
          "metadata": {},
          "execution_count": 60
        }
      ]
    },
    {
      "cell_type": "code",
      "source": [
        "# print genres of the movies recommended for user_id 197\n",
        "recommended_genres = ['Action', 'Sci-Fi', 'Thriller', 'Adventure', 'Horror', 'Animation', 'genres']\n",
        "movies_no_dupes[movies_no_dupes['title'].isin(id197_colab)][recommended_genres]"
      ],
      "metadata": {
        "colab": {
          "base_uri": "https://localhost:8080/",
          "height": 241
        },
        "outputId": "96b1ce71-590e-477a-d650-5cc9ccd5d768",
        "id": "ksgdZwVt1Kz3"
      },
      "execution_count": 61,
      "outputs": [
        {
          "output_type": "execute_result",
          "data": {
            "text/plain": [
              "     Action  Sci-Fi  Thriller  Adventure  Horror  Animation  \\\n",
              "52        1       0         1          0       0          0   \n",
              "100       1       1         0          1       1          1   \n",
              "143       1       0         1          0       0          0   \n",
              "221       1       1         0          1       0          0   \n",
              "342       1       1         0          0       1          0   \n",
              "\n",
              "                                       genres  \n",
              "52                            action thriller  \n",
              "100  action adventure animation horror sci_fi  \n",
              "143                           action thriller  \n",
              "221                   action adventure sci_fi  \n",
              "342                      action horror sci_fi  "
            ],
            "text/html": [
              "\n",
              "  <div id=\"df-8876961f-820f-4333-8a85-dcc4387979ec\" class=\"colab-df-container\">\n",
              "    <div>\n",
              "<style scoped>\n",
              "    .dataframe tbody tr th:only-of-type {\n",
              "        vertical-align: middle;\n",
              "    }\n",
              "\n",
              "    .dataframe tbody tr th {\n",
              "        vertical-align: top;\n",
              "    }\n",
              "\n",
              "    .dataframe thead th {\n",
              "        text-align: right;\n",
              "    }\n",
              "</style>\n",
              "<table border=\"1\" class=\"dataframe\">\n",
              "  <thead>\n",
              "    <tr style=\"text-align: right;\">\n",
              "      <th></th>\n",
              "      <th>Action</th>\n",
              "      <th>Sci-Fi</th>\n",
              "      <th>Thriller</th>\n",
              "      <th>Adventure</th>\n",
              "      <th>Horror</th>\n",
              "      <th>Animation</th>\n",
              "      <th>genres</th>\n",
              "    </tr>\n",
              "  </thead>\n",
              "  <tbody>\n",
              "    <tr>\n",
              "      <th>52</th>\n",
              "      <td>1</td>\n",
              "      <td>0</td>\n",
              "      <td>1</td>\n",
              "      <td>0</td>\n",
              "      <td>0</td>\n",
              "      <td>0</td>\n",
              "      <td>action thriller</td>\n",
              "    </tr>\n",
              "    <tr>\n",
              "      <th>100</th>\n",
              "      <td>1</td>\n",
              "      <td>1</td>\n",
              "      <td>0</td>\n",
              "      <td>1</td>\n",
              "      <td>1</td>\n",
              "      <td>1</td>\n",
              "      <td>action adventure animation horror sci_fi</td>\n",
              "    </tr>\n",
              "    <tr>\n",
              "      <th>143</th>\n",
              "      <td>1</td>\n",
              "      <td>0</td>\n",
              "      <td>1</td>\n",
              "      <td>0</td>\n",
              "      <td>0</td>\n",
              "      <td>0</td>\n",
              "      <td>action thriller</td>\n",
              "    </tr>\n",
              "    <tr>\n",
              "      <th>221</th>\n",
              "      <td>1</td>\n",
              "      <td>1</td>\n",
              "      <td>0</td>\n",
              "      <td>1</td>\n",
              "      <td>0</td>\n",
              "      <td>0</td>\n",
              "      <td>action adventure sci_fi</td>\n",
              "    </tr>\n",
              "    <tr>\n",
              "      <th>342</th>\n",
              "      <td>1</td>\n",
              "      <td>1</td>\n",
              "      <td>0</td>\n",
              "      <td>0</td>\n",
              "      <td>1</td>\n",
              "      <td>0</td>\n",
              "      <td>action horror sci_fi</td>\n",
              "    </tr>\n",
              "  </tbody>\n",
              "</table>\n",
              "</div>\n",
              "    <div class=\"colab-df-buttons\">\n",
              "\n",
              "  <div class=\"colab-df-container\">\n",
              "    <button class=\"colab-df-convert\" onclick=\"convertToInteractive('df-8876961f-820f-4333-8a85-dcc4387979ec')\"\n",
              "            title=\"Convert this dataframe to an interactive table.\"\n",
              "            style=\"display:none;\">\n",
              "\n",
              "  <svg xmlns=\"http://www.w3.org/2000/svg\" height=\"24px\" viewBox=\"0 -960 960 960\">\n",
              "    <path d=\"M120-120v-720h720v720H120Zm60-500h600v-160H180v160Zm220 220h160v-160H400v160Zm0 220h160v-160H400v160ZM180-400h160v-160H180v160Zm440 0h160v-160H620v160ZM180-180h160v-160H180v160Zm440 0h160v-160H620v160Z\"/>\n",
              "  </svg>\n",
              "    </button>\n",
              "\n",
              "  <style>\n",
              "    .colab-df-container {\n",
              "      display:flex;\n",
              "      gap: 12px;\n",
              "    }\n",
              "\n",
              "    .colab-df-convert {\n",
              "      background-color: #E8F0FE;\n",
              "      border: none;\n",
              "      border-radius: 50%;\n",
              "      cursor: pointer;\n",
              "      display: none;\n",
              "      fill: #1967D2;\n",
              "      height: 32px;\n",
              "      padding: 0 0 0 0;\n",
              "      width: 32px;\n",
              "    }\n",
              "\n",
              "    .colab-df-convert:hover {\n",
              "      background-color: #E2EBFA;\n",
              "      box-shadow: 0px 1px 2px rgba(60, 64, 67, 0.3), 0px 1px 3px 1px rgba(60, 64, 67, 0.15);\n",
              "      fill: #174EA6;\n",
              "    }\n",
              "\n",
              "    .colab-df-buttons div {\n",
              "      margin-bottom: 4px;\n",
              "    }\n",
              "\n",
              "    [theme=dark] .colab-df-convert {\n",
              "      background-color: #3B4455;\n",
              "      fill: #D2E3FC;\n",
              "    }\n",
              "\n",
              "    [theme=dark] .colab-df-convert:hover {\n",
              "      background-color: #434B5C;\n",
              "      box-shadow: 0px 1px 3px 1px rgba(0, 0, 0, 0.15);\n",
              "      filter: drop-shadow(0px 1px 2px rgba(0, 0, 0, 0.3));\n",
              "      fill: #FFFFFF;\n",
              "    }\n",
              "  </style>\n",
              "\n",
              "    <script>\n",
              "      const buttonEl =\n",
              "        document.querySelector('#df-8876961f-820f-4333-8a85-dcc4387979ec button.colab-df-convert');\n",
              "      buttonEl.style.display =\n",
              "        google.colab.kernel.accessAllowed ? 'block' : 'none';\n",
              "\n",
              "      async function convertToInteractive(key) {\n",
              "        const element = document.querySelector('#df-8876961f-820f-4333-8a85-dcc4387979ec');\n",
              "        const dataTable =\n",
              "          await google.colab.kernel.invokeFunction('convertToInteractive',\n",
              "                                                    [key], {});\n",
              "        if (!dataTable) return;\n",
              "\n",
              "        const docLinkHtml = 'Like what you see? Visit the ' +\n",
              "          '<a target=\"_blank\" href=https://colab.research.google.com/notebooks/data_table.ipynb>data table notebook</a>'\n",
              "          + ' to learn more about interactive tables.';\n",
              "        element.innerHTML = '';\n",
              "        dataTable['output_type'] = 'display_data';\n",
              "        await google.colab.output.renderOutput(dataTable, element);\n",
              "        const docLink = document.createElement('div');\n",
              "        docLink.innerHTML = docLinkHtml;\n",
              "        element.appendChild(docLink);\n",
              "      }\n",
              "    </script>\n",
              "  </div>\n",
              "\n",
              "\n",
              "<div id=\"df-bf24be8d-4878-41d7-9125-aad029c28fb4\">\n",
              "  <button class=\"colab-df-quickchart\" onclick=\"quickchart('df-bf24be8d-4878-41d7-9125-aad029c28fb4')\"\n",
              "            title=\"Suggest charts\"\n",
              "            style=\"display:none;\">\n",
              "\n",
              "<svg xmlns=\"http://www.w3.org/2000/svg\" height=\"24px\"viewBox=\"0 0 24 24\"\n",
              "     width=\"24px\">\n",
              "    <g>\n",
              "        <path d=\"M19 3H5c-1.1 0-2 .9-2 2v14c0 1.1.9 2 2 2h14c1.1 0 2-.9 2-2V5c0-1.1-.9-2-2-2zM9 17H7v-7h2v7zm4 0h-2V7h2v10zm4 0h-2v-4h2v4z\"/>\n",
              "    </g>\n",
              "</svg>\n",
              "  </button>\n",
              "\n",
              "<style>\n",
              "  .colab-df-quickchart {\n",
              "      --bg-color: #E8F0FE;\n",
              "      --fill-color: #1967D2;\n",
              "      --hover-bg-color: #E2EBFA;\n",
              "      --hover-fill-color: #174EA6;\n",
              "      --disabled-fill-color: #AAA;\n",
              "      --disabled-bg-color: #DDD;\n",
              "  }\n",
              "\n",
              "  [theme=dark] .colab-df-quickchart {\n",
              "      --bg-color: #3B4455;\n",
              "      --fill-color: #D2E3FC;\n",
              "      --hover-bg-color: #434B5C;\n",
              "      --hover-fill-color: #FFFFFF;\n",
              "      --disabled-bg-color: #3B4455;\n",
              "      --disabled-fill-color: #666;\n",
              "  }\n",
              "\n",
              "  .colab-df-quickchart {\n",
              "    background-color: var(--bg-color);\n",
              "    border: none;\n",
              "    border-radius: 50%;\n",
              "    cursor: pointer;\n",
              "    display: none;\n",
              "    fill: var(--fill-color);\n",
              "    height: 32px;\n",
              "    padding: 0;\n",
              "    width: 32px;\n",
              "  }\n",
              "\n",
              "  .colab-df-quickchart:hover {\n",
              "    background-color: var(--hover-bg-color);\n",
              "    box-shadow: 0 1px 2px rgba(60, 64, 67, 0.3), 0 1px 3px 1px rgba(60, 64, 67, 0.15);\n",
              "    fill: var(--button-hover-fill-color);\n",
              "  }\n",
              "\n",
              "  .colab-df-quickchart-complete:disabled,\n",
              "  .colab-df-quickchart-complete:disabled:hover {\n",
              "    background-color: var(--disabled-bg-color);\n",
              "    fill: var(--disabled-fill-color);\n",
              "    box-shadow: none;\n",
              "  }\n",
              "\n",
              "  .colab-df-spinner {\n",
              "    border: 2px solid var(--fill-color);\n",
              "    border-color: transparent;\n",
              "    border-bottom-color: var(--fill-color);\n",
              "    animation:\n",
              "      spin 1s steps(1) infinite;\n",
              "  }\n",
              "\n",
              "  @keyframes spin {\n",
              "    0% {\n",
              "      border-color: transparent;\n",
              "      border-bottom-color: var(--fill-color);\n",
              "      border-left-color: var(--fill-color);\n",
              "    }\n",
              "    20% {\n",
              "      border-color: transparent;\n",
              "      border-left-color: var(--fill-color);\n",
              "      border-top-color: var(--fill-color);\n",
              "    }\n",
              "    30% {\n",
              "      border-color: transparent;\n",
              "      border-left-color: var(--fill-color);\n",
              "      border-top-color: var(--fill-color);\n",
              "      border-right-color: var(--fill-color);\n",
              "    }\n",
              "    40% {\n",
              "      border-color: transparent;\n",
              "      border-right-color: var(--fill-color);\n",
              "      border-top-color: var(--fill-color);\n",
              "    }\n",
              "    60% {\n",
              "      border-color: transparent;\n",
              "      border-right-color: var(--fill-color);\n",
              "    }\n",
              "    80% {\n",
              "      border-color: transparent;\n",
              "      border-right-color: var(--fill-color);\n",
              "      border-bottom-color: var(--fill-color);\n",
              "    }\n",
              "    90% {\n",
              "      border-color: transparent;\n",
              "      border-bottom-color: var(--fill-color);\n",
              "    }\n",
              "  }\n",
              "</style>\n",
              "\n",
              "  <script>\n",
              "    async function quickchart(key) {\n",
              "      const quickchartButtonEl =\n",
              "        document.querySelector('#' + key + ' button');\n",
              "      quickchartButtonEl.disabled = true;  // To prevent multiple clicks.\n",
              "      quickchartButtonEl.classList.add('colab-df-spinner');\n",
              "      try {\n",
              "        const charts = await google.colab.kernel.invokeFunction(\n",
              "            'suggestCharts', [key], {});\n",
              "      } catch (error) {\n",
              "        console.error('Error during call to suggestCharts:', error);\n",
              "      }\n",
              "      quickchartButtonEl.classList.remove('colab-df-spinner');\n",
              "      quickchartButtonEl.classList.add('colab-df-quickchart-complete');\n",
              "    }\n",
              "    (() => {\n",
              "      let quickchartButtonEl =\n",
              "        document.querySelector('#df-bf24be8d-4878-41d7-9125-aad029c28fb4 button');\n",
              "      quickchartButtonEl.style.display =\n",
              "        google.colab.kernel.accessAllowed ? 'block' : 'none';\n",
              "    })();\n",
              "  </script>\n",
              "</div>\n",
              "\n",
              "    </div>\n",
              "  </div>\n"
            ],
            "application/vnd.google.colaboratory.intrinsic+json": {
              "type": "dataframe",
              "summary": "{\n  \"name\": \"movies_no_dupes[movies_no_dupes['title']\",\n  \"rows\": 5,\n  \"fields\": [\n    {\n      \"column\": \"Action\",\n      \"properties\": {\n        \"dtype\": \"number\",\n        \"std\": 0,\n        \"min\": 1,\n        \"max\": 1,\n        \"num_unique_values\": 1,\n        \"samples\": [\n          1\n        ],\n        \"semantic_type\": \"\",\n        \"description\": \"\"\n      }\n    },\n    {\n      \"column\": \"Sci-Fi\",\n      \"properties\": {\n        \"dtype\": \"number\",\n        \"std\": 0,\n        \"min\": 0,\n        \"max\": 1,\n        \"num_unique_values\": 2,\n        \"samples\": [\n          1\n        ],\n        \"semantic_type\": \"\",\n        \"description\": \"\"\n      }\n    },\n    {\n      \"column\": \"Thriller\",\n      \"properties\": {\n        \"dtype\": \"number\",\n        \"std\": 0,\n        \"min\": 0,\n        \"max\": 1,\n        \"num_unique_values\": 2,\n        \"samples\": [\n          0\n        ],\n        \"semantic_type\": \"\",\n        \"description\": \"\"\n      }\n    },\n    {\n      \"column\": \"Adventure\",\n      \"properties\": {\n        \"dtype\": \"number\",\n        \"std\": 0,\n        \"min\": 0,\n        \"max\": 1,\n        \"num_unique_values\": 2,\n        \"samples\": [\n          1\n        ],\n        \"semantic_type\": \"\",\n        \"description\": \"\"\n      }\n    },\n    {\n      \"column\": \"Horror\",\n      \"properties\": {\n        \"dtype\": \"number\",\n        \"std\": 0,\n        \"min\": 0,\n        \"max\": 1,\n        \"num_unique_values\": 2,\n        \"samples\": [\n          1\n        ],\n        \"semantic_type\": \"\",\n        \"description\": \"\"\n      }\n    },\n    {\n      \"column\": \"Animation\",\n      \"properties\": {\n        \"dtype\": \"number\",\n        \"std\": 0,\n        \"min\": 0,\n        \"max\": 1,\n        \"num_unique_values\": 2,\n        \"samples\": [\n          1\n        ],\n        \"semantic_type\": \"\",\n        \"description\": \"\"\n      }\n    },\n    {\n      \"column\": \"genres\",\n      \"properties\": {\n        \"dtype\": \"string\",\n        \"num_unique_values\": 4,\n        \"samples\": [\n          \"action adventure animation horror sci_fi\"\n        ],\n        \"semantic_type\": \"\",\n        \"description\": \"\"\n      }\n    }\n  ]\n}"
            }
          },
          "metadata": {},
          "execution_count": 61
        }
      ]
    },
    {
      "cell_type": "markdown",
      "source": [
        "The recommendations for user_id 197 are more similar to their user profile genre preferences as compared to user_id 5's. All of the movies fall into the user's top genre preference of action. Three of the movies include the user's 5th preferred genre, and two movies each include the user's second and third top genres.\n",
        "\n",
        "When comparing the 6 genres covered in the collaborative filtering recommendations versus the user's profile of top 10 genres, there are 4 matcheing genres.\n",
        "\n",
        "Now we'll look at the preferences of the nearest neighbors."
      ],
      "metadata": {
        "id": "GuZJ4lip1Kz4"
      }
    },
    {
      "cell_type": "code",
      "source": [
        "# find nearest neighbors to user_id 197\n",
        "# Get the similarity scores of the target user with all other users\n",
        "target_user_similarities = similarities_df.loc[197]\n",
        "\n",
        "# Find the top n_neighbors most similar users (excluding the target user)\n",
        "sorted_target_sims = target_user_similarities.sort_values(ascending=False)\n",
        "user197_nearest_neighbors = list(sorted_target_sims.index[1:4])"
      ],
      "metadata": {
        "id": "BPiiv1gq1Kz4"
      },
      "execution_count": 62,
      "outputs": []
    },
    {
      "cell_type": "code",
      "source": [
        "user197_nearest_neighbors"
      ],
      "metadata": {
        "colab": {
          "base_uri": "https://localhost:8080/"
        },
        "outputId": "4e463a12-17a9-46d9-b4dc-a768b3a3a1ac",
        "id": "qdBuYNX71Kz4"
      },
      "execution_count": 63,
      "outputs": [
        {
          "output_type": "execute_result",
          "data": {
            "text/plain": [
              "[8, 600, 826]"
            ]
          },
          "metadata": {},
          "execution_count": 63
        }
      ]
    },
    {
      "cell_type": "code",
      "source": [
        "# create user profiles for each nearest neighbor and print their top ten prefereces\n",
        "for user in user197_nearest_neighbors:\n",
        "  print('user_id', user)\n",
        "  current_user = user_profile_10(user)\n",
        "  print(current_user, '\\n')\n",
        "  user197_genres.update(current_user.index)"
      ],
      "metadata": {
        "colab": {
          "base_uri": "https://localhost:8080/"
        },
        "outputId": "82f7b0a3-ebac-466d-f026-cdec6308847a",
        "id": "8n9c1rE11Kz5"
      },
      "execution_count": 64,
      "outputs": [
        {
          "output_type": "stream",
          "name": "stdout",
          "text": [
            "user_id 8\n",
            "action       0.365102\n",
            "sci_fi       0.180012\n",
            "thriller     0.175141\n",
            "adventure    0.174270\n",
            "war          0.131379\n",
            "comedy       0.122603\n",
            "drama        0.117631\n",
            "crime        0.114625\n",
            "romance      0.054041\n",
            "western      0.042565\n",
            "dtype: float64 \n",
            "\n",
            "user_id 600\n",
            "action       0.504683\n",
            "adventure    0.248574\n",
            "sci_fi       0.177020\n",
            "thriller     0.138289\n",
            "crime        0.095664\n",
            "drama        0.076815\n",
            "western      0.076666\n",
            "war          0.075554\n",
            "romance      0.063056\n",
            "comedy       0.059813\n",
            "dtype: float64 \n",
            "\n",
            "user_id 826\n",
            "action       0.396047\n",
            "adventure    0.181704\n",
            "sci_fi       0.158499\n",
            "thriller     0.138775\n",
            "animation    0.115472\n",
            "crime        0.100035\n",
            "children     0.092278\n",
            "romance      0.078164\n",
            "drama        0.074948\n",
            "war          0.068645\n",
            "dtype: float64 \n",
            "\n"
          ]
        }
      ]
    },
    {
      "cell_type": "markdown",
      "source": [
        "It is easy to see why these users were chosen as close neighbors. All user's top preferred genre is action and the number of movies with high ratings for action is significantly higher compared to the other genres. Of user_id 197's top five genre preferences, all three neighbors have four of them in their own top five genre preferences."
      ],
      "metadata": {
        "id": "kSpthJMx1Kz5"
      }
    },
    {
      "cell_type": "code",
      "source": [
        "# number of unique genres across user_id 5 and neighbor preferences\n",
        "user197_genres"
      ],
      "metadata": {
        "colab": {
          "base_uri": "https://localhost:8080/"
        },
        "outputId": "32dcb515-6bcd-44f2-a993-7d0451731dd2",
        "id": "hU-H5pqo1Kz5"
      },
      "execution_count": 65,
      "outputs": [
        {
          "output_type": "execute_result",
          "data": {
            "text/plain": [
              "{'action',\n",
              " 'adventure',\n",
              " 'animation',\n",
              " 'children',\n",
              " 'comedy',\n",
              " 'crime',\n",
              " 'drama',\n",
              " 'romance',\n",
              " 'sci_fi',\n",
              " 'thriller',\n",
              " 'war',\n",
              " 'western'}"
            ]
          },
          "metadata": {},
          "execution_count": 65
        }
      ]
    },
    {
      "cell_type": "markdown",
      "source": [
        "The above list of genres shows the top 10 genres preferred by user_id 197, as well as the genre categories for the suggested movies. There are two genres from the suggested movies that are NOT part of user_id 197's top 10 genres: animation and children.\n",
        "\n",
        "When reviewing each neighbor's user profile, animation and children appears only in the third suggested nearest neighbor. All the remaining neighbors have the exact same top 10 genre preference as user_id 197. This may explain why the list of movie recommendations matches better with the user profile's preferred genres as compared to user_id 5's recommended movies.\n",
        "\n",
        "Since the nearest neighbors have very similar genre preferences to user_id, the recommended movies will be very similar to movies suggested based solely on the user's own genre preferences."
      ],
      "metadata": {
        "id": "Vd-gQRuT1Kz6"
      }
    },
    {
      "cell_type": "code",
      "source": [
        "# see if neighbors rated all five recommendations high\n",
        "ratings = []\n",
        "\n",
        "user197_nn_ratings = mr_no_dupes_df[\n",
        "    (mr_no_dupes_df['user_id'].isin(user197_nearest_neighbors)) &\n",
        "    (mr_no_dupes_df['title'].isin(id197_colab))\n",
        "]\n",
        "\n",
        "user197_nn_ratings"
      ],
      "metadata": {
        "colab": {
          "base_uri": "https://localhost:8080/",
          "height": 237
        },
        "outputId": "f4712624-4d83-458f-d78b-86ae4d0a7236",
        "id": "_BeTVZEo1Kz6"
      },
      "execution_count": 66,
      "outputs": [
        {
          "output_type": "execute_result",
          "data": {
            "text/plain": [
              "                                 title  user_id  rating\n",
              "3306        Alien: Resurrection (1997)      826     5.0\n",
              "25002                  Die Hard (1988)        8     5.0\n",
              "42600               Heavy Metal (1981)      826     5.0\n",
              "62468      Natural Born Killers (1994)      600     4.0\n",
              "62498      Natural Born Killers (1994)      826     5.0\n",
              "84312  Star Trek: First Contact (1996)        8     5.0"
            ],
            "text/html": [
              "\n",
              "  <div id=\"df-c3216c59-fbb9-40a3-8f1a-38eae5f2332f\" class=\"colab-df-container\">\n",
              "    <div>\n",
              "<style scoped>\n",
              "    .dataframe tbody tr th:only-of-type {\n",
              "        vertical-align: middle;\n",
              "    }\n",
              "\n",
              "    .dataframe tbody tr th {\n",
              "        vertical-align: top;\n",
              "    }\n",
              "\n",
              "    .dataframe thead th {\n",
              "        text-align: right;\n",
              "    }\n",
              "</style>\n",
              "<table border=\"1\" class=\"dataframe\">\n",
              "  <thead>\n",
              "    <tr style=\"text-align: right;\">\n",
              "      <th></th>\n",
              "      <th>title</th>\n",
              "      <th>user_id</th>\n",
              "      <th>rating</th>\n",
              "    </tr>\n",
              "  </thead>\n",
              "  <tbody>\n",
              "    <tr>\n",
              "      <th>3306</th>\n",
              "      <td>Alien: Resurrection (1997)</td>\n",
              "      <td>826</td>\n",
              "      <td>5.0</td>\n",
              "    </tr>\n",
              "    <tr>\n",
              "      <th>25002</th>\n",
              "      <td>Die Hard (1988)</td>\n",
              "      <td>8</td>\n",
              "      <td>5.0</td>\n",
              "    </tr>\n",
              "    <tr>\n",
              "      <th>42600</th>\n",
              "      <td>Heavy Metal (1981)</td>\n",
              "      <td>826</td>\n",
              "      <td>5.0</td>\n",
              "    </tr>\n",
              "    <tr>\n",
              "      <th>62468</th>\n",
              "      <td>Natural Born Killers (1994)</td>\n",
              "      <td>600</td>\n",
              "      <td>4.0</td>\n",
              "    </tr>\n",
              "    <tr>\n",
              "      <th>62498</th>\n",
              "      <td>Natural Born Killers (1994)</td>\n",
              "      <td>826</td>\n",
              "      <td>5.0</td>\n",
              "    </tr>\n",
              "    <tr>\n",
              "      <th>84312</th>\n",
              "      <td>Star Trek: First Contact (1996)</td>\n",
              "      <td>8</td>\n",
              "      <td>5.0</td>\n",
              "    </tr>\n",
              "  </tbody>\n",
              "</table>\n",
              "</div>\n",
              "    <div class=\"colab-df-buttons\">\n",
              "\n",
              "  <div class=\"colab-df-container\">\n",
              "    <button class=\"colab-df-convert\" onclick=\"convertToInteractive('df-c3216c59-fbb9-40a3-8f1a-38eae5f2332f')\"\n",
              "            title=\"Convert this dataframe to an interactive table.\"\n",
              "            style=\"display:none;\">\n",
              "\n",
              "  <svg xmlns=\"http://www.w3.org/2000/svg\" height=\"24px\" viewBox=\"0 -960 960 960\">\n",
              "    <path d=\"M120-120v-720h720v720H120Zm60-500h600v-160H180v160Zm220 220h160v-160H400v160Zm0 220h160v-160H400v160ZM180-400h160v-160H180v160Zm440 0h160v-160H620v160ZM180-180h160v-160H180v160Zm440 0h160v-160H620v160Z\"/>\n",
              "  </svg>\n",
              "    </button>\n",
              "\n",
              "  <style>\n",
              "    .colab-df-container {\n",
              "      display:flex;\n",
              "      gap: 12px;\n",
              "    }\n",
              "\n",
              "    .colab-df-convert {\n",
              "      background-color: #E8F0FE;\n",
              "      border: none;\n",
              "      border-radius: 50%;\n",
              "      cursor: pointer;\n",
              "      display: none;\n",
              "      fill: #1967D2;\n",
              "      height: 32px;\n",
              "      padding: 0 0 0 0;\n",
              "      width: 32px;\n",
              "    }\n",
              "\n",
              "    .colab-df-convert:hover {\n",
              "      background-color: #E2EBFA;\n",
              "      box-shadow: 0px 1px 2px rgba(60, 64, 67, 0.3), 0px 1px 3px 1px rgba(60, 64, 67, 0.15);\n",
              "      fill: #174EA6;\n",
              "    }\n",
              "\n",
              "    .colab-df-buttons div {\n",
              "      margin-bottom: 4px;\n",
              "    }\n",
              "\n",
              "    [theme=dark] .colab-df-convert {\n",
              "      background-color: #3B4455;\n",
              "      fill: #D2E3FC;\n",
              "    }\n",
              "\n",
              "    [theme=dark] .colab-df-convert:hover {\n",
              "      background-color: #434B5C;\n",
              "      box-shadow: 0px 1px 3px 1px rgba(0, 0, 0, 0.15);\n",
              "      filter: drop-shadow(0px 1px 2px rgba(0, 0, 0, 0.3));\n",
              "      fill: #FFFFFF;\n",
              "    }\n",
              "  </style>\n",
              "\n",
              "    <script>\n",
              "      const buttonEl =\n",
              "        document.querySelector('#df-c3216c59-fbb9-40a3-8f1a-38eae5f2332f button.colab-df-convert');\n",
              "      buttonEl.style.display =\n",
              "        google.colab.kernel.accessAllowed ? 'block' : 'none';\n",
              "\n",
              "      async function convertToInteractive(key) {\n",
              "        const element = document.querySelector('#df-c3216c59-fbb9-40a3-8f1a-38eae5f2332f');\n",
              "        const dataTable =\n",
              "          await google.colab.kernel.invokeFunction('convertToInteractive',\n",
              "                                                    [key], {});\n",
              "        if (!dataTable) return;\n",
              "\n",
              "        const docLinkHtml = 'Like what you see? Visit the ' +\n",
              "          '<a target=\"_blank\" href=https://colab.research.google.com/notebooks/data_table.ipynb>data table notebook</a>'\n",
              "          + ' to learn more about interactive tables.';\n",
              "        element.innerHTML = '';\n",
              "        dataTable['output_type'] = 'display_data';\n",
              "        await google.colab.output.renderOutput(dataTable, element);\n",
              "        const docLink = document.createElement('div');\n",
              "        docLink.innerHTML = docLinkHtml;\n",
              "        element.appendChild(docLink);\n",
              "      }\n",
              "    </script>\n",
              "  </div>\n",
              "\n",
              "\n",
              "<div id=\"df-9122477d-ce72-4557-b718-8f93494c605b\">\n",
              "  <button class=\"colab-df-quickchart\" onclick=\"quickchart('df-9122477d-ce72-4557-b718-8f93494c605b')\"\n",
              "            title=\"Suggest charts\"\n",
              "            style=\"display:none;\">\n",
              "\n",
              "<svg xmlns=\"http://www.w3.org/2000/svg\" height=\"24px\"viewBox=\"0 0 24 24\"\n",
              "     width=\"24px\">\n",
              "    <g>\n",
              "        <path d=\"M19 3H5c-1.1 0-2 .9-2 2v14c0 1.1.9 2 2 2h14c1.1 0 2-.9 2-2V5c0-1.1-.9-2-2-2zM9 17H7v-7h2v7zm4 0h-2V7h2v10zm4 0h-2v-4h2v4z\"/>\n",
              "    </g>\n",
              "</svg>\n",
              "  </button>\n",
              "\n",
              "<style>\n",
              "  .colab-df-quickchart {\n",
              "      --bg-color: #E8F0FE;\n",
              "      --fill-color: #1967D2;\n",
              "      --hover-bg-color: #E2EBFA;\n",
              "      --hover-fill-color: #174EA6;\n",
              "      --disabled-fill-color: #AAA;\n",
              "      --disabled-bg-color: #DDD;\n",
              "  }\n",
              "\n",
              "  [theme=dark] .colab-df-quickchart {\n",
              "      --bg-color: #3B4455;\n",
              "      --fill-color: #D2E3FC;\n",
              "      --hover-bg-color: #434B5C;\n",
              "      --hover-fill-color: #FFFFFF;\n",
              "      --disabled-bg-color: #3B4455;\n",
              "      --disabled-fill-color: #666;\n",
              "  }\n",
              "\n",
              "  .colab-df-quickchart {\n",
              "    background-color: var(--bg-color);\n",
              "    border: none;\n",
              "    border-radius: 50%;\n",
              "    cursor: pointer;\n",
              "    display: none;\n",
              "    fill: var(--fill-color);\n",
              "    height: 32px;\n",
              "    padding: 0;\n",
              "    width: 32px;\n",
              "  }\n",
              "\n",
              "  .colab-df-quickchart:hover {\n",
              "    background-color: var(--hover-bg-color);\n",
              "    box-shadow: 0 1px 2px rgba(60, 64, 67, 0.3), 0 1px 3px 1px rgba(60, 64, 67, 0.15);\n",
              "    fill: var(--button-hover-fill-color);\n",
              "  }\n",
              "\n",
              "  .colab-df-quickchart-complete:disabled,\n",
              "  .colab-df-quickchart-complete:disabled:hover {\n",
              "    background-color: var(--disabled-bg-color);\n",
              "    fill: var(--disabled-fill-color);\n",
              "    box-shadow: none;\n",
              "  }\n",
              "\n",
              "  .colab-df-spinner {\n",
              "    border: 2px solid var(--fill-color);\n",
              "    border-color: transparent;\n",
              "    border-bottom-color: var(--fill-color);\n",
              "    animation:\n",
              "      spin 1s steps(1) infinite;\n",
              "  }\n",
              "\n",
              "  @keyframes spin {\n",
              "    0% {\n",
              "      border-color: transparent;\n",
              "      border-bottom-color: var(--fill-color);\n",
              "      border-left-color: var(--fill-color);\n",
              "    }\n",
              "    20% {\n",
              "      border-color: transparent;\n",
              "      border-left-color: var(--fill-color);\n",
              "      border-top-color: var(--fill-color);\n",
              "    }\n",
              "    30% {\n",
              "      border-color: transparent;\n",
              "      border-left-color: var(--fill-color);\n",
              "      border-top-color: var(--fill-color);\n",
              "      border-right-color: var(--fill-color);\n",
              "    }\n",
              "    40% {\n",
              "      border-color: transparent;\n",
              "      border-right-color: var(--fill-color);\n",
              "      border-top-color: var(--fill-color);\n",
              "    }\n",
              "    60% {\n",
              "      border-color: transparent;\n",
              "      border-right-color: var(--fill-color);\n",
              "    }\n",
              "    80% {\n",
              "      border-color: transparent;\n",
              "      border-right-color: var(--fill-color);\n",
              "      border-bottom-color: var(--fill-color);\n",
              "    }\n",
              "    90% {\n",
              "      border-color: transparent;\n",
              "      border-bottom-color: var(--fill-color);\n",
              "    }\n",
              "  }\n",
              "</style>\n",
              "\n",
              "  <script>\n",
              "    async function quickchart(key) {\n",
              "      const quickchartButtonEl =\n",
              "        document.querySelector('#' + key + ' button');\n",
              "      quickchartButtonEl.disabled = true;  // To prevent multiple clicks.\n",
              "      quickchartButtonEl.classList.add('colab-df-spinner');\n",
              "      try {\n",
              "        const charts = await google.colab.kernel.invokeFunction(\n",
              "            'suggestCharts', [key], {});\n",
              "      } catch (error) {\n",
              "        console.error('Error during call to suggestCharts:', error);\n",
              "      }\n",
              "      quickchartButtonEl.classList.remove('colab-df-spinner');\n",
              "      quickchartButtonEl.classList.add('colab-df-quickchart-complete');\n",
              "    }\n",
              "    (() => {\n",
              "      let quickchartButtonEl =\n",
              "        document.querySelector('#df-9122477d-ce72-4557-b718-8f93494c605b button');\n",
              "      quickchartButtonEl.style.display =\n",
              "        google.colab.kernel.accessAllowed ? 'block' : 'none';\n",
              "    })();\n",
              "  </script>\n",
              "</div>\n",
              "\n",
              "  <div id=\"id_faf5e489-056f-4051-a6ab-d53aab26e14d\">\n",
              "    <style>\n",
              "      .colab-df-generate {\n",
              "        background-color: #E8F0FE;\n",
              "        border: none;\n",
              "        border-radius: 50%;\n",
              "        cursor: pointer;\n",
              "        display: none;\n",
              "        fill: #1967D2;\n",
              "        height: 32px;\n",
              "        padding: 0 0 0 0;\n",
              "        width: 32px;\n",
              "      }\n",
              "\n",
              "      .colab-df-generate:hover {\n",
              "        background-color: #E2EBFA;\n",
              "        box-shadow: 0px 1px 2px rgba(60, 64, 67, 0.3), 0px 1px 3px 1px rgba(60, 64, 67, 0.15);\n",
              "        fill: #174EA6;\n",
              "      }\n",
              "\n",
              "      [theme=dark] .colab-df-generate {\n",
              "        background-color: #3B4455;\n",
              "        fill: #D2E3FC;\n",
              "      }\n",
              "\n",
              "      [theme=dark] .colab-df-generate:hover {\n",
              "        background-color: #434B5C;\n",
              "        box-shadow: 0px 1px 3px 1px rgba(0, 0, 0, 0.15);\n",
              "        filter: drop-shadow(0px 1px 2px rgba(0, 0, 0, 0.3));\n",
              "        fill: #FFFFFF;\n",
              "      }\n",
              "    </style>\n",
              "    <button class=\"colab-df-generate\" onclick=\"generateWithVariable('user197_nn_ratings')\"\n",
              "            title=\"Generate code using this dataframe.\"\n",
              "            style=\"display:none;\">\n",
              "\n",
              "  <svg xmlns=\"http://www.w3.org/2000/svg\" height=\"24px\"viewBox=\"0 0 24 24\"\n",
              "       width=\"24px\">\n",
              "    <path d=\"M7,19H8.4L18.45,9,17,7.55,7,17.6ZM5,21V16.75L18.45,3.32a2,2,0,0,1,2.83,0l1.4,1.43a1.91,1.91,0,0,1,.58,1.4,1.91,1.91,0,0,1-.58,1.4L9.25,21ZM18.45,9,17,7.55Zm-12,3A5.31,5.31,0,0,0,4.9,8.1,5.31,5.31,0,0,0,1,6.5,5.31,5.31,0,0,0,4.9,4.9,5.31,5.31,0,0,0,6.5,1,5.31,5.31,0,0,0,8.1,4.9,5.31,5.31,0,0,0,12,6.5,5.46,5.46,0,0,0,6.5,12Z\"/>\n",
              "  </svg>\n",
              "    </button>\n",
              "    <script>\n",
              "      (() => {\n",
              "      const buttonEl =\n",
              "        document.querySelector('#id_faf5e489-056f-4051-a6ab-d53aab26e14d button.colab-df-generate');\n",
              "      buttonEl.style.display =\n",
              "        google.colab.kernel.accessAllowed ? 'block' : 'none';\n",
              "\n",
              "      buttonEl.onclick = () => {\n",
              "        google.colab.notebook.generateWithVariable('user197_nn_ratings');\n",
              "      }\n",
              "      })();\n",
              "    </script>\n",
              "  </div>\n",
              "\n",
              "    </div>\n",
              "  </div>\n"
            ],
            "application/vnd.google.colaboratory.intrinsic+json": {
              "type": "dataframe",
              "variable_name": "user197_nn_ratings",
              "summary": "{\n  \"name\": \"user197_nn_ratings\",\n  \"rows\": 6,\n  \"fields\": [\n    {\n      \"column\": \"title\",\n      \"properties\": {\n        \"dtype\": \"string\",\n        \"num_unique_values\": 5,\n        \"samples\": [\n          \"Die Hard (1988)\",\n          \"Star Trek: First Contact (1996)\",\n          \"Heavy Metal (1981)\"\n        ],\n        \"semantic_type\": \"\",\n        \"description\": \"\"\n      }\n    },\n    {\n      \"column\": \"user_id\",\n      \"properties\": {\n        \"dtype\": \"number\",\n        \"std\": 402,\n        \"min\": 8,\n        \"max\": 826,\n        \"num_unique_values\": 3,\n        \"samples\": [\n          826,\n          8,\n          600\n        ],\n        \"semantic_type\": \"\",\n        \"description\": \"\"\n      }\n    },\n    {\n      \"column\": \"rating\",\n      \"properties\": {\n        \"dtype\": \"number\",\n        \"std\": 0.408248290463863,\n        \"min\": 4.0,\n        \"max\": 5.0,\n        \"num_unique_values\": 2,\n        \"samples\": [\n          4.0,\n          5.0\n        ],\n        \"semantic_type\": \"\",\n        \"description\": \"\"\n      }\n    }\n  ]\n}"
            }
          },
          "metadata": {},
          "execution_count": 66
        }
      ]
    },
    {
      "cell_type": "markdown",
      "source": [
        "Only one movie suggested to user_id 197 was rated by at least two of the neighbors. All other suggested movies were rated by a single neighbor. This may throw off the accuracy of the predictions since there is not a concensus on ratings per movie."
      ],
      "metadata": {
        "id": "VOrBbiOc1Kz6"
      }
    },
    {
      "cell_type": "markdown",
      "source": [
        "**User_id Recommendations by Recommender System**\n",
        "\n",
        "Below is a print out of the movie results per user_id by recommender system."
      ],
      "metadata": {
        "id": "M0b7k9TT-ZTh"
      }
    },
    {
      "cell_type": "code",
      "source": [
        "# user_id 5's content based recommendations\n",
        "id5_content"
      ],
      "metadata": {
        "colab": {
          "base_uri": "https://localhost:8080/"
        },
        "id": "Pjdw46JR-gPg",
        "outputId": "bb958808-59a8-418e-fdcc-f4d300757ed4"
      },
      "execution_count": 67,
      "outputs": [
        {
          "output_type": "execute_result",
          "data": {
            "text/plain": [
              "['Army of Darkness (1993)',\n",
              " 'Evil Dead II (1987)',\n",
              " 'Faster Pussycat! Kill! Kill! (1965)',\n",
              " 'Cowboy Way, The (1994)',\n",
              " 'House Arrest (1996)']"
            ]
          },
          "metadata": {},
          "execution_count": 67
        }
      ]
    },
    {
      "cell_type": "code",
      "source": [
        "# user_id 5's content based recommendations\n",
        "id5_colab"
      ],
      "metadata": {
        "colab": {
          "base_uri": "https://localhost:8080/"
        },
        "id": "bE27GYow-37i",
        "outputId": "e68c829c-2876-4ec4-fe4e-d4a3cbf0afda"
      },
      "execution_count": 68,
      "outputs": [
        {
          "output_type": "execute_result",
          "data": {
            "text/plain": [
              "['Terminator 2: Judgment Day (1991)',\n",
              " 'Godfather, The (1972)',\n",
              " 'Dr. Strangelove or: How I Learned to Stop Worrying and Love the Bomb (1963)',\n",
              " 'L.A. Confidential (1997)',\n",
              " 'Chasing Amy (1997)']"
            ]
          },
          "metadata": {},
          "execution_count": 68
        }
      ]
    },
    {
      "cell_type": "code",
      "source": [
        "# user_id 197's content based recommendations\n",
        "id197_content"
      ],
      "metadata": {
        "colab": {
          "base_uri": "https://localhost:8080/"
        },
        "id": "XBgwnpmb-_Us",
        "outputId": "7b909889-35cb-4814-ef50-e6aeaabc1763"
      },
      "execution_count": 69,
      "outputs": [
        {
          "output_type": "execute_result",
          "data": {
            "text/plain": [
              "[\"Smilla's Sense of Snow (1997)\",\n",
              " 'Spawn (1997)',\n",
              " 'Twister (1996)',\n",
              " 'Tokyo Fist (1995)',\n",
              " 'Mirage (1995)']"
            ]
          },
          "metadata": {},
          "execution_count": 69
        }
      ]
    },
    {
      "cell_type": "code",
      "source": [
        "# user_id 197's content based recommendations\n",
        "id197_colab"
      ],
      "metadata": {
        "colab": {
          "base_uri": "https://localhost:8080/"
        },
        "id": "StBDRups_EeV",
        "outputId": "8573c12a-2b18-4026-e840-1436d3e55df9"
      },
      "execution_count": 70,
      "outputs": [
        {
          "output_type": "execute_result",
          "data": {
            "text/plain": [
              "['Natural Born Killers (1994)',\n",
              " 'Star Trek: First Contact (1996)',\n",
              " 'Die Hard (1988)',\n",
              " 'Heavy Metal (1981)',\n",
              " 'Alien: Resurrection (1997)']"
            ]
          },
          "metadata": {},
          "execution_count": 70
        }
      ]
    },
    {
      "cell_type": "markdown",
      "source": [
        "# Summary of Results"
      ],
      "metadata": {
        "id": "ZFKqrQlV85O4"
      }
    },
    {
      "cell_type": "markdown",
      "source": [
        "When reviewing both the recommendations provided by the Content Based Recommender System and by the Collaborative Filtering Recommender System, the results made sense for how the models were predicting movies the user would like.\n",
        "\n",
        "Of note is that each recommender system provided completely different movie recommendations for each user. No movies overlapped between the movies suggested for user_id 5 by the content based or collaborative filtering recommenders, and the same goes for user_id 197.\n",
        "\n",
        "**Content Based Recommender System**\n",
        "\n",
        "The recommendations from this model came from analyzing what genre of movies the user preferred. For the first user, the recommended movies included genres from the user's top six preferences. The recommendations for the second user all contained the genres of the user's top five preferences. Which means all of the genres of the recommended movies were found within each user's top 6 preferred genres. (Note: further testing may reveal genre's further down a user's preferred genres.)\n",
        "\n",
        "These movie suggestions will likely match well with movies the user will view in the future, and the user will likely enjoy the movies. However, if the user has been moving away from genres they liked in the past, these suggestions will not be as fitting or will seem boring to the user.\n",
        "\n",
        "**Collaborative Filtering Recommender System**\n",
        "\n",
        "The recommendations from this this model included both genres in the user's top preferences as well as in the top preferences of users that were rated similar to the user. When reviewing the list of movie suggestions versus the users genre preferences vs the nearest neighbors preferences, the suggested movies's genre ratings were very similar to the results provided by the content-based recommender if the neighbor's preferences strongly aligned with the user's preferences. However, there were still novel genre combinations in these instances.\n",
        "\n",
        "Although the second user tested with the collaborative filtering recommender system had neighbors with very similar genre preferences, only one movie was rated by at least two of the neighbors. The model would likely return better aligned recommendations if it could be tuned so it only suggests movies that have been rated by at least two neighbors.\n",
        "\n",
        "Of note, this model was trained by looking at 3 nearest neighbors. By including more neighbors, the results may become more varied across the number of genres seen in the suggested movies. As mentioned earlier, the first couple of neighbors were fairly similar to the users tested, but even among three neighbors, the preferences become varied and introduce genres not listed as highly preferred by the user. Increasing the number of neighbors may help provide more novel recommendations to the user, but it may also provide results too far from the user's preference. This is a number that should be continuously tested to ensure the right value is being used."
      ],
      "metadata": {
        "id": "-qyhhz5V8-W5"
      }
    },
    {
      "cell_type": "code",
      "source": [],
      "metadata": {
        "id": "f0_WHRAeB5nM"
      },
      "execution_count": null,
      "outputs": []
    }
  ]
}